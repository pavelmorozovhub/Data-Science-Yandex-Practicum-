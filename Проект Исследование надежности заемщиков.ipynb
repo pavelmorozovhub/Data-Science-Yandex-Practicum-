{
 "cells": [
  {
   "cell_type": "markdown",
   "id": "9becae42",
   "metadata": {
    "deletable": false,
    "editable": false,
    "id": "c81daeeb"
   },
   "source": [
    "# Исследование надежности заемщиков\n"
   ]
  },
  {
   "cell_type": "markdown",
   "id": "91748f32",
   "metadata": {
    "deletable": false,
    "editable": false,
    "id": "827c20bf"
   },
   "source": [
    "Во второй части проекта вы выполните шаги 3 и 4. Их вручную проверит ревьюер.\n",
    "Чтобы вам не пришлось писать код заново для шагов 1 и 2, мы добавили авторские решения в ячейки с кодом. \n",
    "\n"
   ]
  },
  {
   "cell_type": "markdown",
   "id": "2b32fbca",
   "metadata": {
    "deletable": false,
    "editable": false,
    "id": "744d7639"
   },
   "source": [
    "## Откройте таблицу и изучите общую информацию о данных"
   ]
  },
  {
   "cell_type": "markdown",
   "id": "9f1cf8cf",
   "metadata": {
    "deletable": false,
    "editable": false,
    "id": "e7a14c31"
   },
   "source": [
    "**Задание 1. Импортируйте библиотеку pandas. Считайте данные из csv-файла в датафрейм и сохраните в переменную `data`. Путь к файлу:**\n",
    "\n",
    "`/datasets/data.csv`"
   ]
  },
  {
   "cell_type": "code",
   "execution_count": 1,
   "id": "555f3456",
   "metadata": {
    "deletable": false,
    "id": "7bcf75c9"
   },
   "outputs": [],
   "source": [
    "import pandas as pd\n",
    "\n",
    "try:\n",
    "    data = pd.read_csv('/datasets/data.csv')\n",
    "except:\n",
    "    data = pd.read_csv('https://code.s3.yandex.net/datasets/data.csv')"
   ]
  },
  {
   "cell_type": "markdown",
   "id": "eeda65a6",
   "metadata": {
    "deletable": false,
    "editable": false,
    "id": "b8038fe3"
   },
   "source": [
    "**Задание 2. Выведите первые 20 строчек датафрейма `data` на экран.**"
   ]
  },
  {
   "cell_type": "code",
   "execution_count": 2,
   "id": "adf05be5",
   "metadata": {
    "deletable": false,
    "id": "2a7cab99",
    "outputId": "1a8f3ef2-d323-4ec2-ddf7-89670b5944c4"
   },
   "outputs": [
    {
     "data": {
      "text/html": [
       "<div>\n",
       "<style scoped>\n",
       "    .dataframe tbody tr th:only-of-type {\n",
       "        vertical-align: middle;\n",
       "    }\n",
       "\n",
       "    .dataframe tbody tr th {\n",
       "        vertical-align: top;\n",
       "    }\n",
       "\n",
       "    .dataframe thead th {\n",
       "        text-align: right;\n",
       "    }\n",
       "</style>\n",
       "<table border=\"1\" class=\"dataframe\">\n",
       "  <thead>\n",
       "    <tr style=\"text-align: right;\">\n",
       "      <th></th>\n",
       "      <th>children</th>\n",
       "      <th>days_employed</th>\n",
       "      <th>dob_years</th>\n",
       "      <th>education</th>\n",
       "      <th>education_id</th>\n",
       "      <th>family_status</th>\n",
       "      <th>family_status_id</th>\n",
       "      <th>gender</th>\n",
       "      <th>income_type</th>\n",
       "      <th>debt</th>\n",
       "      <th>total_income</th>\n",
       "      <th>purpose</th>\n",
       "    </tr>\n",
       "  </thead>\n",
       "  <tbody>\n",
       "    <tr>\n",
       "      <th>0</th>\n",
       "      <td>1</td>\n",
       "      <td>-8437.673028</td>\n",
       "      <td>42</td>\n",
       "      <td>высшее</td>\n",
       "      <td>0</td>\n",
       "      <td>женат / замужем</td>\n",
       "      <td>0</td>\n",
       "      <td>F</td>\n",
       "      <td>сотрудник</td>\n",
       "      <td>0</td>\n",
       "      <td>253875.639453</td>\n",
       "      <td>покупка жилья</td>\n",
       "    </tr>\n",
       "    <tr>\n",
       "      <th>1</th>\n",
       "      <td>1</td>\n",
       "      <td>-4024.803754</td>\n",
       "      <td>36</td>\n",
       "      <td>среднее</td>\n",
       "      <td>1</td>\n",
       "      <td>женат / замужем</td>\n",
       "      <td>0</td>\n",
       "      <td>F</td>\n",
       "      <td>сотрудник</td>\n",
       "      <td>0</td>\n",
       "      <td>112080.014102</td>\n",
       "      <td>приобретение автомобиля</td>\n",
       "    </tr>\n",
       "    <tr>\n",
       "      <th>2</th>\n",
       "      <td>0</td>\n",
       "      <td>-5623.422610</td>\n",
       "      <td>33</td>\n",
       "      <td>Среднее</td>\n",
       "      <td>1</td>\n",
       "      <td>женат / замужем</td>\n",
       "      <td>0</td>\n",
       "      <td>M</td>\n",
       "      <td>сотрудник</td>\n",
       "      <td>0</td>\n",
       "      <td>145885.952297</td>\n",
       "      <td>покупка жилья</td>\n",
       "    </tr>\n",
       "    <tr>\n",
       "      <th>3</th>\n",
       "      <td>3</td>\n",
       "      <td>-4124.747207</td>\n",
       "      <td>32</td>\n",
       "      <td>среднее</td>\n",
       "      <td>1</td>\n",
       "      <td>женат / замужем</td>\n",
       "      <td>0</td>\n",
       "      <td>M</td>\n",
       "      <td>сотрудник</td>\n",
       "      <td>0</td>\n",
       "      <td>267628.550329</td>\n",
       "      <td>дополнительное образование</td>\n",
       "    </tr>\n",
       "    <tr>\n",
       "      <th>4</th>\n",
       "      <td>0</td>\n",
       "      <td>340266.072047</td>\n",
       "      <td>53</td>\n",
       "      <td>среднее</td>\n",
       "      <td>1</td>\n",
       "      <td>гражданский брак</td>\n",
       "      <td>1</td>\n",
       "      <td>F</td>\n",
       "      <td>пенсионер</td>\n",
       "      <td>0</td>\n",
       "      <td>158616.077870</td>\n",
       "      <td>сыграть свадьбу</td>\n",
       "    </tr>\n",
       "    <tr>\n",
       "      <th>5</th>\n",
       "      <td>0</td>\n",
       "      <td>-926.185831</td>\n",
       "      <td>27</td>\n",
       "      <td>высшее</td>\n",
       "      <td>0</td>\n",
       "      <td>гражданский брак</td>\n",
       "      <td>1</td>\n",
       "      <td>M</td>\n",
       "      <td>компаньон</td>\n",
       "      <td>0</td>\n",
       "      <td>255763.565419</td>\n",
       "      <td>покупка жилья</td>\n",
       "    </tr>\n",
       "    <tr>\n",
       "      <th>6</th>\n",
       "      <td>0</td>\n",
       "      <td>-2879.202052</td>\n",
       "      <td>43</td>\n",
       "      <td>высшее</td>\n",
       "      <td>0</td>\n",
       "      <td>женат / замужем</td>\n",
       "      <td>0</td>\n",
       "      <td>F</td>\n",
       "      <td>компаньон</td>\n",
       "      <td>0</td>\n",
       "      <td>240525.971920</td>\n",
       "      <td>операции с жильем</td>\n",
       "    </tr>\n",
       "    <tr>\n",
       "      <th>7</th>\n",
       "      <td>0</td>\n",
       "      <td>-152.779569</td>\n",
       "      <td>50</td>\n",
       "      <td>СРЕДНЕЕ</td>\n",
       "      <td>1</td>\n",
       "      <td>женат / замужем</td>\n",
       "      <td>0</td>\n",
       "      <td>M</td>\n",
       "      <td>сотрудник</td>\n",
       "      <td>0</td>\n",
       "      <td>135823.934197</td>\n",
       "      <td>образование</td>\n",
       "    </tr>\n",
       "    <tr>\n",
       "      <th>8</th>\n",
       "      <td>2</td>\n",
       "      <td>-6929.865299</td>\n",
       "      <td>35</td>\n",
       "      <td>ВЫСШЕЕ</td>\n",
       "      <td>0</td>\n",
       "      <td>гражданский брак</td>\n",
       "      <td>1</td>\n",
       "      <td>F</td>\n",
       "      <td>сотрудник</td>\n",
       "      <td>0</td>\n",
       "      <td>95856.832424</td>\n",
       "      <td>на проведение свадьбы</td>\n",
       "    </tr>\n",
       "    <tr>\n",
       "      <th>9</th>\n",
       "      <td>0</td>\n",
       "      <td>-2188.756445</td>\n",
       "      <td>41</td>\n",
       "      <td>среднее</td>\n",
       "      <td>1</td>\n",
       "      <td>женат / замужем</td>\n",
       "      <td>0</td>\n",
       "      <td>M</td>\n",
       "      <td>сотрудник</td>\n",
       "      <td>0</td>\n",
       "      <td>144425.938277</td>\n",
       "      <td>покупка жилья для семьи</td>\n",
       "    </tr>\n",
       "    <tr>\n",
       "      <th>10</th>\n",
       "      <td>2</td>\n",
       "      <td>-4171.483647</td>\n",
       "      <td>36</td>\n",
       "      <td>высшее</td>\n",
       "      <td>0</td>\n",
       "      <td>женат / замужем</td>\n",
       "      <td>0</td>\n",
       "      <td>M</td>\n",
       "      <td>компаньон</td>\n",
       "      <td>0</td>\n",
       "      <td>113943.491460</td>\n",
       "      <td>покупка недвижимости</td>\n",
       "    </tr>\n",
       "    <tr>\n",
       "      <th>11</th>\n",
       "      <td>0</td>\n",
       "      <td>-792.701887</td>\n",
       "      <td>40</td>\n",
       "      <td>среднее</td>\n",
       "      <td>1</td>\n",
       "      <td>женат / замужем</td>\n",
       "      <td>0</td>\n",
       "      <td>F</td>\n",
       "      <td>сотрудник</td>\n",
       "      <td>0</td>\n",
       "      <td>77069.234271</td>\n",
       "      <td>покупка коммерческой недвижимости</td>\n",
       "    </tr>\n",
       "    <tr>\n",
       "      <th>12</th>\n",
       "      <td>0</td>\n",
       "      <td>NaN</td>\n",
       "      <td>65</td>\n",
       "      <td>среднее</td>\n",
       "      <td>1</td>\n",
       "      <td>гражданский брак</td>\n",
       "      <td>1</td>\n",
       "      <td>M</td>\n",
       "      <td>пенсионер</td>\n",
       "      <td>0</td>\n",
       "      <td>NaN</td>\n",
       "      <td>сыграть свадьбу</td>\n",
       "    </tr>\n",
       "    <tr>\n",
       "      <th>13</th>\n",
       "      <td>0</td>\n",
       "      <td>-1846.641941</td>\n",
       "      <td>54</td>\n",
       "      <td>неоконченное высшее</td>\n",
       "      <td>2</td>\n",
       "      <td>женат / замужем</td>\n",
       "      <td>0</td>\n",
       "      <td>F</td>\n",
       "      <td>сотрудник</td>\n",
       "      <td>0</td>\n",
       "      <td>130458.228857</td>\n",
       "      <td>приобретение автомобиля</td>\n",
       "    </tr>\n",
       "    <tr>\n",
       "      <th>14</th>\n",
       "      <td>0</td>\n",
       "      <td>-1844.956182</td>\n",
       "      <td>56</td>\n",
       "      <td>высшее</td>\n",
       "      <td>0</td>\n",
       "      <td>гражданский брак</td>\n",
       "      <td>1</td>\n",
       "      <td>F</td>\n",
       "      <td>компаньон</td>\n",
       "      <td>1</td>\n",
       "      <td>165127.911772</td>\n",
       "      <td>покупка жилой недвижимости</td>\n",
       "    </tr>\n",
       "    <tr>\n",
       "      <th>15</th>\n",
       "      <td>1</td>\n",
       "      <td>-972.364419</td>\n",
       "      <td>26</td>\n",
       "      <td>среднее</td>\n",
       "      <td>1</td>\n",
       "      <td>женат / замужем</td>\n",
       "      <td>0</td>\n",
       "      <td>F</td>\n",
       "      <td>сотрудник</td>\n",
       "      <td>0</td>\n",
       "      <td>116820.904450</td>\n",
       "      <td>строительство собственной недвижимости</td>\n",
       "    </tr>\n",
       "    <tr>\n",
       "      <th>16</th>\n",
       "      <td>0</td>\n",
       "      <td>-1719.934226</td>\n",
       "      <td>35</td>\n",
       "      <td>среднее</td>\n",
       "      <td>1</td>\n",
       "      <td>женат / замужем</td>\n",
       "      <td>0</td>\n",
       "      <td>F</td>\n",
       "      <td>сотрудник</td>\n",
       "      <td>0</td>\n",
       "      <td>289202.704229</td>\n",
       "      <td>недвижимость</td>\n",
       "    </tr>\n",
       "    <tr>\n",
       "      <th>17</th>\n",
       "      <td>0</td>\n",
       "      <td>-2369.999720</td>\n",
       "      <td>33</td>\n",
       "      <td>высшее</td>\n",
       "      <td>0</td>\n",
       "      <td>гражданский брак</td>\n",
       "      <td>1</td>\n",
       "      <td>M</td>\n",
       "      <td>сотрудник</td>\n",
       "      <td>0</td>\n",
       "      <td>90410.586745</td>\n",
       "      <td>строительство недвижимости</td>\n",
       "    </tr>\n",
       "    <tr>\n",
       "      <th>18</th>\n",
       "      <td>0</td>\n",
       "      <td>400281.136913</td>\n",
       "      <td>53</td>\n",
       "      <td>среднее</td>\n",
       "      <td>1</td>\n",
       "      <td>вдовец / вдова</td>\n",
       "      <td>2</td>\n",
       "      <td>F</td>\n",
       "      <td>пенсионер</td>\n",
       "      <td>0</td>\n",
       "      <td>56823.777243</td>\n",
       "      <td>на покупку подержанного автомобиля</td>\n",
       "    </tr>\n",
       "    <tr>\n",
       "      <th>19</th>\n",
       "      <td>0</td>\n",
       "      <td>-10038.818549</td>\n",
       "      <td>48</td>\n",
       "      <td>СРЕДНЕЕ</td>\n",
       "      <td>1</td>\n",
       "      <td>в разводе</td>\n",
       "      <td>3</td>\n",
       "      <td>F</td>\n",
       "      <td>сотрудник</td>\n",
       "      <td>0</td>\n",
       "      <td>242831.107982</td>\n",
       "      <td>на покупку своего автомобиля</td>\n",
       "    </tr>\n",
       "  </tbody>\n",
       "</table>\n",
       "</div>"
      ],
      "text/plain": [
       "    children  days_employed  dob_years            education  education_id  \\\n",
       "0          1   -8437.673028         42               высшее             0   \n",
       "1          1   -4024.803754         36              среднее             1   \n",
       "2          0   -5623.422610         33              Среднее             1   \n",
       "3          3   -4124.747207         32              среднее             1   \n",
       "4          0  340266.072047         53              среднее             1   \n",
       "5          0    -926.185831         27               высшее             0   \n",
       "6          0   -2879.202052         43               высшее             0   \n",
       "7          0    -152.779569         50              СРЕДНЕЕ             1   \n",
       "8          2   -6929.865299         35               ВЫСШЕЕ             0   \n",
       "9          0   -2188.756445         41              среднее             1   \n",
       "10         2   -4171.483647         36               высшее             0   \n",
       "11         0    -792.701887         40              среднее             1   \n",
       "12         0            NaN         65              среднее             1   \n",
       "13         0   -1846.641941         54  неоконченное высшее             2   \n",
       "14         0   -1844.956182         56               высшее             0   \n",
       "15         1    -972.364419         26              среднее             1   \n",
       "16         0   -1719.934226         35              среднее             1   \n",
       "17         0   -2369.999720         33               высшее             0   \n",
       "18         0  400281.136913         53              среднее             1   \n",
       "19         0  -10038.818549         48              СРЕДНЕЕ             1   \n",
       "\n",
       "       family_status  family_status_id gender income_type  debt  \\\n",
       "0    женат / замужем                 0      F   сотрудник     0   \n",
       "1    женат / замужем                 0      F   сотрудник     0   \n",
       "2    женат / замужем                 0      M   сотрудник     0   \n",
       "3    женат / замужем                 0      M   сотрудник     0   \n",
       "4   гражданский брак                 1      F   пенсионер     0   \n",
       "5   гражданский брак                 1      M   компаньон     0   \n",
       "6    женат / замужем                 0      F   компаньон     0   \n",
       "7    женат / замужем                 0      M   сотрудник     0   \n",
       "8   гражданский брак                 1      F   сотрудник     0   \n",
       "9    женат / замужем                 0      M   сотрудник     0   \n",
       "10   женат / замужем                 0      M   компаньон     0   \n",
       "11   женат / замужем                 0      F   сотрудник     0   \n",
       "12  гражданский брак                 1      M   пенсионер     0   \n",
       "13   женат / замужем                 0      F   сотрудник     0   \n",
       "14  гражданский брак                 1      F   компаньон     1   \n",
       "15   женат / замужем                 0      F   сотрудник     0   \n",
       "16   женат / замужем                 0      F   сотрудник     0   \n",
       "17  гражданский брак                 1      M   сотрудник     0   \n",
       "18    вдовец / вдова                 2      F   пенсионер     0   \n",
       "19         в разводе                 3      F   сотрудник     0   \n",
       "\n",
       "     total_income                                 purpose  \n",
       "0   253875.639453                           покупка жилья  \n",
       "1   112080.014102                 приобретение автомобиля  \n",
       "2   145885.952297                           покупка жилья  \n",
       "3   267628.550329              дополнительное образование  \n",
       "4   158616.077870                         сыграть свадьбу  \n",
       "5   255763.565419                           покупка жилья  \n",
       "6   240525.971920                       операции с жильем  \n",
       "7   135823.934197                             образование  \n",
       "8    95856.832424                   на проведение свадьбы  \n",
       "9   144425.938277                 покупка жилья для семьи  \n",
       "10  113943.491460                    покупка недвижимости  \n",
       "11   77069.234271       покупка коммерческой недвижимости  \n",
       "12            NaN                         сыграть свадьбу  \n",
       "13  130458.228857                 приобретение автомобиля  \n",
       "14  165127.911772              покупка жилой недвижимости  \n",
       "15  116820.904450  строительство собственной недвижимости  \n",
       "16  289202.704229                            недвижимость  \n",
       "17   90410.586745              строительство недвижимости  \n",
       "18   56823.777243      на покупку подержанного автомобиля  \n",
       "19  242831.107982            на покупку своего автомобиля  "
      ]
     },
     "execution_count": 2,
     "metadata": {},
     "output_type": "execute_result"
    }
   ],
   "source": [
    "data.head(20)"
   ]
  },
  {
   "cell_type": "markdown",
   "id": "301b0930",
   "metadata": {
    "deletable": false,
    "editable": false,
    "id": "1c12e233"
   },
   "source": [
    "**Задание 3. Выведите основную информацию о датафрейме с помощью метода `info()`.**"
   ]
  },
  {
   "cell_type": "code",
   "execution_count": 3,
   "id": "d4dd59ed",
   "metadata": {
    "deletable": false,
    "id": "2b757bca",
    "outputId": "15376089-8dad-46c9-b520-c05248d43158"
   },
   "outputs": [
    {
     "name": "stdout",
     "output_type": "stream",
     "text": [
      "<class 'pandas.core.frame.DataFrame'>\n",
      "RangeIndex: 21525 entries, 0 to 21524\n",
      "Data columns (total 12 columns):\n",
      " #   Column            Non-Null Count  Dtype  \n",
      "---  ------            --------------  -----  \n",
      " 0   children          21525 non-null  int64  \n",
      " 1   days_employed     19351 non-null  float64\n",
      " 2   dob_years         21525 non-null  int64  \n",
      " 3   education         21525 non-null  object \n",
      " 4   education_id      21525 non-null  int64  \n",
      " 5   family_status     21525 non-null  object \n",
      " 6   family_status_id  21525 non-null  int64  \n",
      " 7   gender            21525 non-null  object \n",
      " 8   income_type       21525 non-null  object \n",
      " 9   debt              21525 non-null  int64  \n",
      " 10  total_income      19351 non-null  float64\n",
      " 11  purpose           21525 non-null  object \n",
      "dtypes: float64(2), int64(5), object(5)\n",
      "memory usage: 2.0+ MB\n"
     ]
    }
   ],
   "source": [
    "data.info()"
   ]
  },
  {
   "cell_type": "markdown",
   "id": "04d56956",
   "metadata": {
    "deletable": false,
    "editable": false,
    "id": "333ec665"
   },
   "source": [
    "## Предобработка данных"
   ]
  },
  {
   "cell_type": "markdown",
   "id": "575959e4",
   "metadata": {
    "deletable": false,
    "editable": false,
    "id": "02d92d53"
   },
   "source": [
    "### Удаление пропусков"
   ]
  },
  {
   "cell_type": "markdown",
   "id": "524e613f",
   "metadata": {
    "deletable": false,
    "editable": false,
    "id": "cd84967c"
   },
   "source": [
    "**Задание 4. Выведите количество пропущенных значений для каждого столбца. Используйте комбинацию двух методов.**"
   ]
  },
  {
   "cell_type": "code",
   "execution_count": 4,
   "id": "028f711e",
   "metadata": {
    "deletable": false,
    "id": "7f9b2309",
    "outputId": "81f4d817-781c-465c-ed15-91ce4446810d"
   },
   "outputs": [
    {
     "data": {
      "text/plain": [
       "children               0\n",
       "days_employed       2174\n",
       "dob_years              0\n",
       "education              0\n",
       "education_id           0\n",
       "family_status          0\n",
       "family_status_id       0\n",
       "gender                 0\n",
       "income_type            0\n",
       "debt                   0\n",
       "total_income        2174\n",
       "purpose                0\n",
       "dtype: int64"
      ]
     },
     "execution_count": 4,
     "metadata": {},
     "output_type": "execute_result"
    }
   ],
   "source": [
    "data.isna().sum()"
   ]
  },
  {
   "cell_type": "markdown",
   "id": "29159519",
   "metadata": {
    "deletable": false,
    "editable": false,
    "id": "db86e27b"
   },
   "source": [
    "**Задание 5. В двух столбцах есть пропущенные значения. Один из них — `days_employed`. Пропуски в этом столбце вы обработаете на следующем этапе. Другой столбец с пропущенными значениями — `total_income` — хранит данные о доходах. На сумму дохода сильнее всего влияет тип занятости, поэтому заполнить пропуски в этом столбце нужно медианным значением по каждому типу из столбца `income_type`. Например, у человека с типом занятости `сотрудник` пропуск в столбце `total_income` должен быть заполнен медианным доходом среди всех записей с тем же типом.**"
   ]
  },
  {
   "cell_type": "code",
   "execution_count": 5,
   "id": "2bf774b6",
   "metadata": {
    "deletable": false,
    "id": "42006a93"
   },
   "outputs": [],
   "source": [
    "for t in data['income_type'].unique():\n",
    "    data.loc[(data['income_type'] == t) & (data['total_income'].isna()), 'total_income'] = \\\n",
    "    data.loc[(data['income_type'] == t), 'total_income'].median()"
   ]
  },
  {
   "cell_type": "markdown",
   "id": "d519721f",
   "metadata": {
    "deletable": false,
    "editable": false,
    "id": "89da5ece"
   },
   "source": [
    "### Обработка аномальных значений"
   ]
  },
  {
   "cell_type": "markdown",
   "id": "69c35910",
   "metadata": {
    "deletable": false,
    "editable": false,
    "id": "57964554"
   },
   "source": [
    "**Задание 6. В данных могут встречаться артефакты (аномалии) — значения, которые не отражают действительность и появились по какой-то ошибке. таким артефактом будет отрицательное количество дней трудового стажа в столбце `days_employed`. Для реальных данных это нормально. Обработайте значения в этом столбце: замените все отрицательные значения положительными с помощью метода `abs()`.**"
   ]
  },
  {
   "cell_type": "code",
   "execution_count": 6,
   "id": "688c1b42",
   "metadata": {
    "deletable": false,
    "id": "f6f055bf"
   },
   "outputs": [],
   "source": [
    "data['days_employed'] = data['days_employed'].abs()"
   ]
  },
  {
   "cell_type": "markdown",
   "id": "c8dc5551",
   "metadata": {
    "deletable": false,
    "editable": false,
    "id": "6107dd2f"
   },
   "source": [
    "**Задание 7. Для каждого типа занятости выведите медианное значение трудового стажа `days_employed` в днях.**"
   ]
  },
  {
   "cell_type": "code",
   "execution_count": 7,
   "id": "6b5967dc",
   "metadata": {
    "deletable": false,
    "id": "85a5faf6",
    "outputId": "801ef80e-522b-4668-f34e-565af7432bcf"
   },
   "outputs": [
    {
     "data": {
      "text/plain": [
       "income_type\n",
       "безработный        366413.652744\n",
       "в декрете            3296.759962\n",
       "госслужащий          2689.368353\n",
       "компаньон            1547.382223\n",
       "пенсионер          365213.306266\n",
       "предприниматель       520.848083\n",
       "сотрудник            1574.202821\n",
       "студент               578.751554\n",
       "Name: days_employed, dtype: float64"
      ]
     },
     "execution_count": 7,
     "metadata": {},
     "output_type": "execute_result"
    }
   ],
   "source": [
    "data.groupby('income_type')['days_employed'].agg('median')"
   ]
  },
  {
   "cell_type": "markdown",
   "id": "15374943",
   "metadata": {
    "deletable": false,
    "editable": false,
    "id": "38d1a030"
   },
   "source": [
    "У двух типов (безработные и пенсионеры) получатся аномально большие значения. Исправить такие значения сложно, поэтому оставьте их как есть. Тем более этот столбец не понадобится вам для исследования."
   ]
  },
  {
   "cell_type": "markdown",
   "id": "7113d52b",
   "metadata": {
    "deletable": false,
    "editable": false,
    "id": "d8a9f147"
   },
   "source": [
    "**Задание 8. Выведите перечень уникальных значений столбца `children`.**"
   ]
  },
  {
   "cell_type": "code",
   "execution_count": 8,
   "id": "b5927ee6",
   "metadata": {
    "deletable": false,
    "id": "ef5056eb",
    "outputId": "6975b15c-7f95-4697-d16d-a0c79b657b03"
   },
   "outputs": [
    {
     "data": {
      "text/plain": [
       "array([ 1,  0,  3,  2, -1,  4, 20,  5])"
      ]
     },
     "execution_count": 8,
     "metadata": {},
     "output_type": "execute_result"
    }
   ],
   "source": [
    "data['children'].unique()"
   ]
  },
  {
   "cell_type": "markdown",
   "id": "7342e313",
   "metadata": {
    "deletable": false,
    "editable": false,
    "id": "40b9ebf2"
   },
   "source": [
    "**Задание 9. В столбце `children` есть два аномальных значения. Удалите строки, в которых встречаются такие аномальные значения из датафрейма `data`.**"
   ]
  },
  {
   "cell_type": "code",
   "execution_count": 9,
   "id": "83b55764",
   "metadata": {
    "deletable": false,
    "id": "3ff9801d"
   },
   "outputs": [],
   "source": [
    "data = data[(data['children'] != -1) & (data['children'] != 20)]"
   ]
  },
  {
   "cell_type": "markdown",
   "id": "d0276fcb",
   "metadata": {
    "deletable": false,
    "editable": false,
    "id": "bbc4d0ce"
   },
   "source": [
    "**Задание 10. Ещё раз выведите перечень уникальных значений столбца `children`, чтобы убедиться, что артефакты удалены.**"
   ]
  },
  {
   "cell_type": "code",
   "execution_count": 10,
   "id": "8bfd89be",
   "metadata": {
    "deletable": false,
    "id": "ad4fa8b7",
    "outputId": "b2097101-d49d-44d9-901b-32a65c9463d1"
   },
   "outputs": [
    {
     "data": {
      "text/plain": [
       "array([1, 0, 3, 2, 4, 5])"
      ]
     },
     "execution_count": 10,
     "metadata": {},
     "output_type": "execute_result"
    }
   ],
   "source": [
    "data['children'].unique()"
   ]
  },
  {
   "cell_type": "markdown",
   "id": "a66c7621",
   "metadata": {
    "deletable": false,
    "editable": false,
    "id": "75440b63"
   },
   "source": [
    "### Удаление пропусков (продолжение)"
   ]
  },
  {
   "cell_type": "markdown",
   "id": "b26a9c63",
   "metadata": {
    "deletable": false,
    "editable": false,
    "id": "f4ea573f"
   },
   "source": [
    "**Задание 11. Заполните пропуски в столбце `days_employed` медианными значениями по каждого типа занятости `income_type`.**"
   ]
  },
  {
   "cell_type": "code",
   "execution_count": 11,
   "id": "0b337627",
   "metadata": {
    "deletable": false,
    "id": "af6b1a7e"
   },
   "outputs": [],
   "source": [
    "for t in data['income_type'].unique():\n",
    "    data.loc[(data['income_type'] == t) & (data['days_employed'].isna()), 'days_employed'] = \\\n",
    "    data.loc[(data['income_type'] == t), 'days_employed'].median()"
   ]
  },
  {
   "cell_type": "markdown",
   "id": "aa2978d8",
   "metadata": {
    "deletable": false,
    "editable": false,
    "id": "2753f40d"
   },
   "source": [
    "**Задание 12. Убедитесь, что все пропуски заполнены. Проверьте себя и ещё раз выведите количество пропущенных значений для каждого столбца с помощью двух методов.**"
   ]
  },
  {
   "cell_type": "code",
   "execution_count": 12,
   "id": "97b7e74a",
   "metadata": {
    "deletable": false,
    "id": "55f78bc2",
    "outputId": "8da1e4e1-358e-4e87-98c9-f261bce0a7b2"
   },
   "outputs": [
    {
     "data": {
      "text/plain": [
       "children            0\n",
       "days_employed       0\n",
       "dob_years           0\n",
       "education           0\n",
       "education_id        0\n",
       "family_status       0\n",
       "family_status_id    0\n",
       "gender              0\n",
       "income_type         0\n",
       "debt                0\n",
       "total_income        0\n",
       "purpose             0\n",
       "dtype: int64"
      ]
     },
     "execution_count": 12,
     "metadata": {},
     "output_type": "execute_result"
    }
   ],
   "source": [
    "data.isna().sum()"
   ]
  },
  {
   "cell_type": "markdown",
   "id": "beed5e1f",
   "metadata": {
    "deletable": false,
    "editable": false,
    "id": "ddc81e43"
   },
   "source": [
    "### Изменение типов данных"
   ]
  },
  {
   "cell_type": "markdown",
   "id": "2531c31b",
   "metadata": {
    "deletable": false,
    "editable": false,
    "id": "42d19d24"
   },
   "source": [
    "**Задание 13. Замените вещественный тип данных в столбце `total_income` на целочисленный с помощью метода `astype()`.**"
   ]
  },
  {
   "cell_type": "code",
   "execution_count": 13,
   "id": "b732aca6",
   "metadata": {
    "deletable": false,
    "id": "920b65ad"
   },
   "outputs": [],
   "source": [
    "data['total_income'] = data['total_income'].astype(int)"
   ]
  },
  {
   "cell_type": "markdown",
   "id": "dd5446b8",
   "metadata": {
    "deletable": false,
    "editable": false,
    "id": "80c420ba"
   },
   "source": [
    "### Обработка дубликатов"
   ]
  },
  {
   "cell_type": "markdown",
   "id": "2793c326",
   "metadata": {
    "deletable": false,
    "editable": false
   },
   "source": [
    "**Задание 14. Обработайте неявные дубликаты в столбце `education`. В этом столбце есть одни и те же значения, но записанные по-разному: с использованием заглавных и строчных букв. Приведите их к нижнему регистру. Проверьте остальные столбцы.**"
   ]
  },
  {
   "cell_type": "code",
   "execution_count": 14,
   "id": "f15c44fd",
   "metadata": {
    "deletable": false
   },
   "outputs": [],
   "source": [
    "data['education'] = data['education'].str.lower()"
   ]
  },
  {
   "cell_type": "markdown",
   "id": "b3cdcdf7",
   "metadata": {
    "deletable": false,
    "editable": false,
    "id": "dc587695"
   },
   "source": [
    "**Задание 15. Выведите на экран количество строк-дубликатов в данных. Если такие строки присутствуют, удалите их.**"
   ]
  },
  {
   "cell_type": "code",
   "execution_count": 15,
   "id": "58fc60cd",
   "metadata": {
    "deletable": false,
    "id": "3ee445e4",
    "outputId": "9684deba-1934-42d1-99e1-cda61740f822"
   },
   "outputs": [
    {
     "data": {
      "text/plain": [
       "71"
      ]
     },
     "execution_count": 15,
     "metadata": {},
     "output_type": "execute_result"
    }
   ],
   "source": [
    "data.duplicated().sum()"
   ]
  },
  {
   "cell_type": "code",
   "execution_count": 16,
   "id": "91a663b3",
   "metadata": {
    "deletable": false,
    "id": "8575fe05"
   },
   "outputs": [],
   "source": [
    "data = data.drop_duplicates()"
   ]
  },
  {
   "cell_type": "markdown",
   "id": "450fbd49",
   "metadata": {
    "deletable": false,
    "editable": false,
    "id": "9904cf55"
   },
   "source": [
    "### Категоризация данных"
   ]
  },
  {
   "cell_type": "markdown",
   "id": "43de096e",
   "metadata": {
    "deletable": false,
    "editable": false,
    "id": "72fcc8a2"
   },
   "source": [
    "**Задание 16. На основании диапазонов, указанных ниже, создайте в датафрейме `data` столбец `total_income_category` с категориями:**\n",
    "\n",
    "- 0–30000 — `'E'`;\n",
    "- 30001–50000 — `'D'`;\n",
    "- 50001–200000 — `'C'`;\n",
    "- 200001–1000000 — `'B'`;\n",
    "- 1000001 и выше — `'A'`.\n",
    "\n",
    "\n",
    "**Например, кредитополучателю с доходом 25000 нужно назначить категорию `'E'`, а клиенту, получающему 235000, — `'B'`. Используйте собственную функцию с именем `categorize_income()` и метод `apply()`.**"
   ]
  },
  {
   "cell_type": "code",
   "execution_count": 17,
   "id": "86b33152",
   "metadata": {
    "deletable": false,
    "id": "e1771346"
   },
   "outputs": [],
   "source": [
    "def categorize_income(income):\n",
    "    try:\n",
    "        if 0 <= income <= 30000:\n",
    "            return 'E'\n",
    "        elif 30001 <= income <= 50000:\n",
    "            return 'D'\n",
    "        elif 50001 <= income <= 200000:\n",
    "            return 'C'\n",
    "        elif 200001 <= income <= 1000000:\n",
    "            return 'B'\n",
    "        elif income >= 1000001:\n",
    "            return 'A'\n",
    "    except:\n",
    "        pass"
   ]
  },
  {
   "cell_type": "code",
   "execution_count": 18,
   "id": "e89adbbb",
   "metadata": {
    "deletable": false,
    "id": "d5f3586d"
   },
   "outputs": [],
   "source": [
    "data['total_income_category'] = data['total_income'].apply(categorize_income)"
   ]
  },
  {
   "cell_type": "markdown",
   "id": "0dfdf2e4",
   "metadata": {
    "deletable": false,
    "editable": false,
    "id": "dde49b5c"
   },
   "source": [
    "**Задание 17. Выведите на экран перечень уникальных целей взятия кредита из столбца `purpose`.**"
   ]
  },
  {
   "cell_type": "code",
   "execution_count": 19,
   "id": "20f90101",
   "metadata": {
    "deletable": false,
    "id": "f67ce9b3",
    "outputId": "673c12d9-7d7e-4ae0-9812-c622c89dd244"
   },
   "outputs": [
    {
     "data": {
      "text/plain": [
       "array(['покупка жилья', 'приобретение автомобиля',\n",
       "       'дополнительное образование', 'сыграть свадьбу',\n",
       "       'операции с жильем', 'образование', 'на проведение свадьбы',\n",
       "       'покупка жилья для семьи', 'покупка недвижимости',\n",
       "       'покупка коммерческой недвижимости', 'покупка жилой недвижимости',\n",
       "       'строительство собственной недвижимости', 'недвижимость',\n",
       "       'строительство недвижимости', 'на покупку подержанного автомобиля',\n",
       "       'на покупку своего автомобиля',\n",
       "       'операции с коммерческой недвижимостью',\n",
       "       'строительство жилой недвижимости', 'жилье',\n",
       "       'операции со своей недвижимостью', 'автомобили',\n",
       "       'заняться образованием', 'сделка с подержанным автомобилем',\n",
       "       'получение образования', 'автомобиль', 'свадьба',\n",
       "       'получение дополнительного образования', 'покупка своего жилья',\n",
       "       'операции с недвижимостью', 'получение высшего образования',\n",
       "       'свой автомобиль', 'сделка с автомобилем',\n",
       "       'профильное образование', 'высшее образование',\n",
       "       'покупка жилья для сдачи', 'на покупку автомобиля', 'ремонт жилью',\n",
       "       'заняться высшим образованием'], dtype=object)"
      ]
     },
     "execution_count": 19,
     "metadata": {},
     "output_type": "execute_result"
    }
   ],
   "source": [
    "data['purpose'].unique()"
   ]
  },
  {
   "cell_type": "markdown",
   "id": "788157a0",
   "metadata": {
    "deletable": false,
    "editable": false,
    "id": "85d0aef0"
   },
   "source": [
    "**Задание 18. Создайте функцию, которая на основании данных из столбца `purpose` сформирует новый столбец `purpose_category`, в который войдут следующие категории:**\n",
    "\n",
    "- `'операции с автомобилем'`,\n",
    "- `'операции с недвижимостью'`,\n",
    "- `'проведение свадьбы'`,\n",
    "- `'получение образования'`.\n",
    "\n",
    "**Например, если в столбце `purpose` находится подстрока `'на покупку автомобиля'`, то в столбце `purpose_category` должна появиться строка `'операции с автомобилем'`.**\n",
    "\n",
    "**Используйте собственную функцию с именем `categorize_purpose()` и метод `apply()`. Изучите данные в столбце `purpose` и определите, какие подстроки помогут вам правильно определить категорию.**"
   ]
  },
  {
   "cell_type": "code",
   "execution_count": 20,
   "id": "a8cc35d1",
   "metadata": {
    "deletable": false,
    "id": "e149fab4"
   },
   "outputs": [],
   "source": [
    "def categorize_purpose(row):\n",
    "    try:\n",
    "        if 'автом' in row:\n",
    "            return 'операции с автомобилем'\n",
    "        elif 'жил' in row or 'недвиж' in row:\n",
    "            return 'операции с недвижимостью'\n",
    "        elif 'свад' in row:\n",
    "            return 'проведение свадьбы'\n",
    "        elif 'образов' in row:\n",
    "            return 'получение образования'\n",
    "    except:\n",
    "        return 'нет категории'"
   ]
  },
  {
   "cell_type": "code",
   "execution_count": 21,
   "id": "1bbe1750",
   "metadata": {
    "deletable": false,
    "id": "bf36e69b"
   },
   "outputs": [],
   "source": [
    "data['purpose_category'] = data['purpose'].apply(categorize_purpose)"
   ]
  },
  {
   "cell_type": "markdown",
   "id": "a5cff0b0",
   "metadata": {
    "deletable": false,
    "editable": false,
    "id": "09b242bf"
   },
   "source": [
    "### Шаг 3. Исследуйте данные и ответьте на вопросы"
   ]
  },
  {
   "cell_type": "markdown",
   "id": "02516106",
   "metadata": {
    "deletable": false,
    "editable": false,
    "id": "c5d66278"
   },
   "source": [
    "#### 3.1 Есть ли зависимость между количеством детей и возвратом кредита в срок?"
   ]
  },
  {
   "cell_type": "markdown",
   "id": "873d1fcb",
   "metadata": {},
   "source": [
    "###### Импортируем необходимые библиотеки"
   ]
  },
  {
   "cell_type": "code",
   "execution_count": 22,
   "id": "9cd57391",
   "metadata": {
    "deletable": false,
    "id": "2cacfc4a"
   },
   "outputs": [],
   "source": [
    "import pandas as pd \n",
    "import numpy as np\n",
    "import matplotlib.pyplot as plt\n",
    "import seaborn as sns "
   ]
  },
  {
   "cell_type": "markdown",
   "id": "9a84f7e5",
   "metadata": {},
   "source": [
    "###### Выведем общую информацию о наборе данных"
   ]
  },
  {
   "cell_type": "code",
   "execution_count": 23,
   "id": "4f439c75",
   "metadata": {},
   "outputs": [
    {
     "data": {
      "text/html": [
       "<div>\n",
       "<style scoped>\n",
       "    .dataframe tbody tr th:only-of-type {\n",
       "        vertical-align: middle;\n",
       "    }\n",
       "\n",
       "    .dataframe tbody tr th {\n",
       "        vertical-align: top;\n",
       "    }\n",
       "\n",
       "    .dataframe thead th {\n",
       "        text-align: right;\n",
       "    }\n",
       "</style>\n",
       "<table border=\"1\" class=\"dataframe\">\n",
       "  <thead>\n",
       "    <tr style=\"text-align: right;\">\n",
       "      <th></th>\n",
       "      <th>children</th>\n",
       "      <th>days_employed</th>\n",
       "      <th>dob_years</th>\n",
       "      <th>education</th>\n",
       "      <th>education_id</th>\n",
       "      <th>family_status</th>\n",
       "      <th>family_status_id</th>\n",
       "      <th>gender</th>\n",
       "      <th>income_type</th>\n",
       "      <th>debt</th>\n",
       "      <th>total_income</th>\n",
       "      <th>purpose</th>\n",
       "      <th>total_income_category</th>\n",
       "      <th>purpose_category</th>\n",
       "    </tr>\n",
       "  </thead>\n",
       "  <tbody>\n",
       "    <tr>\n",
       "      <th>0</th>\n",
       "      <td>1</td>\n",
       "      <td>8437.673028</td>\n",
       "      <td>42</td>\n",
       "      <td>высшее</td>\n",
       "      <td>0</td>\n",
       "      <td>женат / замужем</td>\n",
       "      <td>0</td>\n",
       "      <td>F</td>\n",
       "      <td>сотрудник</td>\n",
       "      <td>0</td>\n",
       "      <td>253875</td>\n",
       "      <td>покупка жилья</td>\n",
       "      <td>B</td>\n",
       "      <td>операции с недвижимостью</td>\n",
       "    </tr>\n",
       "    <tr>\n",
       "      <th>1</th>\n",
       "      <td>1</td>\n",
       "      <td>4024.803754</td>\n",
       "      <td>36</td>\n",
       "      <td>среднее</td>\n",
       "      <td>1</td>\n",
       "      <td>женат / замужем</td>\n",
       "      <td>0</td>\n",
       "      <td>F</td>\n",
       "      <td>сотрудник</td>\n",
       "      <td>0</td>\n",
       "      <td>112080</td>\n",
       "      <td>приобретение автомобиля</td>\n",
       "      <td>C</td>\n",
       "      <td>операции с автомобилем</td>\n",
       "    </tr>\n",
       "    <tr>\n",
       "      <th>2</th>\n",
       "      <td>0</td>\n",
       "      <td>5623.422610</td>\n",
       "      <td>33</td>\n",
       "      <td>среднее</td>\n",
       "      <td>1</td>\n",
       "      <td>женат / замужем</td>\n",
       "      <td>0</td>\n",
       "      <td>M</td>\n",
       "      <td>сотрудник</td>\n",
       "      <td>0</td>\n",
       "      <td>145885</td>\n",
       "      <td>покупка жилья</td>\n",
       "      <td>C</td>\n",
       "      <td>операции с недвижимостью</td>\n",
       "    </tr>\n",
       "    <tr>\n",
       "      <th>3</th>\n",
       "      <td>3</td>\n",
       "      <td>4124.747207</td>\n",
       "      <td>32</td>\n",
       "      <td>среднее</td>\n",
       "      <td>1</td>\n",
       "      <td>женат / замужем</td>\n",
       "      <td>0</td>\n",
       "      <td>M</td>\n",
       "      <td>сотрудник</td>\n",
       "      <td>0</td>\n",
       "      <td>267628</td>\n",
       "      <td>дополнительное образование</td>\n",
       "      <td>B</td>\n",
       "      <td>получение образования</td>\n",
       "    </tr>\n",
       "    <tr>\n",
       "      <th>4</th>\n",
       "      <td>0</td>\n",
       "      <td>340266.072047</td>\n",
       "      <td>53</td>\n",
       "      <td>среднее</td>\n",
       "      <td>1</td>\n",
       "      <td>гражданский брак</td>\n",
       "      <td>1</td>\n",
       "      <td>F</td>\n",
       "      <td>пенсионер</td>\n",
       "      <td>0</td>\n",
       "      <td>158616</td>\n",
       "      <td>сыграть свадьбу</td>\n",
       "      <td>C</td>\n",
       "      <td>проведение свадьбы</td>\n",
       "    </tr>\n",
       "  </tbody>\n",
       "</table>\n",
       "</div>"
      ],
      "text/plain": [
       "   children  days_employed  dob_years education  education_id  \\\n",
       "0         1    8437.673028         42    высшее             0   \n",
       "1         1    4024.803754         36   среднее             1   \n",
       "2         0    5623.422610         33   среднее             1   \n",
       "3         3    4124.747207         32   среднее             1   \n",
       "4         0  340266.072047         53   среднее             1   \n",
       "\n",
       "      family_status  family_status_id gender income_type  debt  total_income  \\\n",
       "0   женат / замужем                 0      F   сотрудник     0        253875   \n",
       "1   женат / замужем                 0      F   сотрудник     0        112080   \n",
       "2   женат / замужем                 0      M   сотрудник     0        145885   \n",
       "3   женат / замужем                 0      M   сотрудник     0        267628   \n",
       "4  гражданский брак                 1      F   пенсионер     0        158616   \n",
       "\n",
       "                      purpose total_income_category          purpose_category  \n",
       "0               покупка жилья                     B  операции с недвижимостью  \n",
       "1     приобретение автомобиля                     C    операции с автомобилем  \n",
       "2               покупка жилья                     C  операции с недвижимостью  \n",
       "3  дополнительное образование                     B     получение образования  \n",
       "4             сыграть свадьбу                     C        проведение свадьбы  "
      ]
     },
     "execution_count": 23,
     "metadata": {},
     "output_type": "execute_result"
    }
   ],
   "source": [
    "data.head()"
   ]
  },
  {
   "cell_type": "markdown",
   "id": "d8d4456b",
   "metadata": {},
   "source": [
    "###### Основные показатели описательной статистики"
   ]
  },
  {
   "cell_type": "code",
   "execution_count": 24,
   "id": "769212e0",
   "metadata": {},
   "outputs": [
    {
     "data": {
      "text/html": [
       "<div>\n",
       "<style scoped>\n",
       "    .dataframe tbody tr th:only-of-type {\n",
       "        vertical-align: middle;\n",
       "    }\n",
       "\n",
       "    .dataframe tbody tr th {\n",
       "        vertical-align: top;\n",
       "    }\n",
       "\n",
       "    .dataframe thead th {\n",
       "        text-align: right;\n",
       "    }\n",
       "</style>\n",
       "<table border=\"1\" class=\"dataframe\">\n",
       "  <thead>\n",
       "    <tr style=\"text-align: right;\">\n",
       "      <th></th>\n",
       "      <th>children</th>\n",
       "      <th>days_employed</th>\n",
       "      <th>dob_years</th>\n",
       "      <th>education_id</th>\n",
       "      <th>family_status_id</th>\n",
       "      <th>debt</th>\n",
       "      <th>total_income</th>\n",
       "    </tr>\n",
       "  </thead>\n",
       "  <tbody>\n",
       "    <tr>\n",
       "      <th>count</th>\n",
       "      <td>21331.000000</td>\n",
       "      <td>21331.000000</td>\n",
       "      <td>21331.000000</td>\n",
       "      <td>21331.000000</td>\n",
       "      <td>21331.000000</td>\n",
       "      <td>21331.000000</td>\n",
       "      <td>2.133100e+04</td>\n",
       "    </tr>\n",
       "    <tr>\n",
       "      <th>mean</th>\n",
       "      <td>0.474005</td>\n",
       "      <td>67148.972133</td>\n",
       "      <td>43.277952</td>\n",
       "      <td>0.816980</td>\n",
       "      <td>0.974497</td>\n",
       "      <td>0.081196</td>\n",
       "      <td>1.653427e+05</td>\n",
       "    </tr>\n",
       "    <tr>\n",
       "      <th>std</th>\n",
       "      <td>0.752378</td>\n",
       "      <td>139281.142318</td>\n",
       "      <td>12.575300</td>\n",
       "      <td>0.549282</td>\n",
       "      <td>1.421787</td>\n",
       "      <td>0.273143</td>\n",
       "      <td>9.831399e+04</td>\n",
       "    </tr>\n",
       "    <tr>\n",
       "      <th>min</th>\n",
       "      <td>0.000000</td>\n",
       "      <td>24.141633</td>\n",
       "      <td>0.000000</td>\n",
       "      <td>0.000000</td>\n",
       "      <td>0.000000</td>\n",
       "      <td>0.000000</td>\n",
       "      <td>2.066700e+04</td>\n",
       "    </tr>\n",
       "    <tr>\n",
       "      <th>25%</th>\n",
       "      <td>0.000000</td>\n",
       "      <td>1024.525170</td>\n",
       "      <td>33.000000</td>\n",
       "      <td>1.000000</td>\n",
       "      <td>0.000000</td>\n",
       "      <td>0.000000</td>\n",
       "      <td>1.075070e+05</td>\n",
       "    </tr>\n",
       "    <tr>\n",
       "      <th>50%</th>\n",
       "      <td>0.000000</td>\n",
       "      <td>1996.732855</td>\n",
       "      <td>42.000000</td>\n",
       "      <td>1.000000</td>\n",
       "      <td>0.000000</td>\n",
       "      <td>0.000000</td>\n",
       "      <td>1.425940e+05</td>\n",
       "    </tr>\n",
       "    <tr>\n",
       "      <th>75%</th>\n",
       "      <td>1.000000</td>\n",
       "      <td>5337.759969</td>\n",
       "      <td>53.000000</td>\n",
       "      <td>1.000000</td>\n",
       "      <td>1.000000</td>\n",
       "      <td>0.000000</td>\n",
       "      <td>1.958420e+05</td>\n",
       "    </tr>\n",
       "    <tr>\n",
       "      <th>max</th>\n",
       "      <td>5.000000</td>\n",
       "      <td>401755.400475</td>\n",
       "      <td>75.000000</td>\n",
       "      <td>4.000000</td>\n",
       "      <td>4.000000</td>\n",
       "      <td>1.000000</td>\n",
       "      <td>2.265604e+06</td>\n",
       "    </tr>\n",
       "  </tbody>\n",
       "</table>\n",
       "</div>"
      ],
      "text/plain": [
       "           children  days_employed     dob_years  education_id  \\\n",
       "count  21331.000000   21331.000000  21331.000000  21331.000000   \n",
       "mean       0.474005   67148.972133     43.277952      0.816980   \n",
       "std        0.752378  139281.142318     12.575300      0.549282   \n",
       "min        0.000000      24.141633      0.000000      0.000000   \n",
       "25%        0.000000    1024.525170     33.000000      1.000000   \n",
       "50%        0.000000    1996.732855     42.000000      1.000000   \n",
       "75%        1.000000    5337.759969     53.000000      1.000000   \n",
       "max        5.000000  401755.400475     75.000000      4.000000   \n",
       "\n",
       "       family_status_id          debt  total_income  \n",
       "count      21331.000000  21331.000000  2.133100e+04  \n",
       "mean           0.974497      0.081196  1.653427e+05  \n",
       "std            1.421787      0.273143  9.831399e+04  \n",
       "min            0.000000      0.000000  2.066700e+04  \n",
       "25%            0.000000      0.000000  1.075070e+05  \n",
       "50%            0.000000      0.000000  1.425940e+05  \n",
       "75%            1.000000      0.000000  1.958420e+05  \n",
       "max            4.000000      1.000000  2.265604e+06  "
      ]
     },
     "execution_count": 24,
     "metadata": {},
     "output_type": "execute_result"
    }
   ],
   "source": [
    "data.describe()"
   ]
  },
  {
   "cell_type": "markdown",
   "id": "85bdca3e",
   "metadata": {},
   "source": [
    "###### Построим гистограмму количества семей по наличию детей"
   ]
  },
  {
   "cell_type": "code",
   "execution_count": 25,
   "id": "335536cf",
   "metadata": {
    "scrolled": false
   },
   "outputs": [
    {
     "data": {
      "image/png": "[encoded data removed]",
      "text/plain": [
       "<Figure size 1296x648 with 1 Axes>"
      ]
     },
     "metadata": {
      "needs_background": "light"
     },
     "output_type": "display_data"
    }
   ],
   "source": [
    "plt.figure(figsize=(18,9))\n",
    "sns.histplot(data['children'])\n",
    "plt.title('Число семей по каждой категории относительно числа детей', fontsize=18)\n",
    "plt.xlabel('Количество детей', fontsize=16)\n",
    "plt.ylabel('Количество семей', fontsize=16)\n",
    "plt.grid()\n",
    "plt.show()"
   ]
  },
  {
   "cell_type": "markdown",
   "id": "36cb3496",
   "metadata": {},
   "source": [
    "###### Посчитаем общее количество семей с разным количеством детей."
   ]
  },
  {
   "cell_type": "code",
   "execution_count": 26,
   "id": "0afd40db",
   "metadata": {},
   "outputs": [
    {
     "data": {
      "text/html": [
       "<style  type=\"text/css\" >\n",
       "#T_c5b59_row0_col0{\n",
       "            background-color:  #08306b;\n",
       "            color:  #f1f1f1;\n",
       "        }#T_c5b59_row1_col0{\n",
       "            background-color:  #a9cfe5;\n",
       "            color:  #000000;\n",
       "        }#T_c5b59_row2_col0{\n",
       "            background-color:  #dae8f6;\n",
       "            color:  #000000;\n",
       "        }#T_c5b59_row3_col0{\n",
       "            background-color:  #f3f8fe;\n",
       "            color:  #000000;\n",
       "        }#T_c5b59_row4_col0,#T_c5b59_row5_col0{\n",
       "            background-color:  #f7fbff;\n",
       "            color:  #000000;\n",
       "        }</style><table id=\"T_c5b59_\" ><thead>    <tr>        <th class=\"blank level0\" ></th>        <th class=\"col_heading level0 col0\" >children</th>    </tr></thead><tbody>\n",
       "                <tr>\n",
       "                        <th id=\"T_c5b59_level0_row0\" class=\"row_heading level0 row0\" >0</th>\n",
       "                        <td id=\"T_c5b59_row0_col0\" class=\"data row0 col0\" >66%</td>\n",
       "            </tr>\n",
       "            <tr>\n",
       "                        <th id=\"T_c5b59_level0_row1\" class=\"row_heading level0 row1\" >1</th>\n",
       "                        <td id=\"T_c5b59_row1_col0\" class=\"data row1 col0\" >23%</td>\n",
       "            </tr>\n",
       "            <tr>\n",
       "                        <th id=\"T_c5b59_level0_row2\" class=\"row_heading level0 row2\" >2</th>\n",
       "                        <td id=\"T_c5b59_row2_col0\" class=\"data row2 col0\" >10%</td>\n",
       "            </tr>\n",
       "            <tr>\n",
       "                        <th id=\"T_c5b59_level0_row3\" class=\"row_heading level0 row3\" >3</th>\n",
       "                        <td id=\"T_c5b59_row3_col0\" class=\"data row3 col0\" >2%</td>\n",
       "            </tr>\n",
       "            <tr>\n",
       "                        <th id=\"T_c5b59_level0_row4\" class=\"row_heading level0 row4\" >4</th>\n",
       "                        <td id=\"T_c5b59_row4_col0\" class=\"data row4 col0\" >0%</td>\n",
       "            </tr>\n",
       "            <tr>\n",
       "                        <th id=\"T_c5b59_level0_row5\" class=\"row_heading level0 row5\" >5</th>\n",
       "                        <td id=\"T_c5b59_row5_col0\" class=\"data row5 col0\" >0%</td>\n",
       "            </tr>\n",
       "    </tbody></table>"
      ],
      "text/plain": [
       "<pandas.io.formats.style.Styler at 0x7f8594fd44f0>"
      ]
     },
     "execution_count": 26,
     "metadata": {},
     "output_type": "execute_result"
    }
   ],
   "source": [
    "data['children'].value_counts(normalize=True).to_frame().style.format('{:.0%}').background_gradient(cmap='Blues')"
   ]
  },
  {
   "cell_type": "markdown",
   "id": "8afcab25",
   "metadata": {},
   "source": [
    "###### Подсчитаем общее количество заемщиков, имеющих задолженность и не имеющих задолженность."
   ]
  },
  {
   "cell_type": "code",
   "execution_count": 27,
   "id": "fdaf4174",
   "metadata": {},
   "outputs": [
    {
     "data": {
      "text/plain": [
       "0    19599\n",
       "1     1732\n",
       "Name: debt, dtype: int64"
      ]
     },
     "execution_count": 27,
     "metadata": {},
     "output_type": "execute_result"
    }
   ],
   "source": [
    "data['debt'].value_counts()"
   ]
  },
  {
   "cell_type": "code",
   "execution_count": 28,
   "id": "021433bf",
   "metadata": {},
   "outputs": [
    {
     "data": {
      "text/html": [
       "<style  type=\"text/css\" >\n",
       "#T_11c3a_row0_col0{\n",
       "            background-color:  #08306b;\n",
       "            color:  #f1f1f1;\n",
       "        }#T_11c3a_row1_col0{\n",
       "            background-color:  #f7fbff;\n",
       "            color:  #000000;\n",
       "        }</style><table id=\"T_11c3a_\" ><thead>    <tr>        <th class=\"blank level0\" ></th>        <th class=\"col_heading level0 col0\" >debt</th>    </tr></thead><tbody>\n",
       "                <tr>\n",
       "                        <th id=\"T_11c3a_level0_row0\" class=\"row_heading level0 row0\" >0</th>\n",
       "                        <td id=\"T_11c3a_row0_col0\" class=\"data row0 col0\" >92%</td>\n",
       "            </tr>\n",
       "            <tr>\n",
       "                        <th id=\"T_11c3a_level0_row1\" class=\"row_heading level0 row1\" >1</th>\n",
       "                        <td id=\"T_11c3a_row1_col0\" class=\"data row1 col0\" >8%</td>\n",
       "            </tr>\n",
       "    </tbody></table>"
      ],
      "text/plain": [
       "<pandas.io.formats.style.Styler at 0x7f857b471d60>"
      ]
     },
     "execution_count": 28,
     "metadata": {},
     "output_type": "execute_result"
    }
   ],
   "source": [
    "data['debt'].value_counts(normalize=True).to_frame().style.format('{:.0%}').background_gradient(cmap='Blues')"
   ]
  },
  {
   "cell_type": "markdown",
   "id": "fcabb99a",
   "metadata": {},
   "source": [
    "###### Посмотрим на непосредственную величину коэффициента корреляции между двумя переменными (столбцами 'children' и 'debt')."
   ]
  },
  {
   "cell_type": "code",
   "execution_count": 29,
   "id": "16333d78",
   "metadata": {},
   "outputs": [
    {
     "name": "stdout",
     "output_type": "stream",
     "text": [
      "0.024643415439591042\n"
     ]
    }
   ],
   "source": [
    "print(data['children'].corr(data['debt']))"
   ]
  },
  {
   "cell_type": "markdown",
   "id": "0b01bfa8",
   "metadata": {},
   "source": [
    "###### Построим тепловую карту корреляции"
   ]
  },
  {
   "cell_type": "code",
   "execution_count": 30,
   "id": "65eb0f8b",
   "metadata": {},
   "outputs": [
    {
     "data": {
      "image/png": "[encoded data removed]",
      "text/plain": [
       "<Figure size 720x720 with 2 Axes>"
      ]
     },
     "metadata": {
      "needs_background": "light"
     },
     "output_type": "display_data"
    }
   ],
   "source": [
    "plt.figure(figsize=(10,10))\n",
    "sns.heatmap(data.corr(), annot=True, cmap='Blues')\n",
    "plt.show()"
   ]
  },
  {
   "cell_type": "markdown",
   "id": "541fbf7e",
   "metadata": {},
   "source": [
    "###### Проверим полученные данные о том, что зависимость между наличием детей в семье и возвратом кредита в срок слабая. Сначала проведем категоризацию семей по количеству детей. Запишем категории семей в новый столбец 'family_type' и выведем таблицу на экран."
   ]
  },
  {
   "cell_type": "code",
   "execution_count": 31,
   "id": "8e9f8757",
   "metadata": {},
   "outputs": [
    {
     "data": {
      "text/html": [
       "<div>\n",
       "<style scoped>\n",
       "    .dataframe tbody tr th:only-of-type {\n",
       "        vertical-align: middle;\n",
       "    }\n",
       "\n",
       "    .dataframe tbody tr th {\n",
       "        vertical-align: top;\n",
       "    }\n",
       "\n",
       "    .dataframe thead th {\n",
       "        text-align: right;\n",
       "    }\n",
       "</style>\n",
       "<table border=\"1\" class=\"dataframe\">\n",
       "  <thead>\n",
       "    <tr style=\"text-align: right;\">\n",
       "      <th></th>\n",
       "      <th>children</th>\n",
       "      <th>days_employed</th>\n",
       "      <th>dob_years</th>\n",
       "      <th>education</th>\n",
       "      <th>education_id</th>\n",
       "      <th>family_status</th>\n",
       "      <th>family_status_id</th>\n",
       "      <th>gender</th>\n",
       "      <th>income_type</th>\n",
       "      <th>debt</th>\n",
       "      <th>total_income</th>\n",
       "      <th>purpose</th>\n",
       "      <th>total_income_category</th>\n",
       "      <th>purpose_category</th>\n",
       "      <th>family_type</th>\n",
       "    </tr>\n",
       "  </thead>\n",
       "  <tbody>\n",
       "    <tr>\n",
       "      <th>0</th>\n",
       "      <td>1</td>\n",
       "      <td>8437.673028</td>\n",
       "      <td>42</td>\n",
       "      <td>высшее</td>\n",
       "      <td>0</td>\n",
       "      <td>женат / замужем</td>\n",
       "      <td>0</td>\n",
       "      <td>F</td>\n",
       "      <td>сотрудник</td>\n",
       "      <td>0</td>\n",
       "      <td>253875</td>\n",
       "      <td>покупка жилья</td>\n",
       "      <td>B</td>\n",
       "      <td>операции с недвижимостью</td>\n",
       "      <td>1 ребенок</td>\n",
       "    </tr>\n",
       "    <tr>\n",
       "      <th>1</th>\n",
       "      <td>1</td>\n",
       "      <td>4024.803754</td>\n",
       "      <td>36</td>\n",
       "      <td>среднее</td>\n",
       "      <td>1</td>\n",
       "      <td>женат / замужем</td>\n",
       "      <td>0</td>\n",
       "      <td>F</td>\n",
       "      <td>сотрудник</td>\n",
       "      <td>0</td>\n",
       "      <td>112080</td>\n",
       "      <td>приобретение автомобиля</td>\n",
       "      <td>C</td>\n",
       "      <td>операции с автомобилем</td>\n",
       "      <td>1 ребенок</td>\n",
       "    </tr>\n",
       "    <tr>\n",
       "      <th>2</th>\n",
       "      <td>0</td>\n",
       "      <td>5623.422610</td>\n",
       "      <td>33</td>\n",
       "      <td>среднее</td>\n",
       "      <td>1</td>\n",
       "      <td>женат / замужем</td>\n",
       "      <td>0</td>\n",
       "      <td>M</td>\n",
       "      <td>сотрудник</td>\n",
       "      <td>0</td>\n",
       "      <td>145885</td>\n",
       "      <td>покупка жилья</td>\n",
       "      <td>C</td>\n",
       "      <td>операции с недвижимостью</td>\n",
       "      <td>Нет детей</td>\n",
       "    </tr>\n",
       "    <tr>\n",
       "      <th>3</th>\n",
       "      <td>3</td>\n",
       "      <td>4124.747207</td>\n",
       "      <td>32</td>\n",
       "      <td>среднее</td>\n",
       "      <td>1</td>\n",
       "      <td>женат / замужем</td>\n",
       "      <td>0</td>\n",
       "      <td>M</td>\n",
       "      <td>сотрудник</td>\n",
       "      <td>0</td>\n",
       "      <td>267628</td>\n",
       "      <td>дополнительное образование</td>\n",
       "      <td>B</td>\n",
       "      <td>получение образования</td>\n",
       "      <td>3 ребенка</td>\n",
       "    </tr>\n",
       "    <tr>\n",
       "      <th>4</th>\n",
       "      <td>0</td>\n",
       "      <td>340266.072047</td>\n",
       "      <td>53</td>\n",
       "      <td>среднее</td>\n",
       "      <td>1</td>\n",
       "      <td>гражданский брак</td>\n",
       "      <td>1</td>\n",
       "      <td>F</td>\n",
       "      <td>пенсионер</td>\n",
       "      <td>0</td>\n",
       "      <td>158616</td>\n",
       "      <td>сыграть свадьбу</td>\n",
       "      <td>C</td>\n",
       "      <td>проведение свадьбы</td>\n",
       "      <td>Нет детей</td>\n",
       "    </tr>\n",
       "  </tbody>\n",
       "</table>\n",
       "</div>"
      ],
      "text/plain": [
       "   children  days_employed  dob_years education  education_id  \\\n",
       "0         1    8437.673028         42    высшее             0   \n",
       "1         1    4024.803754         36   среднее             1   \n",
       "2         0    5623.422610         33   среднее             1   \n",
       "3         3    4124.747207         32   среднее             1   \n",
       "4         0  340266.072047         53   среднее             1   \n",
       "\n",
       "      family_status  family_status_id gender income_type  debt  total_income  \\\n",
       "0   женат / замужем                 0      F   сотрудник     0        253875   \n",
       "1   женат / замужем                 0      F   сотрудник     0        112080   \n",
       "2   женат / замужем                 0      M   сотрудник     0        145885   \n",
       "3   женат / замужем                 0      M   сотрудник     0        267628   \n",
       "4  гражданский брак                 1      F   пенсионер     0        158616   \n",
       "\n",
       "                      purpose total_income_category          purpose_category  \\\n",
       "0               покупка жилья                     B  операции с недвижимостью   \n",
       "1     приобретение автомобиля                     C    операции с автомобилем   \n",
       "2               покупка жилья                     C  операции с недвижимостью   \n",
       "3  дополнительное образование                     B     получение образования   \n",
       "4             сыграть свадьбу                     C        проведение свадьбы   \n",
       "\n",
       "  family_type  \n",
       "0   1 ребенок  \n",
       "1   1 ребенок  \n",
       "2   Нет детей  \n",
       "3   3 ребенка  \n",
       "4   Нет детей  "
      ]
     },
     "execution_count": 31,
     "metadata": {},
     "output_type": "execute_result"
    }
   ],
   "source": [
    "def family_category(children):\n",
    "    try:\n",
    "        if children == 0:\n",
    "            return 'Нет детей'\n",
    "        elif children == 1:\n",
    "            return '1 ребенок'\n",
    "        elif children == 2:\n",
    "            return '2 ребенка'\n",
    "        elif children == 3:\n",
    "            return '3 ребенка'\n",
    "        elif children == 4:\n",
    "            return '4 ребенка'\n",
    "        elif children == 5:\n",
    "            return '5 детей'\n",
    "        return 'Многодетные'\n",
    "    except:\n",
    "        pass\n",
    "\n",
    "data['family_type'] = data['children'].apply(family_category)\n",
    "data.head()"
   ]
  },
  {
   "cell_type": "markdown",
   "id": "87172343",
   "metadata": {},
   "source": [
    "###### Посмотрим сколько всего заемщиков с разбивкой по категориям семей:"
   ]
  },
  {
   "cell_type": "code",
   "execution_count": 32,
   "id": "8fc66ffa",
   "metadata": {},
   "outputs": [
    {
     "data": {
      "text/html": [
       "<div>\n",
       "<style scoped>\n",
       "    .dataframe tbody tr th:only-of-type {\n",
       "        vertical-align: middle;\n",
       "    }\n",
       "\n",
       "    .dataframe tbody tr th {\n",
       "        vertical-align: top;\n",
       "    }\n",
       "\n",
       "    .dataframe thead th {\n",
       "        text-align: right;\n",
       "    }\n",
       "</style>\n",
       "<table border=\"1\" class=\"dataframe\">\n",
       "  <thead>\n",
       "    <tr style=\"text-align: right;\">\n",
       "      <th></th>\n",
       "      <th>family_type</th>\n",
       "      <th>children</th>\n",
       "    </tr>\n",
       "  </thead>\n",
       "  <tbody>\n",
       "    <tr>\n",
       "      <th>5</th>\n",
       "      <td>Нет детей</td>\n",
       "      <td>14091</td>\n",
       "    </tr>\n",
       "    <tr>\n",
       "      <th>0</th>\n",
       "      <td>1 ребенок</td>\n",
       "      <td>4808</td>\n",
       "    </tr>\n",
       "    <tr>\n",
       "      <th>1</th>\n",
       "      <td>2 ребенка</td>\n",
       "      <td>2052</td>\n",
       "    </tr>\n",
       "    <tr>\n",
       "      <th>2</th>\n",
       "      <td>3 ребенка</td>\n",
       "      <td>330</td>\n",
       "    </tr>\n",
       "    <tr>\n",
       "      <th>3</th>\n",
       "      <td>4 ребенка</td>\n",
       "      <td>41</td>\n",
       "    </tr>\n",
       "    <tr>\n",
       "      <th>4</th>\n",
       "      <td>5 детей</td>\n",
       "      <td>9</td>\n",
       "    </tr>\n",
       "  </tbody>\n",
       "</table>\n",
       "</div>"
      ],
      "text/plain": [
       "  family_type  children\n",
       "5   Нет детей     14091\n",
       "0   1 ребенок      4808\n",
       "1   2 ребенка      2052\n",
       "2   3 ребенка       330\n",
       "3   4 ребенка        41\n",
       "4     5 детей         9"
      ]
     },
     "execution_count": 32,
     "metadata": {},
     "output_type": "execute_result"
    }
   ],
   "source": [
    "data.groupby('family_type', as_index=False)['children'].count().sort_values('children', ascending=False)"
   ]
  },
  {
   "cell_type": "code",
   "execution_count": 33,
   "id": "21de6283",
   "metadata": {},
   "outputs": [
    {
     "data": {
      "text/plain": [
       "Нет детей    0.660588\n",
       "1 ребенок    0.225400\n",
       "2 ребенка    0.096198\n",
       "3 ребенка    0.015470\n",
       "4 ребенка    0.001922\n",
       "5 детей      0.000422\n",
       "Name: family_type, dtype: float64"
      ]
     },
     "execution_count": 33,
     "metadata": {},
     "output_type": "execute_result"
    }
   ],
   "source": [
    "data['family_type'].value_counts() / len(data['family_type'])"
   ]
  },
  {
   "cell_type": "markdown",
   "id": "f57bad0a",
   "metadata": {},
   "source": [
    "###### Теперь выясним какие категории семей имеют задолженности, а какие нет."
   ]
  },
  {
   "cell_type": "code",
   "execution_count": 34,
   "id": "32d6f19c",
   "metadata": {},
   "outputs": [
    {
     "data": {
      "text/plain": [
       "debt  family_type\n",
       "0     Нет детей      13028\n",
       "      1 ребенок       4364\n",
       "      2 ребенка       1858\n",
       "      3 ребенка        303\n",
       "      4 ребенка         37\n",
       "      5 детей            9\n",
       "1     Нет детей       1063\n",
       "      1 ребенок        444\n",
       "      2 ребенка        194\n",
       "      3 ребенка         27\n",
       "      4 ребенка          4\n",
       "Name: family_type, dtype: int64"
      ]
     },
     "execution_count": 34,
     "metadata": {},
     "output_type": "execute_result"
    }
   ],
   "source": [
    "data.groupby('debt')['family_type'].value_counts()"
   ]
  },
  {
   "cell_type": "markdown",
   "id": "dfce9515",
   "metadata": {},
   "source": [
    "###### Визуализируем полученные данные."
   ]
  },
  {
   "cell_type": "code",
   "execution_count": 35,
   "id": "e0528954",
   "metadata": {},
   "outputs": [
    {
     "data": {
      "image/png": "[encoded data removed]",
      "text/plain": [
       "<Figure size 1296x648 with 1 Axes>"
      ]
     },
     "metadata": {
      "needs_background": "light"
     },
     "output_type": "display_data"
    }
   ],
   "source": [
    "plt.figure(figsize=(18,9))\n",
    "sns.histplot(data=data, x='family_type', hue='debt', multiple='dodge')\n",
    "plt.title('Наличие задолженности в семьях по категориям', fontsize=18)\n",
    "plt.xlabel('Категории семей', fontsize=16)\n",
    "plt.ylabel('Уровень задолженности', fontsize=16)\n",
    "plt.grid()\n",
    "plt.show()"
   ]
  },
  {
   "cell_type": "markdown",
   "id": "3d06be2a",
   "metadata": {},
   "source": [
    "###### Отобразим эти полученные данные в процентах."
   ]
  },
  {
   "cell_type": "code",
   "execution_count": 36,
   "id": "311afa4c",
   "metadata": {},
   "outputs": [
    {
     "data": {
      "text/plain": [
       "debt  family_type\n",
       "0     Нет детей      0.664728\n",
       "      1 ребенок      0.222664\n",
       "      2 ребенка      0.094801\n",
       "      3 ребенка      0.015460\n",
       "      4 ребенка      0.001888\n",
       "      5 детей        0.000459\n",
       "1     Нет детей      0.613741\n",
       "      1 ребенок      0.256351\n",
       "      2 ребенка      0.112009\n",
       "      3 ребенка      0.015589\n",
       "      4 ребенка      0.002309\n",
       "Name: family_type, dtype: float64"
      ]
     },
     "execution_count": 36,
     "metadata": {},
     "output_type": "execute_result"
    }
   ],
   "source": [
    "data.groupby('debt')['family_type'].value_counts(normalize=True)"
   ]
  },
  {
   "cell_type": "markdown",
   "id": "1e512f54",
   "metadata": {},
   "source": [
    "###### Сгруппируем итоговую таблицу с процентным отношением должников по каждой категории семей."
   ]
  },
  {
   "cell_type": "code",
   "execution_count": 37,
   "id": "1444324e",
   "metadata": {},
   "outputs": [
    {
     "data": {
      "text/html": [
       "<div>\n",
       "<style scoped>\n",
       "    .dataframe tbody tr th:only-of-type {\n",
       "        vertical-align: middle;\n",
       "    }\n",
       "\n",
       "    .dataframe tbody tr th {\n",
       "        vertical-align: top;\n",
       "    }\n",
       "\n",
       "    .dataframe thead tr th {\n",
       "        text-align: left;\n",
       "    }\n",
       "\n",
       "    .dataframe thead tr:last-of-type th {\n",
       "        text-align: right;\n",
       "    }\n",
       "</style>\n",
       "<table border=\"1\" class=\"dataframe\">\n",
       "  <thead>\n",
       "    <tr>\n",
       "      <th></th>\n",
       "      <th colspan=\"2\" halign=\"left\">debt</th>\n",
       "      <th>percent</th>\n",
       "    </tr>\n",
       "    <tr>\n",
       "      <th></th>\n",
       "      <th>count</th>\n",
       "      <th>sum</th>\n",
       "      <th></th>\n",
       "    </tr>\n",
       "    <tr>\n",
       "      <th>children</th>\n",
       "      <th></th>\n",
       "      <th></th>\n",
       "      <th></th>\n",
       "    </tr>\n",
       "  </thead>\n",
       "  <tbody>\n",
       "    <tr>\n",
       "      <th>0</th>\n",
       "      <td>14091</td>\n",
       "      <td>1063</td>\n",
       "      <td>7.543822</td>\n",
       "    </tr>\n",
       "    <tr>\n",
       "      <th>1</th>\n",
       "      <td>4808</td>\n",
       "      <td>444</td>\n",
       "      <td>9.234609</td>\n",
       "    </tr>\n",
       "    <tr>\n",
       "      <th>2</th>\n",
       "      <td>2052</td>\n",
       "      <td>194</td>\n",
       "      <td>9.454191</td>\n",
       "    </tr>\n",
       "    <tr>\n",
       "      <th>3</th>\n",
       "      <td>330</td>\n",
       "      <td>27</td>\n",
       "      <td>8.181818</td>\n",
       "    </tr>\n",
       "    <tr>\n",
       "      <th>4</th>\n",
       "      <td>41</td>\n",
       "      <td>4</td>\n",
       "      <td>9.756098</td>\n",
       "    </tr>\n",
       "    <tr>\n",
       "      <th>5</th>\n",
       "      <td>9</td>\n",
       "      <td>0</td>\n",
       "      <td>0.000000</td>\n",
       "    </tr>\n",
       "  </tbody>\n",
       "</table>\n",
       "</div>"
      ],
      "text/plain": [
       "           debt         percent\n",
       "          count   sum          \n",
       "children                       \n",
       "0         14091  1063  7.543822\n",
       "1          4808   444  9.234609\n",
       "2          2052   194  9.454191\n",
       "3           330    27  8.181818\n",
       "4            41     4  9.756098\n",
       "5             9     0  0.000000"
      ]
     },
     "execution_count": 37,
     "metadata": {},
     "output_type": "execute_result"
    }
   ],
   "source": [
    "data_grouped = data.groupby('children').agg({'debt':['count', 'sum']})\n",
    "data_grouped['percent'] = data_grouped[('debt', 'sum')] / data_grouped[('debt', 'count')] * 100\n",
    "data_grouped"
   ]
  },
  {
   "cell_type": "markdown",
   "id": "40025ca1",
   "metadata": {
    "deletable": false,
    "id": "3a6b99ec"
   },
   "source": [
    "**Вывод:** "
   ]
  },
  {
   "cell_type": "markdown",
   "id": "a826c3a7",
   "metadata": {},
   "source": [
    "В результате исследования была сформулирована гипотеза о том, что возврат задолженности зависит от наличия детей в семье заемщиков. Таким образом, были выбраны две переменные - 'family_type' и 'debt'. \n",
    "\n",
    "\n",
    "В ходе проверки гипотезы было выявлено, что корреляция между этими двумя переменными слабая, в признаке количества детей имеется несбалансированность классов и размеры некоторых групп слишком малы и не позволяют нам сделать корректный вывод.\n",
    "\n"
   ]
  },
  {
   "cell_type": "markdown",
   "id": "e0fb0caf",
   "metadata": {
    "deletable": false,
    "editable": false,
    "id": "97be82ca"
   },
   "source": [
    "#### 3.2 Есть ли зависимость между семейным положением и возвратом кредита в срок?"
   ]
  },
  {
   "cell_type": "markdown",
   "id": "088285cf",
   "metadata": {
    "deletable": false,
    "id": "dc3f7ee8"
   },
   "source": [
    "###### Сгруппируем данные для просмотра информации о количестве семей по имеющимся статусам."
   ]
  },
  {
   "cell_type": "code",
   "execution_count": 38,
   "id": "e05e24bb",
   "metadata": {},
   "outputs": [
    {
     "data": {
      "text/plain": [
       "family_status_id  family_status        \n",
       "0                 женат / замужем          12261\n",
       "1                 гражданский брак          4134\n",
       "2                 вдовец / вдова             951\n",
       "3                 в разводе                 1189\n",
       "4                 Не женат / не замужем     2796\n",
       "Name: family_status, dtype: int64"
      ]
     },
     "execution_count": 38,
     "metadata": {},
     "output_type": "execute_result"
    }
   ],
   "source": [
    "data.groupby('family_status_id')['family_status'].value_counts()"
   ]
  },
  {
   "cell_type": "markdown",
   "id": "330a18ef",
   "metadata": {},
   "source": [
    "###### Визуализируем данные"
   ]
  },
  {
   "cell_type": "code",
   "execution_count": 39,
   "id": "46910201",
   "metadata": {},
   "outputs": [
    {
     "data": {
      "image/png": "[encoded data removed]",
      "text/plain": [
       "<Figure size 1296x648 with 1 Axes>"
      ]
     },
     "metadata": {
      "needs_background": "light"
     },
     "output_type": "display_data"
    }
   ],
   "source": [
    "plt.figure(figsize=(18,9))\n",
    "sns.histplot(data['family_status'])\n",
    "plt.title('Число семей по имеющимся статусам', fontsize=18)\n",
    "plt.xlabel('Статусы семей', fontsize=16)\n",
    "plt.ylabel('Количество семей', fontsize=16)\n",
    "plt.grid()\n",
    "plt.show()"
   ]
  },
  {
   "cell_type": "markdown",
   "id": "e8c44335",
   "metadata": {},
   "source": [
    "###### Создадим таблицу с выборкой и расчетом доли должников по каждому семейному положению."
   ]
  },
  {
   "cell_type": "code",
   "execution_count": 40,
   "id": "72a05c9b",
   "metadata": {},
   "outputs": [
    {
     "data": {
      "text/html": [
       "<div>\n",
       "<style scoped>\n",
       "    .dataframe tbody tr th:only-of-type {\n",
       "        vertical-align: middle;\n",
       "    }\n",
       "\n",
       "    .dataframe tbody tr th {\n",
       "        vertical-align: top;\n",
       "    }\n",
       "\n",
       "    .dataframe thead tr th {\n",
       "        text-align: left;\n",
       "    }\n",
       "\n",
       "    .dataframe thead tr:last-of-type th {\n",
       "        text-align: right;\n",
       "    }\n",
       "</style>\n",
       "<table border=\"1\" class=\"dataframe\">\n",
       "  <thead>\n",
       "    <tr>\n",
       "      <th></th>\n",
       "      <th>count</th>\n",
       "      <th>sum</th>\n",
       "      <th>mean</th>\n",
       "    </tr>\n",
       "    <tr>\n",
       "      <th></th>\n",
       "      <th>debt</th>\n",
       "      <th>debt</th>\n",
       "      <th>debt</th>\n",
       "    </tr>\n",
       "    <tr>\n",
       "      <th>family_status</th>\n",
       "      <th></th>\n",
       "      <th></th>\n",
       "      <th></th>\n",
       "    </tr>\n",
       "  </thead>\n",
       "  <tbody>\n",
       "    <tr>\n",
       "      <th>Не женат / не замужем</th>\n",
       "      <td>2796</td>\n",
       "      <td>273</td>\n",
       "      <td>0.097639</td>\n",
       "    </tr>\n",
       "    <tr>\n",
       "      <th>в разводе</th>\n",
       "      <td>1189</td>\n",
       "      <td>84</td>\n",
       "      <td>0.070648</td>\n",
       "    </tr>\n",
       "    <tr>\n",
       "      <th>вдовец / вдова</th>\n",
       "      <td>951</td>\n",
       "      <td>63</td>\n",
       "      <td>0.066246</td>\n",
       "    </tr>\n",
       "    <tr>\n",
       "      <th>гражданский брак</th>\n",
       "      <td>4134</td>\n",
       "      <td>385</td>\n",
       "      <td>0.093130</td>\n",
       "    </tr>\n",
       "    <tr>\n",
       "      <th>женат / замужем</th>\n",
       "      <td>12261</td>\n",
       "      <td>927</td>\n",
       "      <td>0.075606</td>\n",
       "    </tr>\n",
       "  </tbody>\n",
       "</table>\n",
       "</div>"
      ],
      "text/plain": [
       "                       count  sum      mean\n",
       "                        debt debt      debt\n",
       "family_status                              \n",
       "Не женат / не замужем   2796  273  0.097639\n",
       "в разводе               1189   84  0.070648\n",
       "вдовец / вдова           951   63  0.066246\n",
       "гражданский брак        4134  385  0.093130\n",
       "женат / замужем        12261  927  0.075606"
      ]
     },
     "execution_count": 40,
     "metadata": {},
     "output_type": "execute_result"
    }
   ],
   "source": [
    "data.pivot_table(index='family_status', columns=None, values='debt', aggfunc=['count', 'sum', 'mean'])"
   ]
  },
  {
   "cell_type": "markdown",
   "id": "f39b2394",
   "metadata": {},
   "source": [
    "###### Посмотрим корреляцию изучаемых признаков. Для этого добавим новый признак 'family_status_num', который будет содержать семейные статусы переведенные из категориальных в числовые. Для этого напишем функцию."
   ]
  },
  {
   "cell_type": "code",
   "execution_count": 41,
   "id": "6fbab5bf",
   "metadata": {},
   "outputs": [
    {
     "data": {
      "text/html": [
       "<div>\n",
       "<style scoped>\n",
       "    .dataframe tbody tr th:only-of-type {\n",
       "        vertical-align: middle;\n",
       "    }\n",
       "\n",
       "    .dataframe tbody tr th {\n",
       "        vertical-align: top;\n",
       "    }\n",
       "\n",
       "    .dataframe thead th {\n",
       "        text-align: right;\n",
       "    }\n",
       "</style>\n",
       "<table border=\"1\" class=\"dataframe\">\n",
       "  <thead>\n",
       "    <tr style=\"text-align: right;\">\n",
       "      <th></th>\n",
       "      <th>children</th>\n",
       "      <th>days_employed</th>\n",
       "      <th>dob_years</th>\n",
       "      <th>education</th>\n",
       "      <th>education_id</th>\n",
       "      <th>family_status</th>\n",
       "      <th>family_status_id</th>\n",
       "      <th>gender</th>\n",
       "      <th>income_type</th>\n",
       "      <th>debt</th>\n",
       "      <th>total_income</th>\n",
       "      <th>purpose</th>\n",
       "      <th>total_income_category</th>\n",
       "      <th>purpose_category</th>\n",
       "      <th>family_type</th>\n",
       "      <th>family_status_num</th>\n",
       "    </tr>\n",
       "  </thead>\n",
       "  <tbody>\n",
       "    <tr>\n",
       "      <th>0</th>\n",
       "      <td>1</td>\n",
       "      <td>8437.673028</td>\n",
       "      <td>42</td>\n",
       "      <td>высшее</td>\n",
       "      <td>0</td>\n",
       "      <td>женат / замужем</td>\n",
       "      <td>0</td>\n",
       "      <td>F</td>\n",
       "      <td>сотрудник</td>\n",
       "      <td>0</td>\n",
       "      <td>253875</td>\n",
       "      <td>покупка жилья</td>\n",
       "      <td>B</td>\n",
       "      <td>операции с недвижимостью</td>\n",
       "      <td>1 ребенок</td>\n",
       "      <td>4</td>\n",
       "    </tr>\n",
       "    <tr>\n",
       "      <th>1</th>\n",
       "      <td>1</td>\n",
       "      <td>4024.803754</td>\n",
       "      <td>36</td>\n",
       "      <td>среднее</td>\n",
       "      <td>1</td>\n",
       "      <td>женат / замужем</td>\n",
       "      <td>0</td>\n",
       "      <td>F</td>\n",
       "      <td>сотрудник</td>\n",
       "      <td>0</td>\n",
       "      <td>112080</td>\n",
       "      <td>приобретение автомобиля</td>\n",
       "      <td>C</td>\n",
       "      <td>операции с автомобилем</td>\n",
       "      <td>1 ребенок</td>\n",
       "      <td>4</td>\n",
       "    </tr>\n",
       "    <tr>\n",
       "      <th>2</th>\n",
       "      <td>0</td>\n",
       "      <td>5623.422610</td>\n",
       "      <td>33</td>\n",
       "      <td>среднее</td>\n",
       "      <td>1</td>\n",
       "      <td>женат / замужем</td>\n",
       "      <td>0</td>\n",
       "      <td>M</td>\n",
       "      <td>сотрудник</td>\n",
       "      <td>0</td>\n",
       "      <td>145885</td>\n",
       "      <td>покупка жилья</td>\n",
       "      <td>C</td>\n",
       "      <td>операции с недвижимостью</td>\n",
       "      <td>Нет детей</td>\n",
       "      <td>4</td>\n",
       "    </tr>\n",
       "    <tr>\n",
       "      <th>3</th>\n",
       "      <td>3</td>\n",
       "      <td>4124.747207</td>\n",
       "      <td>32</td>\n",
       "      <td>среднее</td>\n",
       "      <td>1</td>\n",
       "      <td>женат / замужем</td>\n",
       "      <td>0</td>\n",
       "      <td>M</td>\n",
       "      <td>сотрудник</td>\n",
       "      <td>0</td>\n",
       "      <td>267628</td>\n",
       "      <td>дополнительное образование</td>\n",
       "      <td>B</td>\n",
       "      <td>получение образования</td>\n",
       "      <td>3 ребенка</td>\n",
       "      <td>4</td>\n",
       "    </tr>\n",
       "    <tr>\n",
       "      <th>4</th>\n",
       "      <td>0</td>\n",
       "      <td>340266.072047</td>\n",
       "      <td>53</td>\n",
       "      <td>среднее</td>\n",
       "      <td>1</td>\n",
       "      <td>гражданский брак</td>\n",
       "      <td>1</td>\n",
       "      <td>F</td>\n",
       "      <td>пенсионер</td>\n",
       "      <td>0</td>\n",
       "      <td>158616</td>\n",
       "      <td>сыграть свадьбу</td>\n",
       "      <td>C</td>\n",
       "      <td>проведение свадьбы</td>\n",
       "      <td>Нет детей</td>\n",
       "      <td>3</td>\n",
       "    </tr>\n",
       "  </tbody>\n",
       "</table>\n",
       "</div>"
      ],
      "text/plain": [
       "   children  days_employed  dob_years education  education_id  \\\n",
       "0         1    8437.673028         42    высшее             0   \n",
       "1         1    4024.803754         36   среднее             1   \n",
       "2         0    5623.422610         33   среднее             1   \n",
       "3         3    4124.747207         32   среднее             1   \n",
       "4         0  340266.072047         53   среднее             1   \n",
       "\n",
       "      family_status  family_status_id gender income_type  debt  total_income  \\\n",
       "0   женат / замужем                 0      F   сотрудник     0        253875   \n",
       "1   женат / замужем                 0      F   сотрудник     0        112080   \n",
       "2   женат / замужем                 0      M   сотрудник     0        145885   \n",
       "3   женат / замужем                 0      M   сотрудник     0        267628   \n",
       "4  гражданский брак                 1      F   пенсионер     0        158616   \n",
       "\n",
       "                      purpose total_income_category          purpose_category  \\\n",
       "0               покупка жилья                     B  операции с недвижимостью   \n",
       "1     приобретение автомобиля                     C    операции с автомобилем   \n",
       "2               покупка жилья                     C  операции с недвижимостью   \n",
       "3  дополнительное образование                     B     получение образования   \n",
       "4             сыграть свадьбу                     C        проведение свадьбы   \n",
       "\n",
       "  family_type  family_status_num  \n",
       "0   1 ребенок                  4  \n",
       "1   1 ребенок                  4  \n",
       "2   Нет детей                  4  \n",
       "3   3 ребенка                  4  \n",
       "4   Нет детей                  3  "
      ]
     },
     "execution_count": 41,
     "metadata": {},
     "output_type": "execute_result"
    }
   ],
   "source": [
    "def numerical_family_status(data):\n",
    "    if data['family_status'] == 'Не женат / не замужем':\n",
    "        return 0\n",
    "    elif data['family_status'] == 'в разводе':\n",
    "        return 1\n",
    "    elif data['family_status'] == 'вдовец / вдова':\n",
    "        return 2\n",
    "    elif data['family_status'] == 'гражданский брак':\n",
    "        return 3\n",
    "    elif data['family_status'] == 'женат / замужем':\n",
    "        return 4\n",
    "    else:\n",
    "        return 0\n",
    "\n",
    "    return result\n",
    "\n",
    "\n",
    "data['family_status_num'] = data.apply(numerical_family_status, axis = 1)\n",
    "data.head()"
   ]
  },
  {
   "cell_type": "code",
   "execution_count": 42,
   "id": "8d4d02f1",
   "metadata": {},
   "outputs": [
    {
     "data": {
      "text/html": [
       "<div>\n",
       "<style scoped>\n",
       "    .dataframe tbody tr th:only-of-type {\n",
       "        vertical-align: middle;\n",
       "    }\n",
       "\n",
       "    .dataframe tbody tr th {\n",
       "        vertical-align: top;\n",
       "    }\n",
       "\n",
       "    .dataframe thead tr th {\n",
       "        text-align: left;\n",
       "    }\n",
       "\n",
       "    .dataframe thead tr:last-of-type th {\n",
       "        text-align: right;\n",
       "    }\n",
       "</style>\n",
       "<table border=\"1\" class=\"dataframe\">\n",
       "  <thead>\n",
       "    <tr>\n",
       "      <th></th>\n",
       "      <th>count</th>\n",
       "      <th>sum</th>\n",
       "      <th>mean</th>\n",
       "    </tr>\n",
       "    <tr>\n",
       "      <th></th>\n",
       "      <th>debt</th>\n",
       "      <th>debt</th>\n",
       "      <th>debt</th>\n",
       "    </tr>\n",
       "    <tr>\n",
       "      <th>family_status_num</th>\n",
       "      <th></th>\n",
       "      <th></th>\n",
       "      <th></th>\n",
       "    </tr>\n",
       "  </thead>\n",
       "  <tbody>\n",
       "    <tr>\n",
       "      <th>0</th>\n",
       "      <td>2796</td>\n",
       "      <td>273</td>\n",
       "      <td>0.097639</td>\n",
       "    </tr>\n",
       "    <tr>\n",
       "      <th>1</th>\n",
       "      <td>1189</td>\n",
       "      <td>84</td>\n",
       "      <td>0.070648</td>\n",
       "    </tr>\n",
       "    <tr>\n",
       "      <th>2</th>\n",
       "      <td>951</td>\n",
       "      <td>63</td>\n",
       "      <td>0.066246</td>\n",
       "    </tr>\n",
       "    <tr>\n",
       "      <th>3</th>\n",
       "      <td>4134</td>\n",
       "      <td>385</td>\n",
       "      <td>0.093130</td>\n",
       "    </tr>\n",
       "    <tr>\n",
       "      <th>4</th>\n",
       "      <td>12261</td>\n",
       "      <td>927</td>\n",
       "      <td>0.075606</td>\n",
       "    </tr>\n",
       "  </tbody>\n",
       "</table>\n",
       "</div>"
      ],
      "text/plain": [
       "                   count  sum      mean\n",
       "                    debt debt      debt\n",
       "family_status_num                      \n",
       "0                   2796  273  0.097639\n",
       "1                   1189   84  0.070648\n",
       "2                    951   63  0.066246\n",
       "3                   4134  385  0.093130\n",
       "4                  12261  927  0.075606"
      ]
     },
     "execution_count": 42,
     "metadata": {},
     "output_type": "execute_result"
    }
   ],
   "source": [
    "data.pivot_table(index='family_status_num', \n",
    "                 columns=None, \n",
    "                 values='debt', \n",
    "                 aggfunc=['count', 'sum', 'mean'])"
   ]
  },
  {
   "cell_type": "markdown",
   "id": "6b4a641d",
   "metadata": {},
   "source": [
    "###### Посмотрим корреляцию признаков"
   ]
  },
  {
   "cell_type": "code",
   "execution_count": 43,
   "id": "559c1284",
   "metadata": {},
   "outputs": [
    {
     "name": "stdout",
     "output_type": "stream",
     "text": [
      "-0.020181120162786788\n"
     ]
    }
   ],
   "source": [
    "print(data['family_status_num'].corr(data['debt']))"
   ]
  },
  {
   "cell_type": "code",
   "execution_count": 44,
   "id": "93cc8d91",
   "metadata": {},
   "outputs": [
    {
     "data": {
      "image/png": "[encoded data removed]",
      "text/plain": [
       "<Figure size 720x720 with 2 Axes>"
      ]
     },
     "metadata": {
      "needs_background": "light"
     },
     "output_type": "display_data"
    }
   ],
   "source": [
    "plt.figure(figsize=(10,10))\n",
    "sns.heatmap(data.corr(), annot=True, cmap='Blues')\n",
    "plt.show()"
   ]
  },
  {
   "cell_type": "markdown",
   "id": "8164ad81",
   "metadata": {
    "deletable": false,
    "id": "1cef7837"
   },
   "source": [
    "**Вывод:** "
   ]
  },
  {
   "cell_type": "markdown",
   "id": "ca2204ca",
   "metadata": {},
   "source": [
    "В результате исследования была сформулирована гипотеза о том, что имеется зависимость между семейным положением и возвратом кредита в срок. Таким образом, были выбраны два признака - 'family_status' и 'debt'.\n",
    "\n",
    "1. По итогам рассмотрения выявлено, что корреляции между признакми нет, что говорит об отсутствии связи между переменными.\n",
    "2. Должники присутсвуют в каждой семейной категории, но самый высокий процент должников среди не женатых (не замужних) заемщиков и заемщиков, состоящих в гражданком браке (9.7% и 9.3% соответственно). Таким образом, выявлены группы заемщиков, оказывающих наибольшее влияние на возврат кредитов в установленные сроки.\n",
    "\n"
   ]
  },
  {
   "cell_type": "markdown",
   "id": "60277513",
   "metadata": {
    "deletable": false,
    "editable": false,
    "id": "1e8b2fca"
   },
   "source": [
    "#### 3.3 Есть ли зависимость между уровнем дохода и возвратом кредита в срок?"
   ]
  },
  {
   "cell_type": "markdown",
   "id": "c44cfc39",
   "metadata": {},
   "source": [
    "###### Выведем сведения о категориях кредитополучателей."
   ]
  },
  {
   "cell_type": "code",
   "execution_count": 45,
   "id": "8f9b80ea",
   "metadata": {},
   "outputs": [
    {
     "data": {
      "text/plain": [
       "C    15921\n",
       "B     5014\n",
       "D      349\n",
       "A       25\n",
       "E       22\n",
       "Name: total_income_category, dtype: int64"
      ]
     },
     "execution_count": 45,
     "metadata": {},
     "output_type": "execute_result"
    }
   ],
   "source": [
    "data['total_income_category'].value_counts()"
   ]
  },
  {
   "cell_type": "markdown",
   "id": "64c06354",
   "metadata": {},
   "source": [
    "###### Доли каждой группы кредиотполучателей"
   ]
  },
  {
   "cell_type": "code",
   "execution_count": 46,
   "id": "1e1f29f1",
   "metadata": {},
   "outputs": [
    {
     "data": {
      "text/plain": [
       "C    0.746379\n",
       "B    0.235057\n",
       "D    0.016361\n",
       "A    0.001172\n",
       "E    0.001031\n",
       "Name: total_income_category, dtype: float64"
      ]
     },
     "execution_count": 46,
     "metadata": {},
     "output_type": "execute_result"
    }
   ],
   "source": [
    "data['total_income_category'].value_counts(normalize=True)"
   ]
  },
  {
   "cell_type": "markdown",
   "id": "eba2c4e8",
   "metadata": {},
   "source": [
    "###### Визуализируем данные"
   ]
  },
  {
   "cell_type": "code",
   "execution_count": 47,
   "id": "1f70c199",
   "metadata": {
    "scrolled": false
   },
   "outputs": [
    {
     "data": {
      "image/png": "[encoded data removed]",
      "text/plain": [
       "<Figure size 1296x648 with 1 Axes>"
      ]
     },
     "metadata": {
      "needs_background": "light"
     },
     "output_type": "display_data"
    }
   ],
   "source": [
    "plt.figure(figsize=(18,9))\n",
    "sns.histplot(data['total_income_category'])\n",
    "plt.title('Сведения о категориях кредитополучателей', fontsize=18)\n",
    "plt.xlabel('Категории', fontsize=16)\n",
    "plt.ylabel('Количество кредитополучателей', fontsize=16)\n",
    "plt.grid()\n",
    "plt.show()"
   ]
  },
  {
   "cell_type": "markdown",
   "id": "27f50bc5",
   "metadata": {},
   "source": [
    "###### Создадим таблицу с выборкой и расчетом доли должников по каждой категории кредитополучателя."
   ]
  },
  {
   "cell_type": "code",
   "execution_count": 48,
   "id": "851df5cf",
   "metadata": {},
   "outputs": [
    {
     "data": {
      "text/html": [
       "<div>\n",
       "<style scoped>\n",
       "    .dataframe tbody tr th:only-of-type {\n",
       "        vertical-align: middle;\n",
       "    }\n",
       "\n",
       "    .dataframe tbody tr th {\n",
       "        vertical-align: top;\n",
       "    }\n",
       "\n",
       "    .dataframe thead tr th {\n",
       "        text-align: left;\n",
       "    }\n",
       "\n",
       "    .dataframe thead tr:last-of-type th {\n",
       "        text-align: right;\n",
       "    }\n",
       "</style>\n",
       "<table border=\"1\" class=\"dataframe\">\n",
       "  <thead>\n",
       "    <tr>\n",
       "      <th></th>\n",
       "      <th>count</th>\n",
       "      <th>sum</th>\n",
       "      <th>mean</th>\n",
       "    </tr>\n",
       "    <tr>\n",
       "      <th></th>\n",
       "      <th>debt</th>\n",
       "      <th>debt</th>\n",
       "      <th>debt</th>\n",
       "    </tr>\n",
       "    <tr>\n",
       "      <th>total_income_category</th>\n",
       "      <th></th>\n",
       "      <th></th>\n",
       "      <th></th>\n",
       "    </tr>\n",
       "  </thead>\n",
       "  <tbody>\n",
       "    <tr>\n",
       "      <th>A</th>\n",
       "      <td>25</td>\n",
       "      <td>2</td>\n",
       "      <td>0.080000</td>\n",
       "    </tr>\n",
       "    <tr>\n",
       "      <th>B</th>\n",
       "      <td>5014</td>\n",
       "      <td>354</td>\n",
       "      <td>0.070602</td>\n",
       "    </tr>\n",
       "    <tr>\n",
       "      <th>C</th>\n",
       "      <td>15921</td>\n",
       "      <td>1353</td>\n",
       "      <td>0.084982</td>\n",
       "    </tr>\n",
       "    <tr>\n",
       "      <th>D</th>\n",
       "      <td>349</td>\n",
       "      <td>21</td>\n",
       "      <td>0.060172</td>\n",
       "    </tr>\n",
       "    <tr>\n",
       "      <th>E</th>\n",
       "      <td>22</td>\n",
       "      <td>2</td>\n",
       "      <td>0.090909</td>\n",
       "    </tr>\n",
       "  </tbody>\n",
       "</table>\n",
       "</div>"
      ],
      "text/plain": [
       "                       count   sum      mean\n",
       "                        debt  debt      debt\n",
       "total_income_category                       \n",
       "A                         25     2  0.080000\n",
       "B                       5014   354  0.070602\n",
       "C                      15921  1353  0.084982\n",
       "D                        349    21  0.060172\n",
       "E                         22     2  0.090909"
      ]
     },
     "execution_count": 48,
     "metadata": {},
     "output_type": "execute_result"
    }
   ],
   "source": [
    "data.pivot_table(index='total_income_category', \n",
    "                 columns=None, \n",
    "                 values='debt', \n",
    "                 aggfunc=['count', 'sum', 'mean'])"
   ]
  },
  {
   "cell_type": "markdown",
   "id": "b9f0d40e",
   "metadata": {},
   "source": [
    "###### Проверим корреляцию изучаемых признаков. Для этого добавим новый признак 'total_income_category_num', который будет содержать категории замщиков по уровню дохода переведенные из категориальных в числовые. Для этого напишем функцию."
   ]
  },
  {
   "cell_type": "code",
   "execution_count": 49,
   "id": "6aa52b5e",
   "metadata": {},
   "outputs": [
    {
     "data": {
      "text/html": [
       "<div>\n",
       "<style scoped>\n",
       "    .dataframe tbody tr th:only-of-type {\n",
       "        vertical-align: middle;\n",
       "    }\n",
       "\n",
       "    .dataframe tbody tr th {\n",
       "        vertical-align: top;\n",
       "    }\n",
       "\n",
       "    .dataframe thead th {\n",
       "        text-align: right;\n",
       "    }\n",
       "</style>\n",
       "<table border=\"1\" class=\"dataframe\">\n",
       "  <thead>\n",
       "    <tr style=\"text-align: right;\">\n",
       "      <th></th>\n",
       "      <th>children</th>\n",
       "      <th>days_employed</th>\n",
       "      <th>dob_years</th>\n",
       "      <th>education</th>\n",
       "      <th>education_id</th>\n",
       "      <th>family_status</th>\n",
       "      <th>family_status_id</th>\n",
       "      <th>gender</th>\n",
       "      <th>income_type</th>\n",
       "      <th>debt</th>\n",
       "      <th>total_income</th>\n",
       "      <th>purpose</th>\n",
       "      <th>total_income_category</th>\n",
       "      <th>purpose_category</th>\n",
       "      <th>family_type</th>\n",
       "      <th>family_status_num</th>\n",
       "      <th>total_income_category_num</th>\n",
       "    </tr>\n",
       "  </thead>\n",
       "  <tbody>\n",
       "    <tr>\n",
       "      <th>0</th>\n",
       "      <td>1</td>\n",
       "      <td>8437.673028</td>\n",
       "      <td>42</td>\n",
       "      <td>высшее</td>\n",
       "      <td>0</td>\n",
       "      <td>женат / замужем</td>\n",
       "      <td>0</td>\n",
       "      <td>F</td>\n",
       "      <td>сотрудник</td>\n",
       "      <td>0</td>\n",
       "      <td>253875</td>\n",
       "      <td>покупка жилья</td>\n",
       "      <td>B</td>\n",
       "      <td>операции с недвижимостью</td>\n",
       "      <td>1 ребенок</td>\n",
       "      <td>4</td>\n",
       "      <td>1</td>\n",
       "    </tr>\n",
       "    <tr>\n",
       "      <th>1</th>\n",
       "      <td>1</td>\n",
       "      <td>4024.803754</td>\n",
       "      <td>36</td>\n",
       "      <td>среднее</td>\n",
       "      <td>1</td>\n",
       "      <td>женат / замужем</td>\n",
       "      <td>0</td>\n",
       "      <td>F</td>\n",
       "      <td>сотрудник</td>\n",
       "      <td>0</td>\n",
       "      <td>112080</td>\n",
       "      <td>приобретение автомобиля</td>\n",
       "      <td>C</td>\n",
       "      <td>операции с автомобилем</td>\n",
       "      <td>1 ребенок</td>\n",
       "      <td>4</td>\n",
       "      <td>2</td>\n",
       "    </tr>\n",
       "    <tr>\n",
       "      <th>2</th>\n",
       "      <td>0</td>\n",
       "      <td>5623.422610</td>\n",
       "      <td>33</td>\n",
       "      <td>среднее</td>\n",
       "      <td>1</td>\n",
       "      <td>женат / замужем</td>\n",
       "      <td>0</td>\n",
       "      <td>M</td>\n",
       "      <td>сотрудник</td>\n",
       "      <td>0</td>\n",
       "      <td>145885</td>\n",
       "      <td>покупка жилья</td>\n",
       "      <td>C</td>\n",
       "      <td>операции с недвижимостью</td>\n",
       "      <td>Нет детей</td>\n",
       "      <td>4</td>\n",
       "      <td>2</td>\n",
       "    </tr>\n",
       "    <tr>\n",
       "      <th>3</th>\n",
       "      <td>3</td>\n",
       "      <td>4124.747207</td>\n",
       "      <td>32</td>\n",
       "      <td>среднее</td>\n",
       "      <td>1</td>\n",
       "      <td>женат / замужем</td>\n",
       "      <td>0</td>\n",
       "      <td>M</td>\n",
       "      <td>сотрудник</td>\n",
       "      <td>0</td>\n",
       "      <td>267628</td>\n",
       "      <td>дополнительное образование</td>\n",
       "      <td>B</td>\n",
       "      <td>получение образования</td>\n",
       "      <td>3 ребенка</td>\n",
       "      <td>4</td>\n",
       "      <td>1</td>\n",
       "    </tr>\n",
       "    <tr>\n",
       "      <th>4</th>\n",
       "      <td>0</td>\n",
       "      <td>340266.072047</td>\n",
       "      <td>53</td>\n",
       "      <td>среднее</td>\n",
       "      <td>1</td>\n",
       "      <td>гражданский брак</td>\n",
       "      <td>1</td>\n",
       "      <td>F</td>\n",
       "      <td>пенсионер</td>\n",
       "      <td>0</td>\n",
       "      <td>158616</td>\n",
       "      <td>сыграть свадьбу</td>\n",
       "      <td>C</td>\n",
       "      <td>проведение свадьбы</td>\n",
       "      <td>Нет детей</td>\n",
       "      <td>3</td>\n",
       "      <td>2</td>\n",
       "    </tr>\n",
       "  </tbody>\n",
       "</table>\n",
       "</div>"
      ],
      "text/plain": [
       "   children  days_employed  dob_years education  education_id  \\\n",
       "0         1    8437.673028         42    высшее             0   \n",
       "1         1    4024.803754         36   среднее             1   \n",
       "2         0    5623.422610         33   среднее             1   \n",
       "3         3    4124.747207         32   среднее             1   \n",
       "4         0  340266.072047         53   среднее             1   \n",
       "\n",
       "      family_status  family_status_id gender income_type  debt  total_income  \\\n",
       "0   женат / замужем                 0      F   сотрудник     0        253875   \n",
       "1   женат / замужем                 0      F   сотрудник     0        112080   \n",
       "2   женат / замужем                 0      M   сотрудник     0        145885   \n",
       "3   женат / замужем                 0      M   сотрудник     0        267628   \n",
       "4  гражданский брак                 1      F   пенсионер     0        158616   \n",
       "\n",
       "                      purpose total_income_category          purpose_category  \\\n",
       "0               покупка жилья                     B  операции с недвижимостью   \n",
       "1     приобретение автомобиля                     C    операции с автомобилем   \n",
       "2               покупка жилья                     C  операции с недвижимостью   \n",
       "3  дополнительное образование                     B     получение образования   \n",
       "4             сыграть свадьбу                     C        проведение свадьбы   \n",
       "\n",
       "  family_type  family_status_num  total_income_category_num  \n",
       "0   1 ребенок                  4                          1  \n",
       "1   1 ребенок                  4                          2  \n",
       "2   Нет детей                  4                          2  \n",
       "3   3 ребенка                  4                          1  \n",
       "4   Нет детей                  3                          2  "
      ]
     },
     "execution_count": 49,
     "metadata": {},
     "output_type": "execute_result"
    }
   ],
   "source": [
    "def numerical_total_income_category(data):\n",
    "    if data['total_income_category'] == 'A':\n",
    "        return 0\n",
    "    elif data['total_income_category'] == 'B':\n",
    "        return 1\n",
    "    elif data['total_income_category'] == 'C':\n",
    "        return 2\n",
    "    elif data['total_income_category'] == 'D':\n",
    "        return 3\n",
    "    elif data['total_income_category'] == 'E':\n",
    "        return 4\n",
    "    else:\n",
    "        return 0\n",
    "\n",
    "    return result\n",
    "\n",
    "\n",
    "data['total_income_category_num'] = data.apply(numerical_total_income_category, axis = 1)\n",
    "data.head()"
   ]
  },
  {
   "cell_type": "code",
   "execution_count": 50,
   "id": "704b3761",
   "metadata": {},
   "outputs": [
    {
     "data": {
      "text/html": [
       "<div>\n",
       "<style scoped>\n",
       "    .dataframe tbody tr th:only-of-type {\n",
       "        vertical-align: middle;\n",
       "    }\n",
       "\n",
       "    .dataframe tbody tr th {\n",
       "        vertical-align: top;\n",
       "    }\n",
       "\n",
       "    .dataframe thead tr th {\n",
       "        text-align: left;\n",
       "    }\n",
       "\n",
       "    .dataframe thead tr:last-of-type th {\n",
       "        text-align: right;\n",
       "    }\n",
       "</style>\n",
       "<table border=\"1\" class=\"dataframe\">\n",
       "  <thead>\n",
       "    <tr>\n",
       "      <th></th>\n",
       "      <th>count</th>\n",
       "      <th>sum</th>\n",
       "      <th>mean</th>\n",
       "    </tr>\n",
       "    <tr>\n",
       "      <th></th>\n",
       "      <th>debt</th>\n",
       "      <th>debt</th>\n",
       "      <th>debt</th>\n",
       "    </tr>\n",
       "    <tr>\n",
       "      <th>total_income_category_num</th>\n",
       "      <th></th>\n",
       "      <th></th>\n",
       "      <th></th>\n",
       "    </tr>\n",
       "  </thead>\n",
       "  <tbody>\n",
       "    <tr>\n",
       "      <th>0</th>\n",
       "      <td>25</td>\n",
       "      <td>2</td>\n",
       "      <td>0.080000</td>\n",
       "    </tr>\n",
       "    <tr>\n",
       "      <th>1</th>\n",
       "      <td>5014</td>\n",
       "      <td>354</td>\n",
       "      <td>0.070602</td>\n",
       "    </tr>\n",
       "    <tr>\n",
       "      <th>2</th>\n",
       "      <td>15921</td>\n",
       "      <td>1353</td>\n",
       "      <td>0.084982</td>\n",
       "    </tr>\n",
       "    <tr>\n",
       "      <th>3</th>\n",
       "      <td>349</td>\n",
       "      <td>21</td>\n",
       "      <td>0.060172</td>\n",
       "    </tr>\n",
       "    <tr>\n",
       "      <th>4</th>\n",
       "      <td>22</td>\n",
       "      <td>2</td>\n",
       "      <td>0.090909</td>\n",
       "    </tr>\n",
       "  </tbody>\n",
       "</table>\n",
       "</div>"
      ],
      "text/plain": [
       "                           count   sum      mean\n",
       "                            debt  debt      debt\n",
       "total_income_category_num                       \n",
       "0                             25     2  0.080000\n",
       "1                           5014   354  0.070602\n",
       "2                          15921  1353  0.084982\n",
       "3                            349    21  0.060172\n",
       "4                             22     2  0.090909"
      ]
     },
     "execution_count": 50,
     "metadata": {},
     "output_type": "execute_result"
    }
   ],
   "source": [
    "data.pivot_table(index='total_income_category_num', \n",
    "                 columns=None, \n",
    "                 values='debt', \n",
    "                 aggfunc=['count', 'sum', 'mean'])"
   ]
  },
  {
   "cell_type": "markdown",
   "id": "1f5de369",
   "metadata": {
    "deletable": false,
    "id": "cd7e3720"
   },
   "source": [
    "###### Посмотрим корреляцию признаков"
   ]
  },
  {
   "cell_type": "code",
   "execution_count": 51,
   "id": "634afe73",
   "metadata": {},
   "outputs": [
    {
     "name": "stdout",
     "output_type": "stream",
     "text": [
      "0.01723603682425472\n"
     ]
    }
   ],
   "source": [
    "print(data['total_income_category_num'].corr(data['debt']))"
   ]
  },
  {
   "cell_type": "code",
   "execution_count": 52,
   "id": "c5e381b3",
   "metadata": {},
   "outputs": [
    {
     "data": {
      "image/png": "[encoded data removed]",
      "text/plain": [
       "<Figure size 720x720 with 2 Axes>"
      ]
     },
     "metadata": {
      "needs_background": "light"
     },
     "output_type": "display_data"
    }
   ],
   "source": [
    "plt.figure(figsize=(10,10))\n",
    "sns.heatmap(data.corr(), annot=True, cmap='Blues')\n",
    "plt.show()"
   ]
  },
  {
   "cell_type": "markdown",
   "id": "46964b81",
   "metadata": {
    "deletable": false,
    "id": "e8593def"
   },
   "source": [
    "**Вывод:** "
   ]
  },
  {
   "cell_type": "markdown",
   "id": "6362a5fd",
   "metadata": {},
   "source": [
    "В результате исследования была сформулирована гипотеза о том, что имеется зависимость между уровнем дохода заемщиков и возвратом кредита в срок. Таким образом, были выбраны два признака - 'total_income_category' и 'debt'.\n",
    "\n",
    "1. По итогам исследования выявлено, что корреляция между признаками слабая, что говорит об отсутствии связи между переменными. \n",
    "\n",
    "\n",
    "2. Наиболее рискованная категория заемщиков \"Е\". В ней самый большой процент должников (9%).\n",
    "\n",
    "\n",
    "3. Далее следует категория \"С\" - 8.4%, она же и самая значительная категория, заемщики в которой составляют 74.6% от общего числа кредиотполучателей.\n",
    "\n",
    "\n",
    "4. Но в категории \"Е\" наименьшее количество заемщиков - всего 22 человека, также и в категории \"А\" всего 25 человек. Их можно исключить из выборки, их доля не является статистически значимой (чуть более одной сотой процента каждая: 0.01031 и 0.01172 соответственно).\n",
    "\n",
    "\n",
    "5. Следует и обратить внимание также на маленький объем выборки группы \"D\" более 300 человек всего, а количество заемщиков с задолженностью - всего 22 человека. Данный объем выборки также является маленьким и статистически не значимым.\n",
    "\n",
    "\n",
    "6. Таким образом, необходимо особое внимание обратить на категорию \"С\" и следующую за ней как по количеству заемщиков так и доле задолжников категории \"В\". Вместе категории \"С\" и \"В\" составляют 98.1% всех заемщиков."
   ]
  },
  {
   "cell_type": "markdown",
   "id": "9dd1507c",
   "metadata": {
    "deletable": false,
    "editable": false,
    "id": "99ecbd1f"
   },
   "source": [
    "#### 3.4 Как разные цели кредита влияют на его возврат в срок?"
   ]
  },
  {
   "cell_type": "markdown",
   "id": "844d7ca2",
   "metadata": {},
   "source": [
    "###### Получим данные о целях кредита и их количественных характеристиках."
   ]
  },
  {
   "cell_type": "code",
   "execution_count": 53,
   "id": "d7296d32",
   "metadata": {},
   "outputs": [
    {
     "data": {
      "text/plain": [
       "операции с недвижимостью    10751\n",
       "операции с автомобилем       4279\n",
       "получение образования        3988\n",
       "проведение свадьбы           2313\n",
       "Name: purpose_category, dtype: int64"
      ]
     },
     "execution_count": 53,
     "metadata": {},
     "output_type": "execute_result"
    }
   ],
   "source": [
    "data['purpose_category'].value_counts()"
   ]
  },
  {
   "cell_type": "markdown",
   "id": "1dea934c",
   "metadata": {},
   "source": [
    "###### Посмотрим какую долю занимает каждая цель в общем количестве"
   ]
  },
  {
   "cell_type": "code",
   "execution_count": 54,
   "id": "cb39aff0",
   "metadata": {},
   "outputs": [
    {
     "data": {
      "text/plain": [
       "операции с недвижимостью    0.504008\n",
       "операции с автомобилем      0.200600\n",
       "получение образования       0.186958\n",
       "проведение свадьбы          0.108434\n",
       "Name: purpose_category, dtype: float64"
      ]
     },
     "execution_count": 54,
     "metadata": {},
     "output_type": "execute_result"
    }
   ],
   "source": [
    "data['purpose_category'].value_counts(normalize=True)"
   ]
  },
  {
   "cell_type": "markdown",
   "id": "4e86c301",
   "metadata": {},
   "source": [
    "###### Визуализируем полученные данные"
   ]
  },
  {
   "cell_type": "code",
   "execution_count": 55,
   "id": "e5c8429f",
   "metadata": {},
   "outputs": [
    {
     "data": {
      "image/png": "[encoded data removed]",
      "text/plain": [
       "<Figure size 1296x648 with 1 Axes>"
      ]
     },
     "metadata": {
      "needs_background": "light"
     },
     "output_type": "display_data"
    }
   ],
   "source": [
    "plt.figure(figsize=(18,9))\n",
    "sns.histplot(data['purpose_category'])\n",
    "plt.title('Сведения о целях кредитополучателей', fontsize=18)\n",
    "plt.xlabel('Цели получения займа', fontsize=16)\n",
    "plt.ylabel('Количество кредитополучателей', fontsize=16)\n",
    "plt.grid()\n",
    "plt.show()"
   ]
  },
  {
   "cell_type": "markdown",
   "id": "72503b8b",
   "metadata": {},
   "source": [
    "###### Составим таблицу с выборкой и расчетом доли должников по каждой цели кредита."
   ]
  },
  {
   "cell_type": "code",
   "execution_count": 56,
   "id": "a726eead",
   "metadata": {},
   "outputs": [
    {
     "data": {
      "text/html": [
       "<div>\n",
       "<style scoped>\n",
       "    .dataframe tbody tr th:only-of-type {\n",
       "        vertical-align: middle;\n",
       "    }\n",
       "\n",
       "    .dataframe tbody tr th {\n",
       "        vertical-align: top;\n",
       "    }\n",
       "\n",
       "    .dataframe thead tr th {\n",
       "        text-align: left;\n",
       "    }\n",
       "\n",
       "    .dataframe thead tr:last-of-type th {\n",
       "        text-align: right;\n",
       "    }\n",
       "</style>\n",
       "<table border=\"1\" class=\"dataframe\">\n",
       "  <thead>\n",
       "    <tr>\n",
       "      <th></th>\n",
       "      <th>count</th>\n",
       "      <th>sum</th>\n",
       "      <th>mean</th>\n",
       "    </tr>\n",
       "    <tr>\n",
       "      <th></th>\n",
       "      <th>debt</th>\n",
       "      <th>debt</th>\n",
       "      <th>debt</th>\n",
       "    </tr>\n",
       "    <tr>\n",
       "      <th>purpose_category</th>\n",
       "      <th></th>\n",
       "      <th></th>\n",
       "      <th></th>\n",
       "    </tr>\n",
       "  </thead>\n",
       "  <tbody>\n",
       "    <tr>\n",
       "      <th>операции с автомобилем</th>\n",
       "      <td>4279</td>\n",
       "      <td>400</td>\n",
       "      <td>0.093480</td>\n",
       "    </tr>\n",
       "    <tr>\n",
       "      <th>операции с недвижимостью</th>\n",
       "      <td>10751</td>\n",
       "      <td>780</td>\n",
       "      <td>0.072551</td>\n",
       "    </tr>\n",
       "    <tr>\n",
       "      <th>получение образования</th>\n",
       "      <td>3988</td>\n",
       "      <td>369</td>\n",
       "      <td>0.092528</td>\n",
       "    </tr>\n",
       "    <tr>\n",
       "      <th>проведение свадьбы</th>\n",
       "      <td>2313</td>\n",
       "      <td>183</td>\n",
       "      <td>0.079118</td>\n",
       "    </tr>\n",
       "  </tbody>\n",
       "</table>\n",
       "</div>"
      ],
      "text/plain": [
       "                          count  sum      mean\n",
       "                           debt debt      debt\n",
       "purpose_category                              \n",
       "операции с автомобилем     4279  400  0.093480\n",
       "операции с недвижимостью  10751  780  0.072551\n",
       "получение образования      3988  369  0.092528\n",
       "проведение свадьбы         2313  183  0.079118"
      ]
     },
     "execution_count": 56,
     "metadata": {},
     "output_type": "execute_result"
    }
   ],
   "source": [
    "data.pivot_table(index='purpose_category', \n",
    "                 columns=None, \n",
    "                 values='debt', \n",
    "                 aggfunc=['count', 'sum', 'mean'])"
   ]
  },
  {
   "cell_type": "markdown",
   "id": "3536ef1c",
   "metadata": {},
   "source": [
    "###### Проверим корреляцию изучаемых признаков. Для этого добавим новый признак 'purpose_category_num', который будет содержать категории целей займов переведенные из категориальных в числовые. Для этого напишем функцию."
   ]
  },
  {
   "cell_type": "code",
   "execution_count": 57,
   "id": "54efce9c",
   "metadata": {},
   "outputs": [
    {
     "data": {
      "text/html": [
       "<div>\n",
       "<style scoped>\n",
       "    .dataframe tbody tr th:only-of-type {\n",
       "        vertical-align: middle;\n",
       "    }\n",
       "\n",
       "    .dataframe tbody tr th {\n",
       "        vertical-align: top;\n",
       "    }\n",
       "\n",
       "    .dataframe thead th {\n",
       "        text-align: right;\n",
       "    }\n",
       "</style>\n",
       "<table border=\"1\" class=\"dataframe\">\n",
       "  <thead>\n",
       "    <tr style=\"text-align: right;\">\n",
       "      <th></th>\n",
       "      <th>children</th>\n",
       "      <th>days_employed</th>\n",
       "      <th>dob_years</th>\n",
       "      <th>education</th>\n",
       "      <th>education_id</th>\n",
       "      <th>family_status</th>\n",
       "      <th>family_status_id</th>\n",
       "      <th>gender</th>\n",
       "      <th>income_type</th>\n",
       "      <th>debt</th>\n",
       "      <th>total_income</th>\n",
       "      <th>purpose</th>\n",
       "      <th>total_income_category</th>\n",
       "      <th>purpose_category</th>\n",
       "      <th>family_type</th>\n",
       "      <th>family_status_num</th>\n",
       "      <th>total_income_category_num</th>\n",
       "      <th>purpose_category_num</th>\n",
       "    </tr>\n",
       "  </thead>\n",
       "  <tbody>\n",
       "    <tr>\n",
       "      <th>0</th>\n",
       "      <td>1</td>\n",
       "      <td>8437.673028</td>\n",
       "      <td>42</td>\n",
       "      <td>высшее</td>\n",
       "      <td>0</td>\n",
       "      <td>женат / замужем</td>\n",
       "      <td>0</td>\n",
       "      <td>F</td>\n",
       "      <td>сотрудник</td>\n",
       "      <td>0</td>\n",
       "      <td>253875</td>\n",
       "      <td>покупка жилья</td>\n",
       "      <td>B</td>\n",
       "      <td>операции с недвижимостью</td>\n",
       "      <td>1 ребенок</td>\n",
       "      <td>4</td>\n",
       "      <td>1</td>\n",
       "      <td>1</td>\n",
       "    </tr>\n",
       "    <tr>\n",
       "      <th>1</th>\n",
       "      <td>1</td>\n",
       "      <td>4024.803754</td>\n",
       "      <td>36</td>\n",
       "      <td>среднее</td>\n",
       "      <td>1</td>\n",
       "      <td>женат / замужем</td>\n",
       "      <td>0</td>\n",
       "      <td>F</td>\n",
       "      <td>сотрудник</td>\n",
       "      <td>0</td>\n",
       "      <td>112080</td>\n",
       "      <td>приобретение автомобиля</td>\n",
       "      <td>C</td>\n",
       "      <td>операции с автомобилем</td>\n",
       "      <td>1 ребенок</td>\n",
       "      <td>4</td>\n",
       "      <td>2</td>\n",
       "      <td>0</td>\n",
       "    </tr>\n",
       "    <tr>\n",
       "      <th>2</th>\n",
       "      <td>0</td>\n",
       "      <td>5623.422610</td>\n",
       "      <td>33</td>\n",
       "      <td>среднее</td>\n",
       "      <td>1</td>\n",
       "      <td>женат / замужем</td>\n",
       "      <td>0</td>\n",
       "      <td>M</td>\n",
       "      <td>сотрудник</td>\n",
       "      <td>0</td>\n",
       "      <td>145885</td>\n",
       "      <td>покупка жилья</td>\n",
       "      <td>C</td>\n",
       "      <td>операции с недвижимостью</td>\n",
       "      <td>Нет детей</td>\n",
       "      <td>4</td>\n",
       "      <td>2</td>\n",
       "      <td>1</td>\n",
       "    </tr>\n",
       "    <tr>\n",
       "      <th>3</th>\n",
       "      <td>3</td>\n",
       "      <td>4124.747207</td>\n",
       "      <td>32</td>\n",
       "      <td>среднее</td>\n",
       "      <td>1</td>\n",
       "      <td>женат / замужем</td>\n",
       "      <td>0</td>\n",
       "      <td>M</td>\n",
       "      <td>сотрудник</td>\n",
       "      <td>0</td>\n",
       "      <td>267628</td>\n",
       "      <td>дополнительное образование</td>\n",
       "      <td>B</td>\n",
       "      <td>получение образования</td>\n",
       "      <td>3 ребенка</td>\n",
       "      <td>4</td>\n",
       "      <td>1</td>\n",
       "      <td>2</td>\n",
       "    </tr>\n",
       "    <tr>\n",
       "      <th>4</th>\n",
       "      <td>0</td>\n",
       "      <td>340266.072047</td>\n",
       "      <td>53</td>\n",
       "      <td>среднее</td>\n",
       "      <td>1</td>\n",
       "      <td>гражданский брак</td>\n",
       "      <td>1</td>\n",
       "      <td>F</td>\n",
       "      <td>пенсионер</td>\n",
       "      <td>0</td>\n",
       "      <td>158616</td>\n",
       "      <td>сыграть свадьбу</td>\n",
       "      <td>C</td>\n",
       "      <td>проведение свадьбы</td>\n",
       "      <td>Нет детей</td>\n",
       "      <td>3</td>\n",
       "      <td>2</td>\n",
       "      <td>3</td>\n",
       "    </tr>\n",
       "  </tbody>\n",
       "</table>\n",
       "</div>"
      ],
      "text/plain": [
       "   children  days_employed  dob_years education  education_id  \\\n",
       "0         1    8437.673028         42    высшее             0   \n",
       "1         1    4024.803754         36   среднее             1   \n",
       "2         0    5623.422610         33   среднее             1   \n",
       "3         3    4124.747207         32   среднее             1   \n",
       "4         0  340266.072047         53   среднее             1   \n",
       "\n",
       "      family_status  family_status_id gender income_type  debt  total_income  \\\n",
       "0   женат / замужем                 0      F   сотрудник     0        253875   \n",
       "1   женат / замужем                 0      F   сотрудник     0        112080   \n",
       "2   женат / замужем                 0      M   сотрудник     0        145885   \n",
       "3   женат / замужем                 0      M   сотрудник     0        267628   \n",
       "4  гражданский брак                 1      F   пенсионер     0        158616   \n",
       "\n",
       "                      purpose total_income_category          purpose_category  \\\n",
       "0               покупка жилья                     B  операции с недвижимостью   \n",
       "1     приобретение автомобиля                     C    операции с автомобилем   \n",
       "2               покупка жилья                     C  операции с недвижимостью   \n",
       "3  дополнительное образование                     B     получение образования   \n",
       "4             сыграть свадьбу                     C        проведение свадьбы   \n",
       "\n",
       "  family_type  family_status_num  total_income_category_num  \\\n",
       "0   1 ребенок                  4                          1   \n",
       "1   1 ребенок                  4                          2   \n",
       "2   Нет детей                  4                          2   \n",
       "3   3 ребенка                  4                          1   \n",
       "4   Нет детей                  3                          2   \n",
       "\n",
       "   purpose_category_num  \n",
       "0                     1  \n",
       "1                     0  \n",
       "2                     1  \n",
       "3                     2  \n",
       "4                     3  "
      ]
     },
     "execution_count": 57,
     "metadata": {},
     "output_type": "execute_result"
    }
   ],
   "source": [
    "def numerical_purpose_category(data):\n",
    "    if data['purpose_category'] == 'операции с автомобилем':\n",
    "        return 0\n",
    "    elif data['purpose_category'] == 'операции с недвижимостью':\n",
    "        return 1\n",
    "    elif data['purpose_category'] == 'получение образования':\n",
    "        return 2\n",
    "    elif data['purpose_category'] == 'проведение свадьбы':\n",
    "        return 3\n",
    "    else:\n",
    "        return 0\n",
    "\n",
    "    return result\n",
    "\n",
    "\n",
    "data['purpose_category_num'] = data.apply(numerical_purpose_category, axis = 1)\n",
    "data.head()"
   ]
  },
  {
   "cell_type": "markdown",
   "id": "d54fed66",
   "metadata": {},
   "source": [
    "###### Посмотрим корреляцию признаков"
   ]
  },
  {
   "cell_type": "code",
   "execution_count": 58,
   "id": "bf480f00",
   "metadata": {},
   "outputs": [
    {
     "name": "stdout",
     "output_type": "stream",
     "text": [
      "-0.0033011327010892566\n"
     ]
    }
   ],
   "source": [
    "print(data['purpose_category_num'].corr(data['debt']))"
   ]
  },
  {
   "cell_type": "code",
   "execution_count": 59,
   "id": "1af00f77",
   "metadata": {},
   "outputs": [
    {
     "data": {
      "image/png": "[encoded data removed]",
      "text/plain": [
       "<Figure size 720x720 with 2 Axes>"
      ]
     },
     "metadata": {
      "needs_background": "light"
     },
     "output_type": "display_data"
    }
   ],
   "source": [
    "plt.figure(figsize=(10,10))\n",
    "sns.heatmap(data.corr(), annot=True, cmap='Blues')\n",
    "plt.show()"
   ]
  },
  {
   "cell_type": "markdown",
   "id": "d6c2244a",
   "metadata": {
    "deletable": false,
    "id": "b4bb2ce6"
   },
   "source": [
    "**Вывод:** "
   ]
  },
  {
   "cell_type": "markdown",
   "id": "d0b576aa",
   "metadata": {
    "deletable": false,
    "id": "2b687290"
   },
   "source": [
    "В результате исследования была сформулирована гипотеза о том, что имеется зависимость между целями получения кредита и возвратом кредита в срок. Таким образом, были выбраны два признака - 'purpose_category' и 'debt'.\n",
    "\n",
    "1. По итогам исследования выявлено, что корреляция между признаками отрицательная и слабая, что говорит об отсутствии связи между переменными.\n",
    "\n",
    "\n",
    "2. Операции с автомобилями и получение образования содержат наибольшие доли должников: 9.3% и 9.2% соответственно. Доля кредитов в этих категориях составляет 38% от общего количества. Попадание в лидеры по задолжности заемщиков автокредитов связана, по всей видимости, с несколькими причинами. Во-первых, автомобиль не является средством первой необходимости и платежная дисциплина по данному виду кредита может отличаться от выплаты, например, по ипотечному кредиту, который в жизненном приоритете может занимать довольно высокую позицию. Вторая причина, вероятно комбинированная и кроется с одной стороны высокими ставками по автокредитами и, с другой стороны одновременным падением уровня доходов населения и высоким уровнем подоражания автомобилей и ростом инфляции за последние годы.\n",
    "\n",
    "\n",
    "3. Вероятно, что большая доля задолженностей по образовательным кредитам связана с низким уровнем дохода и платежеспсобности. В этой категории должников возможно присутствует большое количество лиц молодого возраста, которым приходится одновременно и работать и учиться, что представляет проблему и отражается на платежеспособности. Более подробно это можно выяснить только углубленным иссследованием с добавлением третьей переменной - возраста заемщика и его социального статуса (студент, незанятый и т. д.). Заемщикам этой категории наиболее выгодно сегодня воспользоваться образовательным кредитом, которые выдаются банками под низкий процент и, соответственно снизят долговую нагрузку на заемщика и повысят его надежность для банка.\n",
    "\n",
    "\n",
    "4. Операции с недвижимостью, несмотря на их подавляющее большинство, имеют самую низкую долю должников - 7.2%."
   ]
  },
  {
   "cell_type": "markdown",
   "id": "a95b4d9a",
   "metadata": {
    "deletable": false,
    "editable": false,
    "id": "09c3ac4c"
   },
   "source": [
    "#### 3.5 Приведите возможные причины появления пропусков в исходных данных."
   ]
  },
  {
   "cell_type": "markdown",
   "id": "3c248462",
   "metadata": {
    "deletable": false,
    "id": "9da2ceda"
   },
   "source": [
    "*Ответ:* Технические причины (невозможность получить или собрать данные), субъективные (ошибки ввода данных, непредоставление данных различными субъектами)."
   ]
  },
  {
   "cell_type": "markdown",
   "id": "21488e22",
   "metadata": {
    "deletable": false,
    "editable": false,
    "id": "7b0487d6"
   },
   "source": [
    "#### 3.6 Объясните, почему заполнить пропуски медианным значением — лучшее решение для количественных переменных."
   ]
  },
  {
   "cell_type": "markdown",
   "id": "906199e8",
   "metadata": {
    "deletable": false,
    "id": "7ecf2b8e"
   },
   "source": [
    "*Ответ:* Медиана устойчива к выбросам, в отличие от среднего значения."
   ]
  },
  {
   "cell_type": "markdown",
   "id": "e6147b9d",
   "metadata": {
    "deletable": false,
    "editable": false,
    "id": "6db5255a"
   },
   "source": [
    "### Шаг 4: общий вывод."
   ]
  },
  {
   "cell_type": "markdown",
   "id": "70c0a69d",
   "metadata": {
    "deletable": false,
    "id": "bad65432"
   },
   "source": [
    "Основной целью нашего исследования надежности заемщиков было изучение различных финансовых и нефинансовых характеристик кредитополучателей и определение их уровня влияния на платежную дисциплину.\n",
    "\n",
    "\n",
    "В свою очередь, получение новых данных о конкретных категориях должников позволит кредитным организациям проводить более гибкую и осторожную кредитную политику, разрабатывая новые продуманные и адаптированные финансовые продукты и предложения для отдельных категоирй заемщиков, которые будут непосредственно отвечать реальным условиям и сократят долю невозвратных и просроченных кредитов. Следствием этого также станет снижение доли рискованных операций, проводимых кредитными организациями.\n",
    "\n",
    "\n",
    "Исследование проводилось в несколько этапов. На первом этапе проводился сбор данных и их подготовка для анализа. На втором этапе проводилось изучение как основных показателей описательной статистики, так и более глубокие исследования данных - выявление зависимостей среди переменных и определение уровня их корреляции, атакже категоризации и группировки данных по разным признакам для проверки гипотез исследования о зависимостях целевой переменной (надежности заемщика) от таких переменных, которые зарактеризуют финансовое и социальное положение заемщика (уровень дохода, наличие семьи и детей, цели кредитования). Третий этап исследования - заключительный в ходе которого подводятся итоги, описываются полученные результаты и делаются основные выводы по изучению влияния на платежеспособность каждой переменной.\n",
    "\n",
    "Исследование заемщиков показывает, что на возвратность кредитов все вышеуказанны переменные влияют по-разному.\n",
    "\n",
    "\n",
    "Для кредитных организаций можно выделить следующие группы риска среди заемщиков для последующего принятия решений, выработки стратегии эффективной кредитной политики, выстраиванию правильной политики и риск-менеджмента в организации, а также формированию маркетинговых мероприятий для разработки новых кредитных продуктов.\n",
    "\n",
    "\n",
    "Во-первых, необходимо обратить внимание на такую группу заемщиков как семьи без детей, которая составляет большинство от общего количества семей-должников (61%). Наибольшие доли должников в категориях семей с детьми - это семьи с 4 и с 2 детьми, их доля составляет 9.75% и 9.45% соответственно.\n",
    "\n",
    "\n",
    "Во-вторых, слудует учитывать, что должники присутсвуют также в каждой семейной категории, но самый высокий процент должников среди не женатых (не замужних) заемщиков и заемщиков, состоящих в гражданком браке (9.7% и 9.3% соответственно). Следует учитывать эти категории как оказывающие наибольшее влияние на возврат кредитов в установленные сроки в семейных категориях.\n",
    "\n",
    "\n",
    "В-третьих, на платежеспособность кредитополучателей влияет естественным образом уровень дохода заемщиков. Необходимо особое внимание обратить на категорию \"С\" и следующую за ней как по количеству заемщиков так и доле задолжников категории \"В\". Вместе категории \"С\" и \"В\" составляют 98.1% всех заемщиков.\n",
    "\n",
    "\n",
    "В-четвертых, различные цели кредита также в итоге влияют на появление задолженности. Операции с автомобилями и получение образования содержат наибольшие доли должников: 9.3% и 9.2% соответственно. Доля кредитов в этих категориях составляет 38% от общего количества. Операции с недвижимостью имеют самую низкую долю должников - 7.2%, но на эту категорию кредитополучаталей следует обратить особое внимание, так как она составляет подавляющее большинство в общем объеме задолжников (свыше 50%)."
   ]
  }
 ],
 "metadata": {
  "ExecuteTimeLog": [
   {
    "duration": 47,
    "start_time": "2024-04-16T16:28:34.371Z"
   },
   {
    "duration": 475,
    "start_time": "2024-04-16T16:28:44.905Z"
   },
   {
    "duration": 21,
    "start_time": "2024-04-16T16:28:45.382Z"
   },
   {
    "duration": 107,
    "start_time": "2024-04-16T16:28:45.405Z"
   },
   {
    "duration": 55,
    "start_time": "2024-04-16T16:28:45.514Z"
   },
   {
    "duration": 223,
    "start_time": "2024-04-16T16:28:45.571Z"
   },
   {
    "duration": 3,
    "start_time": "2024-04-16T16:28:45.796Z"
   },
   {
    "duration": 32,
    "start_time": "2024-04-16T16:28:45.800Z"
   },
   {
    "duration": 27,
    "start_time": "2024-04-16T16:28:45.834Z"
   },
   {
    "duration": 32,
    "start_time": "2024-04-16T16:28:45.863Z"
   },
   {
    "duration": 33,
    "start_time": "2024-04-16T16:28:45.897Z"
   },
   {
    "duration": 53,
    "start_time": "2024-04-16T16:28:45.932Z"
   },
   {
    "duration": 10,
    "start_time": "2024-04-16T16:28:45.987Z"
   },
   {
    "duration": 20,
    "start_time": "2024-04-16T16:28:45.998Z"
   },
   {
    "duration": 16,
    "start_time": "2024-04-16T16:28:46.020Z"
   },
   {
    "duration": 41,
    "start_time": "2024-04-16T16:28:46.038Z"
   },
   {
    "duration": 35,
    "start_time": "2024-04-16T16:28:46.081Z"
   },
   {
    "duration": 3,
    "start_time": "2024-04-16T16:28:46.118Z"
   },
   {
    "duration": 32,
    "start_time": "2024-04-16T16:28:46.122Z"
   },
   {
    "duration": 14,
    "start_time": "2024-04-16T16:28:46.156Z"
   },
   {
    "duration": 6,
    "start_time": "2024-04-16T16:28:46.172Z"
   },
   {
    "duration": 15,
    "start_time": "2024-04-16T16:28:46.180Z"
   },
   {
    "duration": 18,
    "start_time": "2024-04-16T16:28:46.197Z"
   },
   {
    "duration": 42,
    "start_time": "2024-04-16T16:28:46.217Z"
   },
   {
    "duration": 10,
    "start_time": "2024-04-16T16:28:46.260Z"
   },
   {
    "duration": 7,
    "start_time": "2024-04-16T16:28:46.272Z"
   },
   {
    "duration": 5,
    "start_time": "2024-04-16T16:28:46.281Z"
   },
   {
    "duration": 73,
    "start_time": "2024-04-16T16:33:34.587Z"
   },
   {
    "duration": 1027,
    "start_time": "2024-04-16T16:34:27.474Z"
   },
   {
    "duration": 14,
    "start_time": "2024-04-16T16:34:28.763Z"
   },
   {
    "duration": 43,
    "start_time": "2024-04-16T16:34:44.635Z"
   },
   {
    "duration": 2,
    "start_time": "2024-04-16T16:35:08.810Z"
   },
   {
    "duration": 13,
    "start_time": "2024-04-16T16:35:09.449Z"
   },
   {
    "duration": 730,
    "start_time": "2024-04-16T16:35:11.178Z"
   },
   {
    "duration": 35,
    "start_time": "2024-04-16T16:39:26.879Z"
   },
   {
    "duration": 30,
    "start_time": "2024-04-16T16:39:59.672Z"
   },
   {
    "duration": 468,
    "start_time": "2024-04-16T16:48:10.282Z"
   },
   {
    "duration": 621,
    "start_time": "2024-04-16T16:49:38.300Z"
   },
   {
    "duration": 478,
    "start_time": "2024-04-16T16:52:07.329Z"
   },
   {
    "duration": 571,
    "start_time": "2024-04-16T16:53:49.920Z"
   },
   {
    "duration": 603,
    "start_time": "2024-04-16T16:54:07.888Z"
   },
   {
    "duration": 640,
    "start_time": "2024-04-16T16:56:24.872Z"
   },
   {
    "duration": 561,
    "start_time": "2024-04-16T16:57:43.647Z"
   },
   {
    "duration": 432,
    "start_time": "2024-04-16T16:57:52.954Z"
   },
   {
    "duration": 22,
    "start_time": "2024-04-16T16:57:53.387Z"
   },
   {
    "duration": 34,
    "start_time": "2024-04-16T16:57:53.410Z"
   },
   {
    "duration": 23,
    "start_time": "2024-04-16T16:57:53.447Z"
   },
   {
    "duration": 78,
    "start_time": "2024-04-16T16:57:53.472Z"
   },
   {
    "duration": 4,
    "start_time": "2024-04-16T16:57:53.551Z"
   },
   {
    "duration": 27,
    "start_time": "2024-04-16T16:57:53.557Z"
   },
   {
    "duration": 23,
    "start_time": "2024-04-16T16:57:53.586Z"
   },
   {
    "duration": 28,
    "start_time": "2024-04-16T16:57:53.610Z"
   },
   {
    "duration": 13,
    "start_time": "2024-04-16T16:57:53.641Z"
   },
   {
    "duration": 52,
    "start_time": "2024-04-16T16:57:53.655Z"
   },
   {
    "duration": 11,
    "start_time": "2024-04-16T16:57:53.709Z"
   },
   {
    "duration": 22,
    "start_time": "2024-04-16T16:57:53.721Z"
   },
   {
    "duration": 26,
    "start_time": "2024-04-16T16:57:53.745Z"
   },
   {
    "duration": 114,
    "start_time": "2024-04-16T16:57:53.772Z"
   },
   {
    "duration": 67,
    "start_time": "2024-04-16T16:57:53.889Z"
   },
   {
    "duration": 30,
    "start_time": "2024-04-16T16:57:53.957Z"
   },
   {
    "duration": 28,
    "start_time": "2024-04-16T16:57:53.988Z"
   },
   {
    "duration": 7,
    "start_time": "2024-04-16T16:57:54.018Z"
   },
   {
    "duration": 36,
    "start_time": "2024-04-16T16:57:54.027Z"
   },
   {
    "duration": 37,
    "start_time": "2024-04-16T16:57:54.065Z"
   },
   {
    "duration": 682,
    "start_time": "2024-04-16T16:57:54.104Z"
   },
   {
    "duration": 13,
    "start_time": "2024-04-16T16:57:54.788Z"
   },
   {
    "duration": 45,
    "start_time": "2024-04-16T16:57:54.803Z"
   },
   {
    "duration": 635,
    "start_time": "2024-04-16T16:57:54.849Z"
   },
   {
    "duration": 535,
    "start_time": "2024-04-16T16:57:55.486Z"
   },
   {
    "duration": 2,
    "start_time": "2024-04-16T16:57:56.023Z"
   },
   {
    "duration": 4,
    "start_time": "2024-04-16T16:57:56.027Z"
   },
   {
    "duration": 6,
    "start_time": "2024-04-16T16:57:56.032Z"
   },
   {
    "duration": 294,
    "start_time": "2024-04-16T16:58:08.768Z"
   },
   {
    "duration": 544,
    "start_time": "2024-04-16T16:58:22.166Z"
   },
   {
    "duration": 584,
    "start_time": "2024-04-16T16:58:46.431Z"
   },
   {
    "duration": 632,
    "start_time": "2024-04-16T16:58:53.862Z"
   },
   {
    "duration": 530,
    "start_time": "2024-04-16T17:00:49.261Z"
   },
   {
    "duration": 408,
    "start_time": "2024-04-16T17:01:08.878Z"
   },
   {
    "duration": 563,
    "start_time": "2024-04-16T17:05:03.211Z"
   },
   {
    "duration": 593,
    "start_time": "2024-04-16T17:05:50.147Z"
   },
   {
    "duration": 550,
    "start_time": "2024-04-16T17:06:29.243Z"
   },
   {
    "duration": 647,
    "start_time": "2024-04-16T17:06:35.163Z"
   },
   {
    "duration": 5,
    "start_time": "2024-04-16T17:07:09.746Z"
   },
   {
    "duration": 7,
    "start_time": "2024-04-16T17:09:35.848Z"
   },
   {
    "duration": 47,
    "start_time": "2024-04-16T17:11:55.639Z"
   },
   {
    "duration": 10,
    "start_time": "2024-04-16T17:12:12.967Z"
   },
   {
    "duration": 5,
    "start_time": "2024-04-16T17:14:02.847Z"
   },
   {
    "duration": 554,
    "start_time": "2024-04-16T17:16:13.062Z"
   },
   {
    "duration": 13,
    "start_time": "2024-04-16T17:20:29.628Z"
   },
   {
    "duration": 18,
    "start_time": "2024-04-16T17:20:39.116Z"
   },
   {
    "duration": 12,
    "start_time": "2024-04-16T17:22:07.094Z"
   },
   {
    "duration": 19,
    "start_time": "2024-04-16T17:22:32.722Z"
   },
   {
    "duration": 23,
    "start_time": "2024-04-16T17:22:52.378Z"
   },
   {
    "duration": 10,
    "start_time": "2024-04-16T17:22:56.858Z"
   },
   {
    "duration": 76,
    "start_time": "2024-04-16T17:23:32.585Z"
   },
   {
    "duration": 7,
    "start_time": "2024-04-16T17:23:38.418Z"
   },
   {
    "duration": 10,
    "start_time": "2024-04-16T17:24:22.937Z"
   },
   {
    "duration": 13,
    "start_time": "2024-04-16T17:24:36.528Z"
   },
   {
    "duration": 18,
    "start_time": "2024-04-16T17:28:14.142Z"
   },
   {
    "duration": 15,
    "start_time": "2024-04-16T17:28:57.350Z"
   },
   {
    "duration": 275,
    "start_time": "2024-04-16T17:29:23.734Z"
   },
   {
    "duration": 249,
    "start_time": "2024-04-16T17:30:41.917Z"
   },
   {
    "duration": 254,
    "start_time": "2024-04-16T17:31:07.036Z"
   },
   {
    "duration": 244,
    "start_time": "2024-04-16T17:31:47.692Z"
   },
   {
    "duration": 569,
    "start_time": "2024-04-16T17:33:15.011Z"
   },
   {
    "duration": 279,
    "start_time": "2024-04-16T17:35:03.666Z"
   },
   {
    "duration": 248,
    "start_time": "2024-04-16T17:35:15.650Z"
   },
   {
    "duration": 277,
    "start_time": "2024-04-16T17:35:29.738Z"
   },
   {
    "duration": 252,
    "start_time": "2024-04-16T17:35:42.089Z"
   },
   {
    "duration": 73,
    "start_time": "2024-04-16T17:36:34.497Z"
   },
   {
    "duration": 9,
    "start_time": "2024-04-16T17:36:40.089Z"
   },
   {
    "duration": 15,
    "start_time": "2024-04-16T17:37:41.552Z"
   },
   {
    "duration": 12,
    "start_time": "2024-04-16T17:38:31.897Z"
   },
   {
    "duration": 12,
    "start_time": "2024-04-16T17:38:44.319Z"
   },
   {
    "duration": 21,
    "start_time": "2024-04-16T17:38:50.304Z"
   },
   {
    "duration": 9,
    "start_time": "2024-04-16T17:39:05.992Z"
   },
   {
    "duration": 12,
    "start_time": "2024-04-16T17:39:10.816Z"
   },
   {
    "duration": 12,
    "start_time": "2024-04-16T17:39:22.831Z"
   },
   {
    "duration": 7,
    "start_time": "2024-04-16T17:39:33.559Z"
   },
   {
    "duration": 10,
    "start_time": "2024-04-16T17:39:38.807Z"
   },
   {
    "duration": 13,
    "start_time": "2024-04-16T17:39:52.128Z"
   },
   {
    "duration": 17,
    "start_time": "2024-04-16T17:39:58.679Z"
   },
   {
    "duration": 13,
    "start_time": "2024-04-16T17:40:07.519Z"
   },
   {
    "duration": 13,
    "start_time": "2024-04-16T17:40:12.191Z"
   },
   {
    "duration": 10,
    "start_time": "2024-04-16T17:40:18.519Z"
   },
   {
    "duration": 10,
    "start_time": "2024-04-16T17:41:18.638Z"
   },
   {
    "duration": 15,
    "start_time": "2024-04-16T17:41:47.333Z"
   },
   {
    "duration": 6,
    "start_time": "2024-04-16T17:54:10.127Z"
   },
   {
    "duration": 9,
    "start_time": "2024-04-16T18:00:46.747Z"
   },
   {
    "duration": 439,
    "start_time": "2024-04-16T18:02:25.185Z"
   },
   {
    "duration": 28,
    "start_time": "2024-04-16T18:04:11.055Z"
   },
   {
    "duration": 27,
    "start_time": "2024-04-16T18:04:17.039Z"
   },
   {
    "duration": 21,
    "start_time": "2024-04-16T18:04:47.887Z"
   },
   {
    "duration": 28,
    "start_time": "2024-04-16T18:04:56.558Z"
   },
   {
    "duration": 4,
    "start_time": "2024-04-16T18:07:47.925Z"
   },
   {
    "duration": 540,
    "start_time": "2024-04-16T18:08:06.620Z"
   },
   {
    "duration": 8,
    "start_time": "2024-04-16T18:10:35.394Z"
   },
   {
    "duration": 314,
    "start_time": "2024-04-16T18:25:33.643Z"
   },
   {
    "duration": 4,
    "start_time": "2024-04-16T18:27:30.256Z"
   },
   {
    "duration": 325,
    "start_time": "2024-04-16T18:27:58.968Z"
   },
   {
    "duration": 28,
    "start_time": "2024-04-16T18:30:35.486Z"
   },
   {
    "duration": 711,
    "start_time": "2024-04-16T18:31:43.550Z"
   },
   {
    "duration": 4,
    "start_time": "2024-04-16T18:35:01.396Z"
   },
   {
    "duration": 14,
    "start_time": "2024-04-16T18:35:09.555Z"
   },
   {
    "duration": 11,
    "start_time": "2024-04-16T18:36:20.252Z"
   },
   {
    "duration": 12,
    "start_time": "2024-04-16T18:36:43.517Z"
   },
   {
    "duration": 1281,
    "start_time": "2024-04-16T18:36:49.100Z"
   },
   {
    "duration": 12,
    "start_time": "2024-04-16T18:37:22.714Z"
   },
   {
    "duration": 11,
    "start_time": "2024-04-16T18:38:25.820Z"
   },
   {
    "duration": 485,
    "start_time": "2024-04-16T18:38:45.102Z"
   },
   {
    "duration": 23,
    "start_time": "2024-04-16T18:38:45.589Z"
   },
   {
    "duration": 147,
    "start_time": "2024-04-16T18:38:45.614Z"
   },
   {
    "duration": 11,
    "start_time": "2024-04-16T18:38:45.763Z"
   },
   {
    "duration": 108,
    "start_time": "2024-04-16T18:38:45.776Z"
   },
   {
    "duration": 59,
    "start_time": "2024-04-16T18:38:45.886Z"
   },
   {
    "duration": 24,
    "start_time": "2024-04-16T18:38:45.946Z"
   },
   {
    "duration": 12,
    "start_time": "2024-04-16T18:38:45.972Z"
   },
   {
    "duration": 24,
    "start_time": "2024-04-16T18:38:45.986Z"
   },
   {
    "duration": 7,
    "start_time": "2024-04-16T18:38:46.012Z"
   },
   {
    "duration": 40,
    "start_time": "2024-04-16T18:38:46.020Z"
   },
   {
    "duration": 10,
    "start_time": "2024-04-16T18:38:46.061Z"
   },
   {
    "duration": 10,
    "start_time": "2024-04-16T18:38:46.073Z"
   },
   {
    "duration": 26,
    "start_time": "2024-04-16T18:38:46.086Z"
   },
   {
    "duration": 21,
    "start_time": "2024-04-16T18:38:46.114Z"
   },
   {
    "duration": 15,
    "start_time": "2024-04-16T18:38:46.137Z"
   },
   {
    "duration": 4,
    "start_time": "2024-04-16T18:38:46.153Z"
   },
   {
    "duration": 34,
    "start_time": "2024-04-16T18:38:46.158Z"
   },
   {
    "duration": 11,
    "start_time": "2024-04-16T18:38:46.194Z"
   },
   {
    "duration": 23,
    "start_time": "2024-04-16T18:38:46.206Z"
   },
   {
    "duration": 38,
    "start_time": "2024-04-16T18:38:46.230Z"
   },
   {
    "duration": 727,
    "start_time": "2024-04-16T18:38:46.270Z"
   },
   {
    "duration": 12,
    "start_time": "2024-04-16T18:38:46.998Z"
   },
   {
    "duration": 35,
    "start_time": "2024-04-16T18:38:47.012Z"
   },
   {
    "duration": 594,
    "start_time": "2024-04-16T18:38:47.048Z"
   },
   {
    "duration": 59,
    "start_time": "2024-04-16T18:38:47.643Z"
   },
   {
    "duration": 5,
    "start_time": "2024-04-16T18:38:47.703Z"
   },
   {
    "duration": 60,
    "start_time": "2024-04-16T18:38:47.709Z"
   },
   {
    "duration": 9,
    "start_time": "2024-04-16T18:38:47.771Z"
   },
   {
    "duration": 611,
    "start_time": "2024-04-16T18:38:47.781Z"
   },
   {
    "duration": 20,
    "start_time": "2024-04-16T18:38:48.394Z"
   },
   {
    "duration": 26,
    "start_time": "2024-04-16T18:38:48.416Z"
   },
   {
    "duration": 7,
    "start_time": "2024-04-16T18:38:48.443Z"
   },
   {
    "duration": 33,
    "start_time": "2024-04-16T18:38:48.451Z"
   },
   {
    "duration": 282,
    "start_time": "2024-04-16T18:38:48.486Z"
   },
   {
    "duration": 9,
    "start_time": "2024-04-16T18:38:48.770Z"
   },
   {
    "duration": 29,
    "start_time": "2024-04-16T18:38:48.780Z"
   },
   {
    "duration": 10,
    "start_time": "2024-04-16T18:38:48.811Z"
   },
   {
    "duration": 479,
    "start_time": "2024-04-16T18:38:48.822Z"
   },
   {
    "duration": 28,
    "start_time": "2024-04-16T18:38:49.302Z"
   },
   {
    "duration": 308,
    "start_time": "2024-04-16T18:38:49.334Z"
   },
   {
    "duration": 22,
    "start_time": "2024-04-16T18:38:49.644Z"
   },
   {
    "duration": 33,
    "start_time": "2024-04-16T18:38:49.668Z"
   },
   {
    "duration": 4,
    "start_time": "2024-04-16T18:38:49.702Z"
   },
   {
    "duration": 691,
    "start_time": "2024-04-16T18:38:49.707Z"
   },
   {
    "duration": 2,
    "start_time": "2024-04-16T18:38:50.400Z"
   },
   {
    "duration": 48,
    "start_time": "2024-04-16T18:38:50.403Z"
   },
   {
    "duration": 5,
    "start_time": "2024-04-16T18:40:18.682Z"
   },
   {
    "duration": 783,
    "start_time": "2024-04-16T18:40:20.778Z"
   },
   {
    "duration": 450,
    "start_time": "2024-04-16T18:40:33.646Z"
   },
   {
    "duration": 22,
    "start_time": "2024-04-16T18:40:34.098Z"
   },
   {
    "duration": 16,
    "start_time": "2024-04-16T18:40:34.122Z"
   },
   {
    "duration": 11,
    "start_time": "2024-04-16T18:40:34.140Z"
   },
   {
    "duration": 56,
    "start_time": "2024-04-16T18:40:34.153Z"
   },
   {
    "duration": 4,
    "start_time": "2024-04-16T18:40:34.211Z"
   },
   {
    "duration": 14,
    "start_time": "2024-04-16T18:40:34.216Z"
   },
   {
    "duration": 5,
    "start_time": "2024-04-16T18:40:34.231Z"
   },
   {
    "duration": 13,
    "start_time": "2024-04-16T18:40:34.237Z"
   },
   {
    "duration": 3,
    "start_time": "2024-04-16T18:40:34.253Z"
   },
   {
    "duration": 51,
    "start_time": "2024-04-16T18:40:34.258Z"
   },
   {
    "duration": 10,
    "start_time": "2024-04-16T18:40:34.310Z"
   },
   {
    "duration": 5,
    "start_time": "2024-04-16T18:40:34.321Z"
   },
   {
    "duration": 16,
    "start_time": "2024-04-16T18:40:34.327Z"
   },
   {
    "duration": 23,
    "start_time": "2024-04-16T18:40:34.344Z"
   },
   {
    "duration": 27,
    "start_time": "2024-04-16T18:40:34.369Z"
   },
   {
    "duration": 3,
    "start_time": "2024-04-16T18:40:34.397Z"
   },
   {
    "duration": 42,
    "start_time": "2024-04-16T18:40:34.401Z"
   },
   {
    "duration": 5,
    "start_time": "2024-04-16T18:40:34.445Z"
   },
   {
    "duration": 3,
    "start_time": "2024-04-16T18:40:34.451Z"
   },
   {
    "duration": 26,
    "start_time": "2024-04-16T18:40:34.456Z"
   },
   {
    "duration": 733,
    "start_time": "2024-04-16T18:40:34.483Z"
   },
   {
    "duration": 13,
    "start_time": "2024-04-16T18:40:35.217Z"
   },
   {
    "duration": 66,
    "start_time": "2024-04-16T18:40:35.231Z"
   },
   {
    "duration": 518,
    "start_time": "2024-04-16T18:40:35.298Z"
   },
   {
    "duration": 43,
    "start_time": "2024-04-16T18:40:35.817Z"
   },
   {
    "duration": 26,
    "start_time": "2024-04-16T18:40:35.861Z"
   },
   {
    "duration": 16,
    "start_time": "2024-04-16T18:40:35.890Z"
   },
   {
    "duration": 27,
    "start_time": "2024-04-16T18:40:35.907Z"
   },
   {
    "duration": 602,
    "start_time": "2024-04-16T18:40:35.935Z"
   },
   {
    "duration": 20,
    "start_time": "2024-04-16T18:40:36.539Z"
   },
   {
    "duration": 62,
    "start_time": "2024-04-16T18:40:36.560Z"
   },
   {
    "duration": 50,
    "start_time": "2024-04-16T18:40:36.624Z"
   },
   {
    "duration": 67,
    "start_time": "2024-04-16T18:40:36.676Z"
   },
   {
    "duration": 253,
    "start_time": "2024-04-16T18:40:36.745Z"
   },
   {
    "duration": 10,
    "start_time": "2024-04-16T18:40:37.000Z"
   },
   {
    "duration": 73,
    "start_time": "2024-04-16T18:40:37.012Z"
   },
   {
    "duration": 14,
    "start_time": "2024-04-16T18:40:37.087Z"
   },
   {
    "duration": 414,
    "start_time": "2024-04-16T18:40:37.102Z"
   },
   {
    "duration": 27,
    "start_time": "2024-04-16T18:40:37.518Z"
   },
   {
    "duration": 308,
    "start_time": "2024-04-16T18:40:37.546Z"
   },
   {
    "duration": 22,
    "start_time": "2024-04-16T18:40:37.855Z"
   },
   {
    "duration": 35,
    "start_time": "2024-04-16T18:40:37.878Z"
   },
   {
    "duration": 4,
    "start_time": "2024-04-16T18:40:37.915Z"
   },
   {
    "duration": 706,
    "start_time": "2024-04-16T18:40:37.920Z"
   },
   {
    "duration": 3,
    "start_time": "2024-04-16T18:40:38.627Z"
   },
   {
    "duration": 17,
    "start_time": "2024-04-16T18:40:38.631Z"
   },
   {
    "duration": 4,
    "start_time": "2024-04-16T18:40:55.130Z"
   },
   {
    "duration": 439,
    "start_time": "2024-04-16T18:41:12.252Z"
   },
   {
    "duration": 27,
    "start_time": "2024-04-16T18:41:12.694Z"
   },
   {
    "duration": 17,
    "start_time": "2024-04-16T18:41:12.723Z"
   },
   {
    "duration": 20,
    "start_time": "2024-04-16T18:41:12.741Z"
   },
   {
    "duration": 53,
    "start_time": "2024-04-16T18:41:12.763Z"
   },
   {
    "duration": 4,
    "start_time": "2024-04-16T18:41:12.817Z"
   },
   {
    "duration": 10,
    "start_time": "2024-04-16T18:41:12.823Z"
   },
   {
    "duration": 4,
    "start_time": "2024-04-16T18:41:12.835Z"
   },
   {
    "duration": 10,
    "start_time": "2024-04-16T18:41:12.841Z"
   },
   {
    "duration": 4,
    "start_time": "2024-04-16T18:41:12.852Z"
   },
   {
    "duration": 60,
    "start_time": "2024-04-16T18:41:12.858Z"
   },
   {
    "duration": 10,
    "start_time": "2024-04-16T18:41:12.920Z"
   },
   {
    "duration": 3,
    "start_time": "2024-04-16T18:41:12.932Z"
   },
   {
    "duration": 27,
    "start_time": "2024-04-16T18:41:12.938Z"
   },
   {
    "duration": 19,
    "start_time": "2024-04-16T18:41:12.966Z"
   },
   {
    "duration": 22,
    "start_time": "2024-04-16T18:41:12.987Z"
   },
   {
    "duration": 4,
    "start_time": "2024-04-16T18:41:13.010Z"
   },
   {
    "duration": 25,
    "start_time": "2024-04-16T18:41:13.015Z"
   },
   {
    "duration": 6,
    "start_time": "2024-04-16T18:41:13.041Z"
   },
   {
    "duration": 12,
    "start_time": "2024-04-16T18:41:13.048Z"
   },
   {
    "duration": 12,
    "start_time": "2024-04-16T18:41:13.061Z"
   },
   {
    "duration": 729,
    "start_time": "2024-04-16T18:41:13.075Z"
   },
   {
    "duration": 12,
    "start_time": "2024-04-16T18:41:13.805Z"
   },
   {
    "duration": 51,
    "start_time": "2024-04-16T18:41:13.818Z"
   },
   {
    "duration": 536,
    "start_time": "2024-04-16T18:41:13.871Z"
   },
   {
    "duration": 44,
    "start_time": "2024-04-16T18:41:14.408Z"
   },
   {
    "duration": 5,
    "start_time": "2024-04-16T18:41:14.454Z"
   },
   {
    "duration": 9,
    "start_time": "2024-04-16T18:41:14.460Z"
   },
   {
    "duration": 24,
    "start_time": "2024-04-16T18:41:14.471Z"
   },
   {
    "duration": 663,
    "start_time": "2024-04-16T18:41:14.497Z"
   },
   {
    "duration": 21,
    "start_time": "2024-04-16T18:41:15.163Z"
   },
   {
    "duration": 59,
    "start_time": "2024-04-16T18:41:15.193Z"
   },
   {
    "duration": 51,
    "start_time": "2024-04-16T18:41:15.254Z"
   },
   {
    "duration": 37,
    "start_time": "2024-04-16T18:41:15.307Z"
   },
   {
    "duration": 286,
    "start_time": "2024-04-16T18:41:15.346Z"
   },
   {
    "duration": 10,
    "start_time": "2024-04-16T18:41:15.634Z"
   },
   {
    "duration": 82,
    "start_time": "2024-04-16T18:41:15.646Z"
   },
   {
    "duration": 10,
    "start_time": "2024-04-16T18:41:15.730Z"
   },
   {
    "duration": 474,
    "start_time": "2024-04-16T18:41:15.741Z"
   },
   {
    "duration": 31,
    "start_time": "2024-04-16T18:41:16.217Z"
   },
   {
    "duration": 331,
    "start_time": "2024-04-16T18:41:16.251Z"
   },
   {
    "duration": 28,
    "start_time": "2024-04-16T18:41:16.584Z"
   },
   {
    "duration": 32,
    "start_time": "2024-04-16T18:41:16.614Z"
   },
   {
    "duration": 5,
    "start_time": "2024-04-16T18:41:16.648Z"
   },
   {
    "duration": 751,
    "start_time": "2024-04-16T18:41:16.655Z"
   },
   {
    "duration": 3,
    "start_time": "2024-04-16T18:41:17.407Z"
   },
   {
    "duration": 10,
    "start_time": "2024-04-16T18:41:17.411Z"
   },
   {
    "duration": 5,
    "start_time": "2024-04-16T18:42:39.786Z"
   },
   {
    "duration": 778,
    "start_time": "2024-04-16T18:42:41.401Z"
   },
   {
    "duration": 450,
    "start_time": "2024-04-16T18:42:51.124Z"
   },
   {
    "duration": 22,
    "start_time": "2024-04-16T18:42:51.576Z"
   },
   {
    "duration": 21,
    "start_time": "2024-04-16T18:42:51.600Z"
   },
   {
    "duration": 21,
    "start_time": "2024-04-16T18:42:51.623Z"
   },
   {
    "duration": 53,
    "start_time": "2024-04-16T18:42:51.645Z"
   },
   {
    "duration": 3,
    "start_time": "2024-04-16T18:42:51.699Z"
   },
   {
    "duration": 15,
    "start_time": "2024-04-16T18:42:51.704Z"
   },
   {
    "duration": 4,
    "start_time": "2024-04-16T18:42:51.720Z"
   },
   {
    "duration": 10,
    "start_time": "2024-04-16T18:42:51.726Z"
   },
   {
    "duration": 4,
    "start_time": "2024-04-16T18:42:51.738Z"
   },
   {
    "duration": 43,
    "start_time": "2024-04-16T18:42:51.743Z"
   },
   {
    "duration": 10,
    "start_time": "2024-04-16T18:42:51.787Z"
   },
   {
    "duration": 14,
    "start_time": "2024-04-16T18:42:51.798Z"
   },
   {
    "duration": 18,
    "start_time": "2024-04-16T18:42:51.814Z"
   },
   {
    "duration": 67,
    "start_time": "2024-04-16T18:42:51.834Z"
   },
   {
    "duration": 17,
    "start_time": "2024-04-16T18:42:51.903Z"
   },
   {
    "duration": 10,
    "start_time": "2024-04-16T18:42:51.922Z"
   },
   {
    "duration": 37,
    "start_time": "2024-04-16T18:42:51.934Z"
   },
   {
    "duration": 19,
    "start_time": "2024-04-16T18:42:51.973Z"
   },
   {
    "duration": 24,
    "start_time": "2024-04-16T18:42:51.993Z"
   },
   {
    "duration": 23,
    "start_time": "2024-04-16T18:42:52.018Z"
   },
   {
    "duration": 749,
    "start_time": "2024-04-16T18:42:52.043Z"
   },
   {
    "duration": 13,
    "start_time": "2024-04-16T18:42:52.793Z"
   },
   {
    "duration": 55,
    "start_time": "2024-04-16T18:42:52.807Z"
   },
   {
    "duration": 544,
    "start_time": "2024-04-16T18:42:52.863Z"
   },
   {
    "duration": 48,
    "start_time": "2024-04-16T18:42:53.408Z"
   },
   {
    "duration": 5,
    "start_time": "2024-04-16T18:42:53.457Z"
   },
   {
    "duration": 35,
    "start_time": "2024-04-16T18:42:53.465Z"
   },
   {
    "duration": 6,
    "start_time": "2024-04-16T18:42:53.502Z"
   },
   {
    "duration": 588,
    "start_time": "2024-04-16T18:42:53.509Z"
   },
   {
    "duration": 18,
    "start_time": "2024-04-16T18:42:54.099Z"
   },
   {
    "duration": 47,
    "start_time": "2024-04-16T18:42:54.118Z"
   },
   {
    "duration": 50,
    "start_time": "2024-04-16T18:42:54.166Z"
   },
   {
    "duration": 34,
    "start_time": "2024-04-16T18:42:54.217Z"
   },
   {
    "duration": 274,
    "start_time": "2024-04-16T18:42:54.252Z"
   },
   {
    "duration": 9,
    "start_time": "2024-04-16T18:42:54.528Z"
   },
   {
    "duration": 39,
    "start_time": "2024-04-16T18:42:54.538Z"
   },
   {
    "duration": 22,
    "start_time": "2024-04-16T18:42:54.578Z"
   },
   {
    "duration": 508,
    "start_time": "2024-04-16T18:42:54.602Z"
   },
   {
    "duration": 29,
    "start_time": "2024-04-16T18:42:55.111Z"
   },
   {
    "duration": 322,
    "start_time": "2024-04-16T18:42:55.141Z"
   },
   {
    "duration": 29,
    "start_time": "2024-04-16T18:42:55.465Z"
   },
   {
    "duration": 5,
    "start_time": "2024-04-16T18:42:55.496Z"
   },
   {
    "duration": 715,
    "start_time": "2024-04-16T18:42:55.502Z"
   },
   {
    "duration": 3,
    "start_time": "2024-04-16T18:42:56.218Z"
   },
   {
    "duration": 16,
    "start_time": "2024-04-16T18:42:56.222Z"
   },
   {
    "duration": 502,
    "start_time": "2024-04-16T18:55:37.785Z"
   },
   {
    "duration": 21,
    "start_time": "2024-04-16T18:55:38.289Z"
   },
   {
    "duration": 35,
    "start_time": "2024-04-16T18:55:38.311Z"
   },
   {
    "duration": 22,
    "start_time": "2024-04-16T18:55:38.348Z"
   },
   {
    "duration": 54,
    "start_time": "2024-04-16T18:55:38.372Z"
   },
   {
    "duration": 30,
    "start_time": "2024-04-16T18:55:38.428Z"
   },
   {
    "duration": 86,
    "start_time": "2024-04-16T18:55:38.460Z"
   },
   {
    "duration": 26,
    "start_time": "2024-04-16T18:55:38.547Z"
   },
   {
    "duration": 31,
    "start_time": "2024-04-16T18:55:38.574Z"
   },
   {
    "duration": 14,
    "start_time": "2024-04-16T18:55:38.608Z"
   },
   {
    "duration": 51,
    "start_time": "2024-04-16T18:55:38.623Z"
   },
   {
    "duration": 16,
    "start_time": "2024-04-16T18:55:38.676Z"
   },
   {
    "duration": 28,
    "start_time": "2024-04-16T18:55:38.694Z"
   },
   {
    "duration": 47,
    "start_time": "2024-04-16T18:55:38.724Z"
   },
   {
    "duration": 32,
    "start_time": "2024-04-16T18:55:38.773Z"
   },
   {
    "duration": 22,
    "start_time": "2024-04-16T18:55:38.807Z"
   },
   {
    "duration": 4,
    "start_time": "2024-04-16T18:55:38.831Z"
   },
   {
    "duration": 33,
    "start_time": "2024-04-16T18:55:38.837Z"
   },
   {
    "duration": 21,
    "start_time": "2024-04-16T18:55:38.871Z"
   },
   {
    "duration": 16,
    "start_time": "2024-04-16T18:55:38.893Z"
   },
   {
    "duration": 47,
    "start_time": "2024-04-16T18:55:38.910Z"
   },
   {
    "duration": 740,
    "start_time": "2024-04-16T18:55:38.959Z"
   },
   {
    "duration": 14,
    "start_time": "2024-04-16T18:55:39.700Z"
   },
   {
    "duration": 54,
    "start_time": "2024-04-16T18:55:39.715Z"
   },
   {
    "duration": 563,
    "start_time": "2024-04-16T18:55:39.771Z"
   },
   {
    "duration": 47,
    "start_time": "2024-04-16T18:55:40.336Z"
   },
   {
    "duration": 14,
    "start_time": "2024-04-16T18:55:40.384Z"
   },
   {
    "duration": 32,
    "start_time": "2024-04-16T18:55:40.401Z"
   },
   {
    "duration": 22,
    "start_time": "2024-04-16T18:55:40.435Z"
   },
   {
    "duration": 629,
    "start_time": "2024-04-16T18:55:40.459Z"
   },
   {
    "duration": 22,
    "start_time": "2024-04-16T18:55:41.089Z"
   },
   {
    "duration": 20,
    "start_time": "2024-04-16T18:55:41.113Z"
   },
   {
    "duration": 36,
    "start_time": "2024-04-16T18:55:41.135Z"
   },
   {
    "duration": 48,
    "start_time": "2024-04-16T18:55:41.173Z"
   },
   {
    "duration": 287,
    "start_time": "2024-04-16T18:55:41.222Z"
   },
   {
    "duration": 11,
    "start_time": "2024-04-16T18:55:41.510Z"
   },
   {
    "duration": 19,
    "start_time": "2024-04-16T18:55:41.523Z"
   },
   {
    "duration": 9,
    "start_time": "2024-04-16T18:55:41.543Z"
   },
   {
    "duration": 452,
    "start_time": "2024-04-16T18:55:41.554Z"
   },
   {
    "duration": 29,
    "start_time": "2024-04-16T18:55:42.007Z"
   },
   {
    "duration": 308,
    "start_time": "2024-04-16T18:55:42.037Z"
   },
   {
    "duration": 23,
    "start_time": "2024-04-16T18:55:42.346Z"
   },
   {
    "duration": 4,
    "start_time": "2024-04-16T18:55:42.370Z"
   },
   {
    "duration": 734,
    "start_time": "2024-04-16T18:55:42.375Z"
   },
   {
    "duration": 2,
    "start_time": "2024-04-16T18:55:43.111Z"
   },
   {
    "duration": 5,
    "start_time": "2024-04-16T18:55:43.115Z"
   },
   {
    "duration": 454,
    "start_time": "2024-04-16T18:56:09.137Z"
   },
   {
    "duration": 24,
    "start_time": "2024-04-16T18:56:09.592Z"
   },
   {
    "duration": 18,
    "start_time": "2024-04-16T18:56:09.618Z"
   },
   {
    "duration": 10,
    "start_time": "2024-04-16T18:56:09.638Z"
   },
   {
    "duration": 79,
    "start_time": "2024-04-16T18:56:09.650Z"
   },
   {
    "duration": 3,
    "start_time": "2024-04-16T18:56:09.731Z"
   },
   {
    "duration": 21,
    "start_time": "2024-04-16T18:56:09.736Z"
   },
   {
    "duration": 4,
    "start_time": "2024-04-16T18:56:09.758Z"
   },
   {
    "duration": 7,
    "start_time": "2024-04-16T18:56:09.764Z"
   },
   {
    "duration": 8,
    "start_time": "2024-04-16T18:56:09.773Z"
   },
   {
    "duration": 38,
    "start_time": "2024-04-16T18:56:09.782Z"
   },
   {
    "duration": 10,
    "start_time": "2024-04-16T18:56:09.821Z"
   },
   {
    "duration": 30,
    "start_time": "2024-04-16T18:56:09.832Z"
   },
   {
    "duration": 23,
    "start_time": "2024-04-16T18:56:09.864Z"
   },
   {
    "duration": 24,
    "start_time": "2024-04-16T18:56:09.888Z"
   },
   {
    "duration": 14,
    "start_time": "2024-04-16T18:56:09.913Z"
   },
   {
    "duration": 6,
    "start_time": "2024-04-16T18:56:09.928Z"
   },
   {
    "duration": 26,
    "start_time": "2024-04-16T18:56:09.935Z"
   },
   {
    "duration": 5,
    "start_time": "2024-04-16T18:56:09.962Z"
   },
   {
    "duration": 3,
    "start_time": "2024-04-16T18:56:09.969Z"
   },
   {
    "duration": 26,
    "start_time": "2024-04-16T18:56:09.974Z"
   },
   {
    "duration": 700,
    "start_time": "2024-04-16T18:56:10.001Z"
   },
   {
    "duration": 13,
    "start_time": "2024-04-16T18:56:10.702Z"
   },
   {
    "duration": 42,
    "start_time": "2024-04-16T18:56:10.717Z"
   },
   {
    "duration": 551,
    "start_time": "2024-04-16T18:56:10.760Z"
   },
   {
    "duration": 42,
    "start_time": "2024-04-16T18:56:11.313Z"
   },
   {
    "duration": 4,
    "start_time": "2024-04-16T18:56:11.357Z"
   },
   {
    "duration": 29,
    "start_time": "2024-04-16T18:56:11.362Z"
   },
   {
    "duration": 23,
    "start_time": "2024-04-16T18:56:11.392Z"
   },
   {
    "duration": 572,
    "start_time": "2024-04-16T18:56:11.416Z"
   },
   {
    "duration": 19,
    "start_time": "2024-04-16T18:56:11.993Z"
   },
   {
    "duration": 25,
    "start_time": "2024-04-16T18:56:12.013Z"
   },
   {
    "duration": 7,
    "start_time": "2024-04-16T18:56:12.039Z"
   },
   {
    "duration": 25,
    "start_time": "2024-04-16T18:56:12.048Z"
   },
   {
    "duration": 281,
    "start_time": "2024-04-16T18:56:12.074Z"
   },
   {
    "duration": 8,
    "start_time": "2024-04-16T18:56:12.357Z"
   },
   {
    "duration": 38,
    "start_time": "2024-04-16T18:56:12.366Z"
   },
   {
    "duration": 10,
    "start_time": "2024-04-16T18:56:12.405Z"
   },
   {
    "duration": 495,
    "start_time": "2024-04-16T18:56:12.416Z"
   },
   {
    "duration": 26,
    "start_time": "2024-04-16T18:56:12.912Z"
   },
   {
    "duration": 290,
    "start_time": "2024-04-16T18:56:12.941Z"
   },
   {
    "duration": 21,
    "start_time": "2024-04-16T18:56:13.232Z"
   },
   {
    "duration": 19,
    "start_time": "2024-04-16T18:56:13.254Z"
   },
   {
    "duration": 739,
    "start_time": "2024-04-16T18:56:13.275Z"
   },
   {
    "duration": 2,
    "start_time": "2024-04-16T18:56:14.016Z"
   },
   {
    "duration": 11,
    "start_time": "2024-04-16T18:56:14.019Z"
   },
   {
    "duration": 658,
    "start_time": "2024-04-17T03:49:04.946Z"
   },
   {
    "duration": 23,
    "start_time": "2024-04-17T03:49:05.606Z"
   },
   {
    "duration": 28,
    "start_time": "2024-04-17T03:49:05.631Z"
   },
   {
    "duration": 28,
    "start_time": "2024-04-17T03:49:05.661Z"
   },
   {
    "duration": 35,
    "start_time": "2024-04-17T03:49:05.691Z"
   },
   {
    "duration": 3,
    "start_time": "2024-04-17T03:49:05.728Z"
   },
   {
    "duration": 15,
    "start_time": "2024-04-17T03:49:05.733Z"
   },
   {
    "duration": 18,
    "start_time": "2024-04-17T03:49:05.750Z"
   },
   {
    "duration": 18,
    "start_time": "2024-04-17T03:49:05.775Z"
   },
   {
    "duration": 9,
    "start_time": "2024-04-17T03:49:05.795Z"
   },
   {
    "duration": 90,
    "start_time": "2024-04-17T03:49:05.806Z"
   },
   {
    "duration": 19,
    "start_time": "2024-04-17T03:49:05.899Z"
   },
   {
    "duration": 5,
    "start_time": "2024-04-17T03:49:05.920Z"
   },
   {
    "duration": 27,
    "start_time": "2024-04-17T03:49:05.929Z"
   },
   {
    "duration": 34,
    "start_time": "2024-04-17T03:49:05.958Z"
   },
   {
    "duration": 18,
    "start_time": "2024-04-17T03:49:05.993Z"
   },
   {
    "duration": 3,
    "start_time": "2024-04-17T03:49:06.012Z"
   },
   {
    "duration": 28,
    "start_time": "2024-04-17T03:49:06.017Z"
   },
   {
    "duration": 8,
    "start_time": "2024-04-17T03:49:06.046Z"
   },
   {
    "duration": 25,
    "start_time": "2024-04-17T03:49:06.056Z"
   },
   {
    "duration": 34,
    "start_time": "2024-04-17T03:49:06.082Z"
   },
   {
    "duration": 977,
    "start_time": "2024-04-17T03:49:06.118Z"
   },
   {
    "duration": 16,
    "start_time": "2024-04-17T03:49:07.097Z"
   },
   {
    "duration": 70,
    "start_time": "2024-04-17T03:49:07.114Z"
   },
   {
    "duration": 718,
    "start_time": "2024-04-17T03:49:07.185Z"
   },
   {
    "duration": 47,
    "start_time": "2024-04-17T03:49:07.905Z"
   },
   {
    "duration": 20,
    "start_time": "2024-04-17T03:49:07.953Z"
   },
   {
    "duration": 22,
    "start_time": "2024-04-17T03:49:07.975Z"
   },
   {
    "duration": 9,
    "start_time": "2024-04-17T03:49:07.999Z"
   },
   {
    "duration": 709,
    "start_time": "2024-04-17T03:49:08.010Z"
   },
   {
    "duration": 21,
    "start_time": "2024-04-17T03:49:08.721Z"
   },
   {
    "duration": 47,
    "start_time": "2024-04-17T03:49:08.744Z"
   },
   {
    "duration": 10,
    "start_time": "2024-04-17T03:49:08.793Z"
   },
   {
    "duration": 22,
    "start_time": "2024-04-17T03:49:08.805Z"
   },
   {
    "duration": 394,
    "start_time": "2024-04-17T03:49:08.829Z"
   },
   {
    "duration": 11,
    "start_time": "2024-04-17T03:49:09.225Z"
   },
   {
    "duration": 34,
    "start_time": "2024-04-17T03:49:09.238Z"
   },
   {
    "duration": 13,
    "start_time": "2024-04-17T03:49:09.274Z"
   },
   {
    "duration": 527,
    "start_time": "2024-04-17T03:49:09.289Z"
   },
   {
    "duration": 33,
    "start_time": "2024-04-17T03:49:09.818Z"
   },
   {
    "duration": 343,
    "start_time": "2024-04-17T03:49:09.868Z"
   },
   {
    "duration": 23,
    "start_time": "2024-04-17T03:49:10.213Z"
   },
   {
    "duration": 15,
    "start_time": "2024-04-17T03:49:10.238Z"
   },
   {
    "duration": 1045,
    "start_time": "2024-04-17T03:49:10.255Z"
   },
   {
    "duration": 2,
    "start_time": "2024-04-17T03:49:11.302Z"
   },
   {
    "duration": 5,
    "start_time": "2024-04-17T03:49:11.306Z"
   },
   {
    "duration": 7,
    "start_time": "2024-04-17T03:49:35.401Z"
   },
   {
    "duration": 11,
    "start_time": "2024-04-17T03:50:20.369Z"
   },
   {
    "duration": 513,
    "start_time": "2024-04-17T03:52:30.096Z"
   },
   {
    "duration": 211,
    "start_time": "2024-04-17T03:52:40.391Z"
   },
   {
    "duration": 587,
    "start_time": "2024-04-17T03:53:06.863Z"
   },
   {
    "duration": 444,
    "start_time": "2024-04-17T03:53:19.911Z"
   },
   {
    "duration": 409,
    "start_time": "2024-04-17T03:53:38.705Z"
   },
   {
    "duration": 471,
    "start_time": "2024-04-17T03:54:34.846Z"
   },
   {
    "duration": 33,
    "start_time": "2024-04-17T03:55:26.482Z"
   },
   {
    "duration": 28,
    "start_time": "2024-04-17T03:55:39.550Z"
   },
   {
    "duration": 28,
    "start_time": "2024-04-17T03:57:21.109Z"
   },
   {
    "duration": 32,
    "start_time": "2024-04-17T03:57:36.984Z"
   },
   {
    "duration": 243,
    "start_time": "2024-04-17T03:59:07.820Z"
   },
   {
    "duration": 50,
    "start_time": "2024-04-17T04:01:12.635Z"
   },
   {
    "duration": 35,
    "start_time": "2024-04-17T04:01:16.479Z"
   },
   {
    "duration": 30,
    "start_time": "2024-04-17T04:01:47.690Z"
   },
   {
    "duration": 10,
    "start_time": "2024-04-17T04:02:46.371Z"
   },
   {
    "duration": 927,
    "start_time": "2024-04-17T04:03:25.809Z"
   },
   {
    "duration": 3405,
    "start_time": "2024-04-17T04:07:06.919Z"
   },
   {
    "duration": 25,
    "start_time": "2024-04-17T04:08:13.023Z"
   },
   {
    "duration": 526,
    "start_time": "2024-04-17T04:08:28.126Z"
   },
   {
    "duration": 28,
    "start_time": "2024-04-17T04:08:28.654Z"
   },
   {
    "duration": 15,
    "start_time": "2024-04-17T04:08:28.684Z"
   },
   {
    "duration": 9,
    "start_time": "2024-04-17T04:08:28.701Z"
   },
   {
    "duration": 38,
    "start_time": "2024-04-17T04:08:28.712Z"
   },
   {
    "duration": 3,
    "start_time": "2024-04-17T04:08:28.751Z"
   },
   {
    "duration": 17,
    "start_time": "2024-04-17T04:08:28.768Z"
   },
   {
    "duration": 5,
    "start_time": "2024-04-17T04:08:28.787Z"
   },
   {
    "duration": 14,
    "start_time": "2024-04-17T04:08:28.794Z"
   },
   {
    "duration": 5,
    "start_time": "2024-04-17T04:08:28.812Z"
   },
   {
    "duration": 61,
    "start_time": "2024-04-17T04:08:28.818Z"
   },
   {
    "duration": 13,
    "start_time": "2024-04-17T04:08:28.881Z"
   },
   {
    "duration": 19,
    "start_time": "2024-04-17T04:08:28.896Z"
   },
   {
    "duration": 29,
    "start_time": "2024-04-17T04:08:28.917Z"
   },
   {
    "duration": 32,
    "start_time": "2024-04-17T04:08:28.948Z"
   },
   {
    "duration": 22,
    "start_time": "2024-04-17T04:08:28.983Z"
   },
   {
    "duration": 3,
    "start_time": "2024-04-17T04:08:29.007Z"
   },
   {
    "duration": 13,
    "start_time": "2024-04-17T04:08:29.012Z"
   },
   {
    "duration": 5,
    "start_time": "2024-04-17T04:08:29.027Z"
   },
   {
    "duration": 4,
    "start_time": "2024-04-17T04:08:29.033Z"
   },
   {
    "duration": 34,
    "start_time": "2024-04-17T04:08:29.038Z"
   },
   {
    "duration": 762,
    "start_time": "2024-04-17T04:08:29.080Z"
   },
   {
    "duration": 25,
    "start_time": "2024-04-17T04:08:29.844Z"
   },
   {
    "duration": 50,
    "start_time": "2024-04-17T04:08:29.871Z"
   },
   {
    "duration": 580,
    "start_time": "2024-04-17T04:08:29.923Z"
   },
   {
    "duration": 44,
    "start_time": "2024-04-17T04:08:30.505Z"
   },
   {
    "duration": 33,
    "start_time": "2024-04-17T04:08:30.551Z"
   },
   {
    "duration": 18,
    "start_time": "2024-04-17T04:08:30.588Z"
   },
   {
    "duration": 84,
    "start_time": "2024-04-17T04:08:30.607Z"
   },
   {
    "duration": 720,
    "start_time": "2024-04-17T04:08:30.692Z"
   },
   {
    "duration": 21,
    "start_time": "2024-04-17T04:08:31.414Z"
   },
   {
    "duration": 63,
    "start_time": "2024-04-17T04:08:31.437Z"
   },
   {
    "duration": 40,
    "start_time": "2024-04-17T04:08:31.501Z"
   },
   {
    "duration": 89,
    "start_time": "2024-04-17T04:08:31.543Z"
   },
   {
    "duration": 312,
    "start_time": "2024-04-17T04:08:31.634Z"
   },
   {
    "duration": 19,
    "start_time": "2024-04-17T04:08:31.947Z"
   },
   {
    "duration": 19,
    "start_time": "2024-04-17T04:08:31.981Z"
   },
   {
    "duration": 9,
    "start_time": "2024-04-17T04:08:32.001Z"
   },
   {
    "duration": 487,
    "start_time": "2024-04-17T04:08:32.011Z"
   },
   {
    "duration": 27,
    "start_time": "2024-04-17T04:08:32.499Z"
   },
   {
    "duration": 361,
    "start_time": "2024-04-17T04:08:32.527Z"
   },
   {
    "duration": 22,
    "start_time": "2024-04-17T04:08:32.896Z"
   },
   {
    "duration": 3,
    "start_time": "2024-04-17T04:08:32.920Z"
   },
   {
    "duration": 774,
    "start_time": "2024-04-17T04:08:32.925Z"
   },
   {
    "duration": 7,
    "start_time": "2024-04-17T04:08:33.700Z"
   },
   {
    "duration": 7,
    "start_time": "2024-04-17T04:08:33.708Z"
   },
   {
    "duration": 708,
    "start_time": "2024-04-17T04:08:33.717Z"
   },
   {
    "duration": 28,
    "start_time": "2024-04-17T04:08:34.427Z"
   },
   {
    "duration": 286,
    "start_time": "2024-04-17T04:08:34.464Z"
   },
   {
    "duration": 43,
    "start_time": "2024-04-17T04:08:34.751Z"
   },
   {
    "duration": 4,
    "start_time": "2024-04-17T04:08:34.795Z"
   },
   {
    "duration": 835,
    "start_time": "2024-04-17T04:08:34.801Z"
   },
   {
    "duration": 2671,
    "start_time": "2024-04-17T04:08:35.637Z"
   },
   {
    "duration": 111,
    "start_time": "2024-04-17T04:08:38.310Z"
   },
   {
    "duration": 0,
    "start_time": "2024-04-17T04:08:38.423Z"
   },
   {
    "duration": 8,
    "start_time": "2024-04-17T04:09:43.718Z"
   },
   {
    "duration": 2454,
    "start_time": "2024-04-17T04:10:34.733Z"
   },
   {
    "duration": 21,
    "start_time": "2024-04-17T04:10:37.469Z"
   },
   {
    "duration": 9,
    "start_time": "2024-04-17T04:10:54.597Z"
   },
   {
    "duration": 9,
    "start_time": "2024-04-17T04:14:40.097Z"
   },
   {
    "duration": 12,
    "start_time": "2024-04-17T04:15:16.378Z"
   },
   {
    "duration": 522,
    "start_time": "2024-04-17T04:16:40.874Z"
   },
   {
    "duration": 425,
    "start_time": "2024-04-17T04:17:06.377Z"
   },
   {
    "duration": 468,
    "start_time": "2024-04-17T04:17:29.929Z"
   },
   {
    "duration": 40,
    "start_time": "2024-04-17T04:18:58.743Z"
   },
   {
    "duration": 228,
    "start_time": "2024-04-17T04:23:04.150Z"
   },
   {
    "duration": 5,
    "start_time": "2024-04-17T04:24:11.749Z"
   },
   {
    "duration": 1027,
    "start_time": "2024-04-17T04:26:33.218Z"
   },
   {
    "duration": 466,
    "start_time": "2024-04-17T04:28:09.635Z"
   },
   {
    "duration": 21,
    "start_time": "2024-04-17T04:28:10.103Z"
   },
   {
    "duration": 14,
    "start_time": "2024-04-17T04:28:10.126Z"
   },
   {
    "duration": 10,
    "start_time": "2024-04-17T04:28:10.141Z"
   },
   {
    "duration": 58,
    "start_time": "2024-04-17T04:28:10.153Z"
   },
   {
    "duration": 3,
    "start_time": "2024-04-17T04:28:10.213Z"
   },
   {
    "duration": 21,
    "start_time": "2024-04-17T04:28:10.218Z"
   },
   {
    "duration": 5,
    "start_time": "2024-04-17T04:28:10.241Z"
   },
   {
    "duration": 31,
    "start_time": "2024-04-17T04:28:10.248Z"
   },
   {
    "duration": 8,
    "start_time": "2024-04-17T04:28:10.284Z"
   },
   {
    "duration": 76,
    "start_time": "2024-04-17T04:28:10.294Z"
   },
   {
    "duration": 17,
    "start_time": "2024-04-17T04:28:10.378Z"
   },
   {
    "duration": 8,
    "start_time": "2024-04-17T04:28:10.397Z"
   },
   {
    "duration": 12,
    "start_time": "2024-04-17T04:28:10.408Z"
   },
   {
    "duration": 21,
    "start_time": "2024-04-17T04:28:10.421Z"
   },
   {
    "duration": 35,
    "start_time": "2024-04-17T04:28:10.444Z"
   },
   {
    "duration": 4,
    "start_time": "2024-04-17T04:28:10.482Z"
   },
   {
    "duration": 12,
    "start_time": "2024-04-17T04:28:10.494Z"
   },
   {
    "duration": 5,
    "start_time": "2024-04-17T04:28:10.508Z"
   },
   {
    "duration": 7,
    "start_time": "2024-04-17T04:28:10.514Z"
   },
   {
    "duration": 9,
    "start_time": "2024-04-17T04:28:10.522Z"
   },
   {
    "duration": 745,
    "start_time": "2024-04-17T04:28:10.532Z"
   },
   {
    "duration": 18,
    "start_time": "2024-04-17T04:28:11.278Z"
   },
   {
    "duration": 34,
    "start_time": "2024-04-17T04:28:11.298Z"
   },
   {
    "duration": 652,
    "start_time": "2024-04-17T04:28:11.334Z"
   },
   {
    "duration": 49,
    "start_time": "2024-04-17T04:28:11.990Z"
   },
   {
    "duration": 5,
    "start_time": "2024-04-17T04:28:12.040Z"
   },
   {
    "duration": 37,
    "start_time": "2024-04-17T04:28:12.046Z"
   },
   {
    "duration": 6,
    "start_time": "2024-04-17T04:28:12.086Z"
   },
   {
    "duration": 628,
    "start_time": "2024-04-17T04:28:12.093Z"
   },
   {
    "duration": 17,
    "start_time": "2024-04-17T04:28:12.723Z"
   },
   {
    "duration": 31,
    "start_time": "2024-04-17T04:28:12.742Z"
   },
   {
    "duration": 19,
    "start_time": "2024-04-17T04:28:12.774Z"
   },
   {
    "duration": 9,
    "start_time": "2024-04-17T04:28:12.794Z"
   },
   {
    "duration": 257,
    "start_time": "2024-04-17T04:28:12.804Z"
   },
   {
    "duration": 17,
    "start_time": "2024-04-17T04:28:13.064Z"
   },
   {
    "duration": 15,
    "start_time": "2024-04-17T04:28:13.083Z"
   },
   {
    "duration": 16,
    "start_time": "2024-04-17T04:28:13.100Z"
   },
   {
    "duration": 498,
    "start_time": "2024-04-17T04:28:13.118Z"
   },
   {
    "duration": 27,
    "start_time": "2024-04-17T04:28:13.618Z"
   },
   {
    "duration": 350,
    "start_time": "2024-04-17T04:28:13.649Z"
   },
   {
    "duration": 23,
    "start_time": "2024-04-17T04:28:14.001Z"
   },
   {
    "duration": 4,
    "start_time": "2024-04-17T04:28:14.026Z"
   },
   {
    "duration": 740,
    "start_time": "2024-04-17T04:28:14.031Z"
   },
   {
    "duration": 25,
    "start_time": "2024-04-17T04:28:14.773Z"
   },
   {
    "duration": 12,
    "start_time": "2024-04-17T04:28:14.800Z"
   },
   {
    "duration": 599,
    "start_time": "2024-04-17T04:28:14.813Z"
   },
   {
    "duration": 26,
    "start_time": "2024-04-17T04:28:15.414Z"
   },
   {
    "duration": 273,
    "start_time": "2024-04-17T04:28:15.441Z"
   },
   {
    "duration": 23,
    "start_time": "2024-04-17T04:28:15.716Z"
   },
   {
    "duration": 4,
    "start_time": "2024-04-17T04:28:15.741Z"
   },
   {
    "duration": 889,
    "start_time": "2024-04-17T04:28:15.747Z"
   },
   {
    "duration": 8,
    "start_time": "2024-04-17T04:28:16.638Z"
   },
   {
    "duration": 21,
    "start_time": "2024-04-17T04:28:16.647Z"
   },
   {
    "duration": 422,
    "start_time": "2024-04-17T04:28:16.670Z"
   },
   {
    "duration": 29,
    "start_time": "2024-04-17T04:28:17.093Z"
   },
   {
    "duration": 226,
    "start_time": "2024-04-17T04:28:17.123Z"
   },
   {
    "duration": 4,
    "start_time": "2024-04-17T04:28:17.350Z"
   },
   {
    "duration": 987,
    "start_time": "2024-04-17T04:28:17.356Z"
   },
   {
    "duration": 521,
    "start_time": "2024-04-17T04:48:40.098Z"
   },
   {
    "duration": 20,
    "start_time": "2024-04-17T04:48:40.621Z"
   },
   {
    "duration": 26,
    "start_time": "2024-04-17T04:48:40.643Z"
   },
   {
    "duration": 15,
    "start_time": "2024-04-17T04:48:40.673Z"
   },
   {
    "duration": 37,
    "start_time": "2024-04-17T04:48:40.689Z"
   },
   {
    "duration": 3,
    "start_time": "2024-04-17T04:48:40.728Z"
   },
   {
    "duration": 11,
    "start_time": "2024-04-17T04:48:40.733Z"
   },
   {
    "duration": 14,
    "start_time": "2024-04-17T04:48:40.765Z"
   },
   {
    "duration": 18,
    "start_time": "2024-04-17T04:48:40.783Z"
   },
   {
    "duration": 4,
    "start_time": "2024-04-17T04:48:40.805Z"
   },
   {
    "duration": 49,
    "start_time": "2024-04-17T04:48:40.811Z"
   },
   {
    "duration": 24,
    "start_time": "2024-04-17T04:48:40.862Z"
   },
   {
    "duration": 4,
    "start_time": "2024-04-17T04:48:40.888Z"
   },
   {
    "duration": 18,
    "start_time": "2024-04-17T04:48:40.893Z"
   },
   {
    "duration": 19,
    "start_time": "2024-04-17T04:48:40.913Z"
   },
   {
    "duration": 41,
    "start_time": "2024-04-17T04:48:40.934Z"
   },
   {
    "duration": 8,
    "start_time": "2024-04-17T04:48:40.977Z"
   },
   {
    "duration": 24,
    "start_time": "2024-04-17T04:48:40.987Z"
   },
   {
    "duration": 8,
    "start_time": "2024-04-17T04:48:41.014Z"
   },
   {
    "duration": 3,
    "start_time": "2024-04-17T04:48:41.024Z"
   },
   {
    "duration": 14,
    "start_time": "2024-04-17T04:48:41.028Z"
   },
   {
    "duration": 796,
    "start_time": "2024-04-17T04:48:41.044Z"
   },
   {
    "duration": 14,
    "start_time": "2024-04-17T04:48:41.841Z"
   },
   {
    "duration": 52,
    "start_time": "2024-04-17T04:48:41.857Z"
   },
   {
    "duration": 591,
    "start_time": "2024-04-17T04:48:41.911Z"
   },
   {
    "duration": 44,
    "start_time": "2024-04-17T04:48:42.504Z"
   },
   {
    "duration": 24,
    "start_time": "2024-04-17T04:48:42.550Z"
   },
   {
    "duration": 14,
    "start_time": "2024-04-17T04:48:42.583Z"
   },
   {
    "duration": 5,
    "start_time": "2024-04-17T04:48:42.598Z"
   },
   {
    "duration": 602,
    "start_time": "2024-04-17T04:48:42.605Z"
   },
   {
    "duration": 20,
    "start_time": "2024-04-17T04:48:43.208Z"
   },
   {
    "duration": 24,
    "start_time": "2024-04-17T04:48:43.230Z"
   },
   {
    "duration": 19,
    "start_time": "2024-04-17T04:48:43.255Z"
   },
   {
    "duration": 12,
    "start_time": "2024-04-17T04:48:43.283Z"
   },
   {
    "duration": 294,
    "start_time": "2024-04-17T04:48:43.297Z"
   },
   {
    "duration": 9,
    "start_time": "2024-04-17T04:48:43.593Z"
   },
   {
    "duration": 13,
    "start_time": "2024-04-17T04:48:43.603Z"
   },
   {
    "duration": 12,
    "start_time": "2024-04-17T04:48:43.618Z"
   },
   {
    "duration": 447,
    "start_time": "2024-04-17T04:48:43.632Z"
   },
   {
    "duration": 36,
    "start_time": "2024-04-17T04:48:44.081Z"
   },
   {
    "duration": 314,
    "start_time": "2024-04-17T04:48:44.118Z"
   },
   {
    "duration": 22,
    "start_time": "2024-04-17T04:48:44.434Z"
   },
   {
    "duration": 15,
    "start_time": "2024-04-17T04:48:44.465Z"
   },
   {
    "duration": 748,
    "start_time": "2024-04-17T04:48:44.482Z"
   },
   {
    "duration": 9,
    "start_time": "2024-04-17T04:48:45.232Z"
   },
   {
    "duration": 31,
    "start_time": "2024-04-17T04:48:45.243Z"
   },
   {
    "duration": 618,
    "start_time": "2024-04-17T04:48:45.278Z"
   },
   {
    "duration": 25,
    "start_time": "2024-04-17T04:48:45.898Z"
   },
   {
    "duration": 261,
    "start_time": "2024-04-17T04:48:45.924Z"
   },
   {
    "duration": 26,
    "start_time": "2024-04-17T04:48:46.187Z"
   },
   {
    "duration": 4,
    "start_time": "2024-04-17T04:48:46.215Z"
   },
   {
    "duration": 927,
    "start_time": "2024-04-17T04:48:46.221Z"
   },
   {
    "duration": 8,
    "start_time": "2024-04-17T04:48:47.149Z"
   },
   {
    "duration": 13,
    "start_time": "2024-04-17T04:48:47.159Z"
   },
   {
    "duration": 447,
    "start_time": "2024-04-17T04:48:47.176Z"
   },
   {
    "duration": 57,
    "start_time": "2024-04-17T04:48:47.625Z"
   },
   {
    "duration": 241,
    "start_time": "2024-04-17T04:48:47.685Z"
   },
   {
    "duration": 4,
    "start_time": "2024-04-17T04:48:47.928Z"
   },
   {
    "duration": 993,
    "start_time": "2024-04-17T04:48:47.933Z"
   },
   {
    "duration": 498,
    "start_time": "2024-04-17T04:49:17.343Z"
   },
   {
    "duration": 25,
    "start_time": "2024-04-17T04:49:17.843Z"
   },
   {
    "duration": 28,
    "start_time": "2024-04-17T04:49:17.870Z"
   },
   {
    "duration": 13,
    "start_time": "2024-04-17T04:49:17.904Z"
   },
   {
    "duration": 60,
    "start_time": "2024-04-17T04:49:17.919Z"
   },
   {
    "duration": 6,
    "start_time": "2024-04-17T04:49:17.985Z"
   },
   {
    "duration": 8,
    "start_time": "2024-04-17T04:49:17.993Z"
   },
   {
    "duration": 9,
    "start_time": "2024-04-17T04:49:18.003Z"
   },
   {
    "duration": 9,
    "start_time": "2024-04-17T04:49:18.014Z"
   },
   {
    "duration": 5,
    "start_time": "2024-04-17T04:49:18.024Z"
   },
   {
    "duration": 60,
    "start_time": "2024-04-17T04:49:18.030Z"
   },
   {
    "duration": 9,
    "start_time": "2024-04-17T04:49:18.092Z"
   },
   {
    "duration": 3,
    "start_time": "2024-04-17T04:49:18.103Z"
   },
   {
    "duration": 15,
    "start_time": "2024-04-17T04:49:18.109Z"
   },
   {
    "duration": 21,
    "start_time": "2024-04-17T04:49:18.126Z"
   },
   {
    "duration": 41,
    "start_time": "2024-04-17T04:49:18.149Z"
   },
   {
    "duration": 4,
    "start_time": "2024-04-17T04:49:18.193Z"
   },
   {
    "duration": 32,
    "start_time": "2024-04-17T04:49:18.198Z"
   },
   {
    "duration": 8,
    "start_time": "2024-04-17T04:49:18.231Z"
   },
   {
    "duration": 3,
    "start_time": "2024-04-17T04:49:18.241Z"
   },
   {
    "duration": 12,
    "start_time": "2024-04-17T04:49:18.246Z"
   },
   {
    "duration": 758,
    "start_time": "2024-04-17T04:49:18.260Z"
   },
   {
    "duration": 15,
    "start_time": "2024-04-17T04:49:19.021Z"
   },
   {
    "duration": 59,
    "start_time": "2024-04-17T04:49:19.038Z"
   },
   {
    "duration": 654,
    "start_time": "2024-04-17T04:49:19.099Z"
   },
   {
    "duration": 63,
    "start_time": "2024-04-17T04:49:19.754Z"
   },
   {
    "duration": 5,
    "start_time": "2024-04-17T04:49:19.819Z"
   },
   {
    "duration": 21,
    "start_time": "2024-04-17T04:49:19.825Z"
   },
   {
    "duration": 4,
    "start_time": "2024-04-17T04:49:19.847Z"
   },
   {
    "duration": 656,
    "start_time": "2024-04-17T04:49:19.852Z"
   },
   {
    "duration": 18,
    "start_time": "2024-04-17T04:49:20.510Z"
   },
   {
    "duration": 22,
    "start_time": "2024-04-17T04:49:20.529Z"
   },
   {
    "duration": 21,
    "start_time": "2024-04-17T04:49:20.552Z"
   },
   {
    "duration": 31,
    "start_time": "2024-04-17T04:49:20.578Z"
   },
   {
    "duration": 289,
    "start_time": "2024-04-17T04:49:20.611Z"
   },
   {
    "duration": 10,
    "start_time": "2024-04-17T04:49:20.901Z"
   },
   {
    "duration": 14,
    "start_time": "2024-04-17T04:49:20.912Z"
   },
   {
    "duration": 10,
    "start_time": "2024-04-17T04:49:20.927Z"
   },
   {
    "duration": 463,
    "start_time": "2024-04-17T04:49:20.938Z"
   },
   {
    "duration": 29,
    "start_time": "2024-04-17T04:49:21.402Z"
   },
   {
    "duration": 362,
    "start_time": "2024-04-17T04:49:21.434Z"
   },
   {
    "duration": 32,
    "start_time": "2024-04-17T04:49:21.798Z"
   },
   {
    "duration": 5,
    "start_time": "2024-04-17T04:49:21.832Z"
   },
   {
    "duration": 796,
    "start_time": "2024-04-17T04:49:21.838Z"
   },
   {
    "duration": 7,
    "start_time": "2024-04-17T04:49:22.636Z"
   },
   {
    "duration": 28,
    "start_time": "2024-04-17T04:49:22.645Z"
   },
   {
    "duration": 530,
    "start_time": "2024-04-17T04:49:22.676Z"
   },
   {
    "duration": 27,
    "start_time": "2024-04-17T04:49:23.208Z"
   },
   {
    "duration": 273,
    "start_time": "2024-04-17T04:49:23.236Z"
   },
   {
    "duration": 24,
    "start_time": "2024-04-17T04:49:23.511Z"
   },
   {
    "duration": 5,
    "start_time": "2024-04-17T04:49:23.537Z"
   },
   {
    "duration": 921,
    "start_time": "2024-04-17T04:49:23.569Z"
   },
   {
    "duration": 8,
    "start_time": "2024-04-17T04:49:24.492Z"
   },
   {
    "duration": 9,
    "start_time": "2024-04-17T04:49:24.501Z"
   },
   {
    "duration": 506,
    "start_time": "2024-04-17T04:49:24.511Z"
   },
   {
    "duration": 29,
    "start_time": "2024-04-17T04:49:25.019Z"
   },
   {
    "duration": 262,
    "start_time": "2024-04-17T04:49:25.049Z"
   },
   {
    "duration": 4,
    "start_time": "2024-04-17T04:49:25.313Z"
   },
   {
    "duration": 1086,
    "start_time": "2024-04-17T04:49:25.319Z"
   },
   {
    "duration": 506,
    "start_time": "2024-04-17T05:07:04.934Z"
   },
   {
    "duration": 33,
    "start_time": "2024-04-17T05:07:05.442Z"
   },
   {
    "duration": 28,
    "start_time": "2024-04-17T05:07:05.477Z"
   },
   {
    "duration": 24,
    "start_time": "2024-04-17T05:07:05.508Z"
   },
   {
    "duration": 37,
    "start_time": "2024-04-17T05:07:05.534Z"
   },
   {
    "duration": 4,
    "start_time": "2024-04-17T05:07:05.580Z"
   },
   {
    "duration": 8,
    "start_time": "2024-04-17T05:07:05.586Z"
   },
   {
    "duration": 8,
    "start_time": "2024-04-17T05:07:05.596Z"
   },
   {
    "duration": 10,
    "start_time": "2024-04-17T05:07:05.605Z"
   },
   {
    "duration": 5,
    "start_time": "2024-04-17T05:07:05.617Z"
   },
   {
    "duration": 47,
    "start_time": "2024-04-17T05:07:05.623Z"
   },
   {
    "duration": 15,
    "start_time": "2024-04-17T05:07:05.680Z"
   },
   {
    "duration": 17,
    "start_time": "2024-04-17T05:07:05.696Z"
   },
   {
    "duration": 19,
    "start_time": "2024-04-17T05:07:05.715Z"
   },
   {
    "duration": 20,
    "start_time": "2024-04-17T05:07:05.736Z"
   },
   {
    "duration": 30,
    "start_time": "2024-04-17T05:07:05.757Z"
   },
   {
    "duration": 13,
    "start_time": "2024-04-17T05:07:05.789Z"
   },
   {
    "duration": 34,
    "start_time": "2024-04-17T05:07:05.803Z"
   },
   {
    "duration": 20,
    "start_time": "2024-04-17T05:07:05.838Z"
   },
   {
    "duration": 25,
    "start_time": "2024-04-17T05:07:05.860Z"
   },
   {
    "duration": 14,
    "start_time": "2024-04-17T05:07:05.886Z"
   },
   {
    "duration": 742,
    "start_time": "2024-04-17T05:07:05.902Z"
   },
   {
    "duration": 14,
    "start_time": "2024-04-17T05:07:06.645Z"
   },
   {
    "duration": 43,
    "start_time": "2024-04-17T05:07:06.669Z"
   },
   {
    "duration": 602,
    "start_time": "2024-04-17T05:07:06.714Z"
   },
   {
    "duration": 64,
    "start_time": "2024-04-17T05:07:07.318Z"
   },
   {
    "duration": 4,
    "start_time": "2024-04-17T05:07:07.384Z"
   },
   {
    "duration": 13,
    "start_time": "2024-04-17T05:07:07.391Z"
   },
   {
    "duration": 9,
    "start_time": "2024-04-17T05:07:07.405Z"
   },
   {
    "duration": 744,
    "start_time": "2024-04-17T05:07:07.415Z"
   },
   {
    "duration": 29,
    "start_time": "2024-04-17T05:07:08.161Z"
   },
   {
    "duration": 44,
    "start_time": "2024-04-17T05:07:08.191Z"
   },
   {
    "duration": 8,
    "start_time": "2024-04-17T05:07:08.237Z"
   },
   {
    "duration": 26,
    "start_time": "2024-04-17T05:07:08.247Z"
   },
   {
    "duration": 278,
    "start_time": "2024-04-17T05:07:08.275Z"
   },
   {
    "duration": 25,
    "start_time": "2024-04-17T05:07:08.555Z"
   },
   {
    "duration": 13,
    "start_time": "2024-04-17T05:07:08.582Z"
   },
   {
    "duration": 8,
    "start_time": "2024-04-17T05:07:08.597Z"
   },
   {
    "duration": 521,
    "start_time": "2024-04-17T05:07:08.606Z"
   },
   {
    "duration": 40,
    "start_time": "2024-04-17T05:07:09.129Z"
   },
   {
    "duration": 347,
    "start_time": "2024-04-17T05:07:09.173Z"
   },
   {
    "duration": 28,
    "start_time": "2024-04-17T05:07:09.522Z"
   },
   {
    "duration": 34,
    "start_time": "2024-04-17T05:07:09.552Z"
   },
   {
    "duration": 763,
    "start_time": "2024-04-17T05:07:09.595Z"
   },
   {
    "duration": 25,
    "start_time": "2024-04-17T05:07:10.359Z"
   },
   {
    "duration": 11,
    "start_time": "2024-04-17T05:07:10.386Z"
   },
   {
    "duration": 787,
    "start_time": "2024-04-17T05:07:10.399Z"
   },
   {
    "duration": 35,
    "start_time": "2024-04-17T05:07:11.188Z"
   },
   {
    "duration": 292,
    "start_time": "2024-04-17T05:07:11.225Z"
   },
   {
    "duration": 24,
    "start_time": "2024-04-17T05:07:11.518Z"
   },
   {
    "duration": 4,
    "start_time": "2024-04-17T05:07:11.543Z"
   },
   {
    "duration": 926,
    "start_time": "2024-04-17T05:07:11.548Z"
   },
   {
    "duration": 10,
    "start_time": "2024-04-17T05:07:12.476Z"
   },
   {
    "duration": 14,
    "start_time": "2024-04-17T05:07:12.488Z"
   },
   {
    "duration": 495,
    "start_time": "2024-04-17T05:07:12.503Z"
   },
   {
    "duration": 28,
    "start_time": "2024-04-17T05:07:13.000Z"
   },
   {
    "duration": 254,
    "start_time": "2024-04-17T05:07:13.030Z"
   },
   {
    "duration": 4,
    "start_time": "2024-04-17T05:07:13.286Z"
   },
   {
    "duration": 1022,
    "start_time": "2024-04-17T05:07:13.292Z"
   },
   {
    "duration": 695,
    "start_time": "2024-04-18T04:08:31.108Z"
   },
   {
    "duration": 22,
    "start_time": "2024-04-18T04:08:31.806Z"
   },
   {
    "duration": 75,
    "start_time": "2024-04-18T04:08:31.830Z"
   },
   {
    "duration": 21,
    "start_time": "2024-04-18T04:08:31.907Z"
   },
   {
    "duration": 37,
    "start_time": "2024-04-18T04:08:31.930Z"
   },
   {
    "duration": 4,
    "start_time": "2024-04-18T04:08:31.968Z"
   },
   {
    "duration": 22,
    "start_time": "2024-04-18T04:08:31.973Z"
   },
   {
    "duration": 5,
    "start_time": "2024-04-18T04:08:31.997Z"
   },
   {
    "duration": 7,
    "start_time": "2024-04-18T04:08:32.004Z"
   },
   {
    "duration": 13,
    "start_time": "2024-04-18T04:08:32.013Z"
   },
   {
    "duration": 71,
    "start_time": "2024-04-18T04:08:32.028Z"
   },
   {
    "duration": 15,
    "start_time": "2024-04-18T04:08:32.101Z"
   },
   {
    "duration": 4,
    "start_time": "2024-04-18T04:08:32.118Z"
   },
   {
    "duration": 15,
    "start_time": "2024-04-18T04:08:32.125Z"
   },
   {
    "duration": 48,
    "start_time": "2024-04-18T04:08:32.143Z"
   },
   {
    "duration": 21,
    "start_time": "2024-04-18T04:08:32.193Z"
   },
   {
    "duration": 5,
    "start_time": "2024-04-18T04:08:32.216Z"
   },
   {
    "duration": 12,
    "start_time": "2024-04-18T04:08:32.223Z"
   },
   {
    "duration": 8,
    "start_time": "2024-04-18T04:08:32.237Z"
   },
   {
    "duration": 4,
    "start_time": "2024-04-18T04:08:32.247Z"
   },
   {
    "duration": 11,
    "start_time": "2024-04-18T04:08:32.280Z"
   },
   {
    "duration": 1080,
    "start_time": "2024-04-18T04:08:32.293Z"
   },
   {
    "duration": 23,
    "start_time": "2024-04-18T04:08:33.375Z"
   },
   {
    "duration": 40,
    "start_time": "2024-04-18T04:08:33.399Z"
   },
   {
    "duration": 673,
    "start_time": "2024-04-18T04:08:33.441Z"
   },
   {
    "duration": 53,
    "start_time": "2024-04-18T04:08:34.116Z"
   },
   {
    "duration": 16,
    "start_time": "2024-04-18T04:08:34.170Z"
   },
   {
    "duration": 19,
    "start_time": "2024-04-18T04:08:34.189Z"
   },
   {
    "duration": 5,
    "start_time": "2024-04-18T04:08:34.210Z"
   },
   {
    "duration": 824,
    "start_time": "2024-04-18T04:08:34.217Z"
   },
   {
    "duration": 22,
    "start_time": "2024-04-18T04:08:35.042Z"
   },
   {
    "duration": 30,
    "start_time": "2024-04-18T04:08:35.066Z"
   },
   {
    "duration": 11,
    "start_time": "2024-04-18T04:08:35.099Z"
   },
   {
    "duration": 15,
    "start_time": "2024-04-18T04:08:35.111Z"
   },
   {
    "duration": 346,
    "start_time": "2024-04-18T04:08:35.128Z"
   },
   {
    "duration": 20,
    "start_time": "2024-04-18T04:08:35.475Z"
   },
   {
    "duration": 17,
    "start_time": "2024-04-18T04:08:35.497Z"
   },
   {
    "duration": 9,
    "start_time": "2024-04-18T04:08:35.516Z"
   },
   {
    "duration": 502,
    "start_time": "2024-04-18T04:08:35.527Z"
   },
   {
    "duration": 32,
    "start_time": "2024-04-18T04:08:36.032Z"
   },
   {
    "duration": 412,
    "start_time": "2024-04-18T04:08:36.080Z"
   },
   {
    "duration": 35,
    "start_time": "2024-04-18T04:08:36.495Z"
   },
   {
    "duration": 6,
    "start_time": "2024-04-18T04:08:36.532Z"
   },
   {
    "duration": 926,
    "start_time": "2024-04-18T04:08:36.541Z"
   },
   {
    "duration": 18,
    "start_time": "2024-04-18T04:08:37.469Z"
   },
   {
    "duration": 12,
    "start_time": "2024-04-18T04:08:37.489Z"
   },
   {
    "duration": 539,
    "start_time": "2024-04-18T04:08:37.503Z"
   },
   {
    "duration": 28,
    "start_time": "2024-04-18T04:08:38.044Z"
   },
   {
    "duration": 273,
    "start_time": "2024-04-18T04:08:38.073Z"
   },
   {
    "duration": 32,
    "start_time": "2024-04-18T04:08:38.348Z"
   },
   {
    "duration": 4,
    "start_time": "2024-04-18T04:08:38.382Z"
   },
   {
    "duration": 989,
    "start_time": "2024-04-18T04:08:38.388Z"
   },
   {
    "duration": 13,
    "start_time": "2024-04-18T04:08:39.380Z"
   },
   {
    "duration": 14,
    "start_time": "2024-04-18T04:08:39.395Z"
   },
   {
    "duration": 560,
    "start_time": "2024-04-18T04:08:39.411Z"
   },
   {
    "duration": 42,
    "start_time": "2024-04-18T04:08:39.979Z"
   },
   {
    "duration": 271,
    "start_time": "2024-04-18T04:08:40.023Z"
   },
   {
    "duration": 6,
    "start_time": "2024-04-18T04:08:40.296Z"
   },
   {
    "duration": 1119,
    "start_time": "2024-04-18T04:08:40.304Z"
   },
   {
    "duration": 511,
    "start_time": "2024-04-18T04:12:39.391Z"
   },
   {
    "duration": 24,
    "start_time": "2024-04-18T04:12:39.905Z"
   },
   {
    "duration": 16,
    "start_time": "2024-04-18T04:12:39.931Z"
   },
   {
    "duration": 11,
    "start_time": "2024-04-18T04:12:39.949Z"
   },
   {
    "duration": 49,
    "start_time": "2024-04-18T04:12:39.982Z"
   },
   {
    "duration": 3,
    "start_time": "2024-04-18T04:12:40.033Z"
   },
   {
    "duration": 15,
    "start_time": "2024-04-18T04:12:40.037Z"
   },
   {
    "duration": 20,
    "start_time": "2024-04-18T04:12:40.054Z"
   },
   {
    "duration": 16,
    "start_time": "2024-04-18T04:12:40.075Z"
   },
   {
    "duration": 6,
    "start_time": "2024-04-18T04:12:40.093Z"
   },
   {
    "duration": 39,
    "start_time": "2024-04-18T04:12:40.101Z"
   },
   {
    "duration": 39,
    "start_time": "2024-04-18T04:12:40.141Z"
   },
   {
    "duration": 4,
    "start_time": "2024-04-18T04:12:40.182Z"
   },
   {
    "duration": 13,
    "start_time": "2024-04-18T04:12:40.190Z"
   },
   {
    "duration": 30,
    "start_time": "2024-04-18T04:12:40.205Z"
   },
   {
    "duration": 19,
    "start_time": "2024-04-18T04:12:40.236Z"
   },
   {
    "duration": 5,
    "start_time": "2024-04-18T04:12:40.280Z"
   },
   {
    "duration": 24,
    "start_time": "2024-04-18T04:12:40.287Z"
   },
   {
    "duration": 6,
    "start_time": "2024-04-18T04:12:40.313Z"
   },
   {
    "duration": 6,
    "start_time": "2024-04-18T04:12:40.320Z"
   },
   {
    "duration": 15,
    "start_time": "2024-04-18T04:12:40.327Z"
   },
   {
    "duration": 917,
    "start_time": "2024-04-18T04:12:40.343Z"
   },
   {
    "duration": 13,
    "start_time": "2024-04-18T04:12:41.262Z"
   },
   {
    "duration": 49,
    "start_time": "2024-04-18T04:12:41.277Z"
   },
   {
    "duration": 387,
    "start_time": "2024-04-18T04:12:41.328Z"
   },
   {
    "duration": 64,
    "start_time": "2024-04-18T04:12:41.717Z"
   },
   {
    "duration": 8,
    "start_time": "2024-04-18T04:12:41.783Z"
   },
   {
    "duration": 13,
    "start_time": "2024-04-18T04:12:41.793Z"
   },
   {
    "duration": 15,
    "start_time": "2024-04-18T04:12:41.808Z"
   },
   {
    "duration": 776,
    "start_time": "2024-04-18T04:12:41.824Z"
   },
   {
    "duration": 22,
    "start_time": "2024-04-18T04:12:42.604Z"
   },
   {
    "duration": 18,
    "start_time": "2024-04-18T04:12:42.628Z"
   },
   {
    "duration": 11,
    "start_time": "2024-04-18T04:12:42.648Z"
   },
   {
    "duration": 17,
    "start_time": "2024-04-18T04:12:42.684Z"
   },
   {
    "duration": 335,
    "start_time": "2024-04-18T04:12:42.702Z"
   },
   {
    "duration": 12,
    "start_time": "2024-04-18T04:12:43.039Z"
   },
   {
    "duration": 31,
    "start_time": "2024-04-18T04:12:43.052Z"
   },
   {
    "duration": 17,
    "start_time": "2024-04-18T04:12:43.085Z"
   },
   {
    "duration": 267,
    "start_time": "2024-04-18T04:12:43.105Z"
   },
   {
    "duration": 47,
    "start_time": "2024-04-18T04:12:43.374Z"
   },
   {
    "duration": 379,
    "start_time": "2024-04-18T04:12:43.427Z"
   },
   {
    "duration": 26,
    "start_time": "2024-04-18T04:12:43.808Z"
   },
   {
    "duration": 22,
    "start_time": "2024-04-18T04:12:43.836Z"
   },
   {
    "duration": 893,
    "start_time": "2024-04-18T04:12:43.860Z"
   },
   {
    "duration": 8,
    "start_time": "2024-04-18T04:12:44.755Z"
   },
   {
    "duration": 32,
    "start_time": "2024-04-18T04:12:44.764Z"
   },
   {
    "duration": 325,
    "start_time": "2024-04-18T04:12:44.799Z"
   },
   {
    "duration": 29,
    "start_time": "2024-04-18T04:12:45.125Z"
   },
   {
    "duration": 282,
    "start_time": "2024-04-18T04:12:45.155Z"
   },
   {
    "duration": 25,
    "start_time": "2024-04-18T04:12:45.438Z"
   },
   {
    "duration": 33,
    "start_time": "2024-04-18T04:12:45.465Z"
   },
   {
    "duration": 1006,
    "start_time": "2024-04-18T04:12:45.500Z"
   },
   {
    "duration": 8,
    "start_time": "2024-04-18T04:12:46.508Z"
   },
   {
    "duration": 33,
    "start_time": "2024-04-18T04:12:46.518Z"
   },
   {
    "duration": 242,
    "start_time": "2024-04-18T04:12:46.554Z"
   },
   {
    "duration": 34,
    "start_time": "2024-04-18T04:12:46.798Z"
   },
   {
    "duration": 283,
    "start_time": "2024-04-18T04:12:46.833Z"
   },
   {
    "duration": 4,
    "start_time": "2024-04-18T04:12:47.118Z"
   },
   {
    "duration": 1151,
    "start_time": "2024-04-18T04:12:47.123Z"
   },
   {
    "duration": 633,
    "start_time": "2024-04-18T13:20:32.662Z"
   },
   {
    "duration": 31,
    "start_time": "2024-04-18T13:20:33.297Z"
   },
   {
    "duration": 15,
    "start_time": "2024-04-18T13:20:33.330Z"
   },
   {
    "duration": 10,
    "start_time": "2024-04-18T13:20:33.346Z"
   },
   {
    "duration": 64,
    "start_time": "2024-04-18T13:20:33.358Z"
   },
   {
    "duration": 3,
    "start_time": "2024-04-18T13:20:33.425Z"
   },
   {
    "duration": 9,
    "start_time": "2024-04-18T13:20:33.430Z"
   },
   {
    "duration": 4,
    "start_time": "2024-04-18T13:20:33.440Z"
   },
   {
    "duration": 6,
    "start_time": "2024-04-18T13:20:33.445Z"
   },
   {
    "duration": 5,
    "start_time": "2024-04-18T13:20:33.452Z"
   },
   {
    "duration": 56,
    "start_time": "2024-04-18T13:20:33.458Z"
   },
   {
    "duration": 16,
    "start_time": "2024-04-18T13:20:33.515Z"
   },
   {
    "duration": 3,
    "start_time": "2024-04-18T13:20:33.532Z"
   },
   {
    "duration": 18,
    "start_time": "2024-04-18T13:20:33.538Z"
   },
   {
    "duration": 18,
    "start_time": "2024-04-18T13:20:33.557Z"
   },
   {
    "duration": 34,
    "start_time": "2024-04-18T13:20:33.576Z"
   },
   {
    "duration": 8,
    "start_time": "2024-04-18T13:20:33.612Z"
   },
   {
    "duration": 13,
    "start_time": "2024-04-18T13:20:33.622Z"
   },
   {
    "duration": 5,
    "start_time": "2024-04-18T13:20:33.637Z"
   },
   {
    "duration": 3,
    "start_time": "2024-04-18T13:20:33.643Z"
   },
   {
    "duration": 12,
    "start_time": "2024-04-18T13:20:33.647Z"
   },
   {
    "duration": 1991,
    "start_time": "2024-04-18T13:20:33.660Z"
   },
   {
    "duration": 12,
    "start_time": "2024-04-18T13:20:35.653Z"
   },
   {
    "duration": 61,
    "start_time": "2024-04-18T13:20:35.666Z"
   },
   {
    "duration": 358,
    "start_time": "2024-04-18T13:20:35.728Z"
   },
   {
    "duration": 65,
    "start_time": "2024-04-18T13:20:36.088Z"
   },
   {
    "duration": 5,
    "start_time": "2024-04-18T13:20:36.155Z"
   },
   {
    "duration": 11,
    "start_time": "2024-04-18T13:20:36.162Z"
   },
   {
    "duration": 5,
    "start_time": "2024-04-18T13:20:36.174Z"
   },
   {
    "duration": 664,
    "start_time": "2024-04-18T13:20:36.217Z"
   },
   {
    "duration": 21,
    "start_time": "2024-04-18T13:20:36.882Z"
   },
   {
    "duration": 24,
    "start_time": "2024-04-18T13:20:36.904Z"
   },
   {
    "duration": 7,
    "start_time": "2024-04-18T13:20:36.930Z"
   },
   {
    "duration": 9,
    "start_time": "2024-04-18T13:20:36.939Z"
   },
   {
    "duration": 297,
    "start_time": "2024-04-18T13:20:36.949Z"
   },
   {
    "duration": 9,
    "start_time": "2024-04-18T13:20:37.247Z"
   },
   {
    "duration": 13,
    "start_time": "2024-04-18T13:20:37.257Z"
   },
   {
    "duration": 8,
    "start_time": "2024-04-18T13:20:37.271Z"
   },
   {
    "duration": 238,
    "start_time": "2024-04-18T13:20:37.300Z"
   },
   {
    "duration": 26,
    "start_time": "2024-04-18T13:20:37.539Z"
   },
   {
    "duration": 355,
    "start_time": "2024-04-18T13:20:37.569Z"
   },
   {
    "duration": 24,
    "start_time": "2024-04-18T13:20:37.925Z"
   },
   {
    "duration": 5,
    "start_time": "2024-04-18T13:20:37.950Z"
   },
   {
    "duration": 835,
    "start_time": "2024-04-18T13:20:37.956Z"
   },
   {
    "duration": 30,
    "start_time": "2024-04-18T13:20:38.792Z"
   },
   {
    "duration": 7,
    "start_time": "2024-04-18T13:20:38.824Z"
   },
   {
    "duration": 219,
    "start_time": "2024-04-18T13:20:38.832Z"
   },
   {
    "duration": 26,
    "start_time": "2024-04-18T13:20:39.052Z"
   },
   {
    "duration": 275,
    "start_time": "2024-04-18T13:20:39.079Z"
   },
   {
    "duration": 19,
    "start_time": "2024-04-18T13:20:39.356Z"
   },
   {
    "duration": 3,
    "start_time": "2024-04-18T13:20:39.377Z"
   },
   {
    "duration": 858,
    "start_time": "2024-04-18T13:20:39.381Z"
   },
   {
    "duration": 6,
    "start_time": "2024-04-18T13:20:40.241Z"
   },
   {
    "duration": 7,
    "start_time": "2024-04-18T13:20:40.249Z"
   },
   {
    "duration": 211,
    "start_time": "2024-04-18T13:20:40.257Z"
   },
   {
    "duration": 52,
    "start_time": "2024-04-18T13:20:40.470Z"
   },
   {
    "duration": 225,
    "start_time": "2024-04-18T13:20:40.524Z"
   },
   {
    "duration": 4,
    "start_time": "2024-04-18T13:20:40.750Z"
   },
   {
    "duration": 1000,
    "start_time": "2024-04-18T13:20:40.755Z"
   }
  ],
  "colab": {
   "name": "dpp_template_part2.ipynb",
   "provenance": []
  },
  "kernelspec": {
   "display_name": "Python 3 (ipykernel)",
   "language": "python",
   "name": "python3"
  },
  "language_info": {
   "codemirror_mode": {
    "name": "ipython",
    "version": 3
   },
   "file_extension": ".py",
   "mimetype": "text/x-python",
   "name": "python",
   "nbconvert_exporter": "python",
   "pygments_lexer": "ipython3",
   "version": "3.11.7"
  },
  "toc": {
   "base_numbering": 1,
   "nav_menu": {},
   "number_sections": true,
   "sideBar": true,
   "skip_h1_title": true,
   "title_cell": "Table of Contents",
   "title_sidebar": "Contents",
   "toc_cell": false,
   "toc_position": {},
   "toc_section_display": true,
   "toc_window_display": true
  }
 },
 "nbformat": 4,
 "nbformat_minor": 5
}
